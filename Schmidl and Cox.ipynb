{
 "cells": [
  {
   "cell_type": "code",
   "execution_count": 75,
   "metadata": {},
   "outputs": [],
   "source": [
    "import numpy as np\n",
    "import matplotlib.pyplot as plt\n",
    "import scipy\n",
    "from collections import defaultdict\n",
    "from to_import import *\n"
   ]
  },
  {
   "cell_type": "code",
   "execution_count": 76,
   "metadata": {},
   "outputs": [],
   "source": [
    "# Function to display something quickly\n",
    "def logPlot(y, f=0, title = \"\"):\n",
    "    plt.figure(f)\n",
    "    x = np.linspace(0, len(y), len(y))\n",
    "    plt.yscale('log')\n",
    "    plt.plot(x, y)\n",
    "    if title != \"\":\n",
    "        plt.title(title)\n",
    "    plt.show\n",
    "\n",
    "def fileToBinary(filename):\n",
    "    file = open(filename)\n",
    "    line = file.read().replace(\"\\n\", \" \")\n",
    "    file.close()\n",
    "    binary = '0' + bin(int.from_bytes(line.encode(), 'big'))[2:]\n",
    "    return binary\n",
    "\n",
    "# Take a sequence of bits and returns a sequence of QPSK symbols \n",
    "def qpsk(binary):\n",
    "    assert len(binary)%2 == 0, \"Binary string should have length multiple of 2\"\n",
    "    \n",
    "    #bits_per_symbol = 2\n",
    "    \n",
    "    symbols = []\n",
    "    for i in range(int(len(binary)/2)):\n",
    "        real = 1/math.sqrt(2)\n",
    "        imaginary = 1/math.sqrt(2)*1j\n",
    "        \n",
    "        index = i*2 #every 2 bits\n",
    "        if binary[index] == '1': \n",
    "            imaginary *= -1\n",
    "        \n",
    "        if binary[index+1] == '1': \n",
    "            real *= -1\n",
    "            \n",
    "        symbols.append(real + imaginary)\n",
    "        \n",
    "    return symbols\n",
    "\n",
    "def SchmidlCox(symbols):\n",
    "    output = []\n",
    "    for symbol in symbols:\n",
    "        output.append(symbol)\n",
    "        output.append(cmath.rect(0,0))\n",
    "    \n",
    "    return output\n",
    "        \n",
    "#Generate a sequence of zeros for a given duration\n",
    "def Pause(seconds):\n",
    "    return np.zeros(int(fs*seconds))\n",
    "    \n",
    "def scaleToAudible(array, volume = 100):\n",
    "    scale_factor = (2**15 - 1) * (volume/100)\n",
    "    scaled_array = np.int16(array/np.max(np.abs(array)) * scale_factor) #Scaling\n",
    "\n",
    "    return scaled_array\n",
    "\n",
    "def save_transmit2(tuple_to_send, play = False, location = 'default'):\n",
    "    \n",
    "    output = np.concatenate(tuple_to_send)\n",
    "    write('chirp_signal_4.wav', 44100, output)\n",
    "    print(\"Transmit signal is \", round(len(output)/fs, 2), \" seconds\")\n",
    "\n",
    "\n",
    "    if play:\n",
    "        recording = sd.playrec(output)\n",
    "        print('recording')\n",
    "        sd.wait()\n",
    "        write('recorded_data_' + location + '.wav', fs, recording)\n",
    "\n",
    "    return output\n",
    "\n",
    "def audioDataFromFile(filename):\n",
    "    data, fs = sf.read(filename, dtype='float32')  \n",
    "    return data\n",
    "\n",
    "def ofdmSymbols(symbols, min_freq, max_freq, N, K):\n",
    "    \n",
    "    front_padding = []\n",
    "    end_padding = []\n",
    "    last_padding = []\n",
    "    ofdm_symbols = np.asarray([])\n",
    "    \n",
    "    for i in range(min_freq):\n",
    "        front_padding.append(cmath.rect(1,0))\n",
    "    \n",
    "    for i in range(int(N/2-1) - max_freq):\n",
    "        end_padding.append(cmath.rect(1,0))\n",
    "        \n",
    "    number_of_ofdm_symbols = len(symbols) // (max_freq-min_freq)\n",
    "    last_ofdm_symbol_length = len(symbols) - (max_freq-min_freq)*(number_of_ofdm_symbols - 1)\n",
    "    \n",
    "    for i in range(int(N/2-1) - (min_freq+last_ofdm_symbol_length)):\n",
    "        last_padding.append(cmath.rect(1,0))\n",
    "        \n",
    "    for i in range(number_of_ofdm_symbols):\n",
    "        info = symbols[i * (max_freq-min_freq) : (i+1) * (max_freq-min_freq)]\n",
    "        data = np.asarray(front_padding + info + end_padding)\n",
    "        if i == number_of_ofdm_symbols - 1:\n",
    "            info = symbols[i * (max_freq-min_freq) :]\n",
    "            data = np.asarray(front_padding + info + last_padding)\n",
    "        data_reverse_conjugate = data[::-1].conjugate()\n",
    "                   \n",
    "        ofdm_payload = np.concatenate(([0], data, [0], data_reverse_conjugate))\n",
    "        ofdm_payload = ifft(ofdm_payload).real\n",
    "        CP = ofdm_payload[-1*K:]\n",
    "        ofdm_symbol = np.concatenate((CP, ofdm_payload, Pause(0.05)))\n",
    "                                       \n",
    "        ofdm_symbols = np.concatenate((ofdm_symbols, ofdm_symbol))\n",
    "    \n",
    "    return scaleToAudible(np.asarray(ofdm_symbols), volume = 20), number_of_ofdm_symbols\n",
    "\n",
    "def getM(y, L):\n",
    "    window = np.concatenate(([1], np.zeros(l-2), [-1]))\n",
    "    P = scipy.signal.lfilter(window, (1, -1), y[:-L].conj() * y[L:]) / L\n",
    "    R = scipy.signal.lfilter(window, (1, -1), abs(y[:-L]**2)) / L\n",
    "    # throw away first L samples\n",
    "    P = P[L:]\n",
    "    R = R[L:]\n",
    "    M = abs(P/R)**2\n",
    "    return M  \n"
   ]
  },
  {
   "cell_type": "code",
   "execution_count": 77,
   "metadata": {},
   "outputs": [],
   "source": [
    "N = 1024 # DFT length\n",
    "K = 512 # CP length\n",
    "F = 5 # number of ofdm symbols per frame\n",
    "L = N//2 \n",
    "min_freq = 0\n",
    "max_freq = 512\n",
    "location = 'chair'\n",
    "sd.default.samplerate = fs  # Sample rate\n",
    "sd.default.channels = 1"
   ]
  },
  {
   "cell_type": "code",
   "execution_count": 78,
   "metadata": {},
   "outputs": [
    {
     "name": "stdout",
     "output_type": "stream",
     "text": [
      "Transmit signal is  4.63  seconds\n",
      "recording\n"
     ]
    },
    {
     "data": {
      "image/png": "[encoded data removed]",
      "text/plain": [
       "<Figure size 432x288 with 1 Axes>"
      ]
     },
     "metadata": {
      "needs_background": "light"
     },
     "output_type": "display_data"
    }
   ],
   "source": [
    "binary = fileToBinary('Data_Files/Holiday.txt')\n",
    "symbols = qpsk(binary)\n",
    "symbols = SchmidlCox(symbols)#[:511]\n",
    "ofdm_symbols, number_of_ofdm_symbols = ofdmSymbols(symbols, min_freq, max_freq, N, K)\n",
    "x = save_transmit2((Pause(1), ofdm_symbols, Pause(2)), True, location)\n",
    "logPlot(x)"
   ]
  },
  {
   "cell_type": "code",
   "execution_count": 106,
   "metadata": {},
   "outputs": [
    {
     "name": "stderr",
     "output_type": "stream",
     "text": [
      "<ipython-input-76-03489bc60ad8>:120: RuntimeWarning: invalid value encountered in true_divide\n",
      "  M = abs(P/R)**2\n",
      "<ipython-input-106-c5c7f1f87b79>:7: RuntimeWarning: invalid value encountered in less_equal\n",
      "  zeroCrossing = ((D[:-1] * D[1:]) <= 0) * (M[1:-1] > 100)\n",
      "<ipython-input-106-c5c7f1f87b79>:7: RuntimeWarning: invalid value encountered in greater\n",
      "  zeroCrossing = ((D[:-1] * D[1:]) <= 0) * (M[1:-1] > 100)\n"
     ]
    },
    {
     "data": {
      "text/plain": [
       "[<matplotlib.lines.Line2D at 0x1ee0f2610>]"
      ]
     },
     "execution_count": 106,
     "metadata": {},
     "output_type": "execute_result"
    },
    {
     "data": {
      "image/png": "[encoded data removed]",
      "text/plain": [
       "<Figure size 432x288 with 1 Axes>"
      ]
     },
     "metadata": {
      "needs_background": "light"
     },
     "output_type": "display_data"
    }
   ],
   "source": [
    "y = audioDataFromFile('recorded_data_' + location + '.wav')\n",
    "# calculate metric M\n",
    "M = getM(y, L)\n",
    "# detect peak of M\n",
    "M_filt = np.convolve(M, np.ones(K) / K, 'same')\n",
    "D = np.diff(M_filt)\n",
    "zeroCrossing = ((D[:-1] * D[1:]) <= 0) * (M[1:-1] > 100)\n",
    "plt.yscale('log')\n",
    "plt.plot(abs(y), color='cyan')\n",
    "plt.plot(zeroCrossing)"
   ]
  },
  {
   "cell_type": "code",
   "execution_count": 107,
   "metadata": {},
   "outputs": [
    {
     "data": {
      "text/plain": [
       "[<matplotlib.lines.Line2D at 0x1ef6ba460>]"
      ]
     },
     "execution_count": 107,
     "metadata": {},
     "output_type": "execute_result"
    },
    {
     "data": {
      "image/png": "[encoded data removed]",
      "text/plain": [
       "<Figure size 432x288 with 1 Axes>"
      ]
     },
     "metadata": {
      "needs_background": "light"
     },
     "output_type": "display_data"
    }
   ],
   "source": [
    "b_ignore = np.ones(1+N+K); b_ignore[0] = 0;  \n",
    "ignore_times = (scipy.signal.lfilter(b_ignore, (1, ), zeroCrossing) > 0).astype(int)\n",
    "start = zeroCrossing * (ignore_times == 0)   # keep only the zero-crossings where the ignore-window is not on\n",
    "plt.yscale('log')\n",
    "plt.plot(abs(y), color='cyan')\n",
    "plt.plot(start)"
   ]
  },
  {
   "cell_type": "code",
   "execution_count": null,
   "metadata": {},
   "outputs": [],
   "source": []
  }
 ],
 "metadata": {
  "kernelspec": {
   "display_name": "Python 3",
   "language": "python",
   "name": "python3"
  },
  "language_info": {
   "codemirror_mode": {
    "name": "ipython",
    "version": 3
   },
   "file_extension": ".py",
   "mimetype": "text/x-python",
   "name": "python",
   "nbconvert_exporter": "python",
   "pygments_lexer": "ipython3",
   "version": "3.8.1"
  }
 },
 "nbformat": 4,
 "nbformat_minor": 4
}
