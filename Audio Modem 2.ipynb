{
 "cells": [
  {
   "cell_type": "code",
   "execution_count": 1,
   "metadata": {},
   "outputs": [],
   "source": [
    "from audioFunctions import *\n",
    "from binaryFunctions import *\n",
    "from qam import *\n",
    "from sequenceGenerators import *\n",
    "from receiver import *\n",
    "from error_coding import *\n",
    "from to_import import *"
   ]
  },
  {
   "cell_type": "code",
   "execution_count": 2,
   "metadata": {},
   "outputs": [],
   "source": [
    "CE_binary = binaryTextFileToBinary('Data_Files/random_bits.txt')\n",
    "#binary = fileToBinary('Data_Files/kokoro_text.txt')\n",
    "binary = binaryTextFileToBinary('Data_Files/kokoro_bin.txt')\n",
    "\n",
    "CE_symbols = qpsk(CE_binary)\n",
    "coded_binary = Hamming74(binary)"
   ]
  },
  {
   "cell_type": "code",
   "execution_count": 3,
   "metadata": {},
   "outputs": [],
   "source": [
    "# Set the parameters for transmission\n",
    "CP = 704 \n",
    "N = 4096\n",
    "guard = 5\n",
    "CE_repeat = 20\n",
    "\n",
    "frame_data_length = 180"
   ]
  },
  {
   "cell_type": "code",
   "execution_count": 4,
   "metadata": {},
   "outputs": [
    {
     "data": {
      "image/png": "[encoded data removed]",
      "text/plain": [
       "<Figure size 432x288 with 1 Axes>"
      ]
     },
     "metadata": {
      "needs_background": "light"
     },
     "output_type": "display_data"
    }
   ],
   "source": [
    "# Make your instructions\n",
    "instruction = []\n",
    "for i in range(2047):\n",
    "    if i <150000:\n",
    "        instruction.append(1)\n",
    "    else: \n",
    "        instruction.append(0)\n",
    "plot_y(instruction)"
   ]
  },
  {
   "cell_type": "code",
   "execution_count": 5,
   "metadata": {},
   "outputs": [
    {
     "name": "stdout",
     "output_type": "stream",
     "text": [
      "bitcount 4094\n",
      "additional  3396\n",
      "data length  5580820\n",
      "new data len  5584216\n",
      "symbol number 1 is done.\n",
      "symbol number 2 is done.\n",
      "symbol number 3 is done.\n",
      "symbol number 4 is done.\n",
      "symbol number 5 is done.\n",
      "symbol number 6 is done.\n",
      "symbol number 7 is done.\n",
      "symbol number 8 is done.\n",
      "symbol number 9 is done.\n",
      "symbol number 10 is done.\n",
      "symbol number 11 is done.\n",
      "symbol number 12 is done.\n",
      "symbol number 13 is done.\n",
      "symbol number 14 is done.\n",
      "symbol number 15 is done.\n",
      "symbol number 16 is done.\n",
      "symbol number 17 is done.\n",
      "symbol number 18 is done.\n",
      "symbol number 19 is done.\n",
      "symbol number 20 is done.\n",
      "symbol number 21 is done.\n",
      "symbol number 22 is done.\n",
      "symbol number 23 is done.\n",
      "symbol number 24 is done.\n",
      "symbol number 25 is done.\n",
      "symbol number 26 is done.\n",
      "symbol number 27 is done.\n",
      "symbol number 28 is done.\n",
      "symbol number 29 is done.\n",
      "symbol number 30 is done.\n",
      "symbol number 31 is done.\n",
      "symbol number 32 is done.\n",
      "symbol number 33 is done.\n",
      "symbol number 34 is done.\n",
      "symbol number 35 is done.\n",
      "symbol number 36 is done.\n",
      "symbol number 37 is done.\n",
      "symbol number 38 is done.\n",
      "symbol number 39 is done.\n",
      "symbol number 40 is done.\n",
      "symbol number 41 is done.\n",
      "symbol number 42 is done.\n",
      "symbol number 43 is done.\n",
      "symbol number 44 is done.\n",
      "symbol number 45 is done.\n",
      "symbol number 46 is done.\n",
      "symbol number 47 is done.\n",
      "symbol number 48 is done.\n",
      "symbol number 49 is done.\n",
      "symbol number 50 is done.\n",
      "symbol number 51 is done.\n",
      "symbol number 52 is done.\n",
      "symbol number 53 is done.\n",
      "symbol number 54 is done.\n",
      "symbol number 55 is done.\n",
      "symbol number 56 is done.\n",
      "symbol number 57 is done.\n",
      "symbol number 58 is done.\n",
      "symbol number 59 is done.\n",
      "symbol number 60 is done.\n",
      "symbol number 61 is done.\n",
      "symbol number 62 is done.\n",
      "symbol number 63 is done.\n",
      "symbol number 64 is done.\n",
      "symbol number 65 is done.\n",
      "symbol number 66 is done.\n",
      "symbol number 67 is done.\n",
      "symbol number 68 is done.\n",
      "symbol number 69 is done.\n",
      "symbol number 70 is done.\n",
      "symbol number 71 is done.\n",
      "symbol number 72 is done.\n",
      "symbol number 73 is done.\n",
      "symbol number 74 is done.\n",
      "symbol number 75 is done.\n",
      "symbol number 76 is done.\n",
      "symbol number 77 is done.\n",
      "symbol number 78 is done.\n",
      "symbol number 79 is done.\n",
      "symbol number 80 is done.\n",
      "symbol number 81 is done.\n",
      "symbol number 82 is done.\n",
      "symbol number 83 is done.\n",
      "symbol number 84 is done.\n",
      "symbol number 85 is done.\n",
      "symbol number 86 is done.\n",
      "symbol number 87 is done.\n",
      "symbol number 88 is done.\n",
      "symbol number 89 is done.\n",
      "symbol number 90 is done.\n",
      "symbol number 91 is done.\n",
      "symbol number 92 is done.\n",
      "symbol number 93 is done.\n",
      "symbol number 94 is done.\n",
      "symbol number 95 is done.\n",
      "symbol number 96 is done.\n",
      "symbol number 97 is done.\n",
      "symbol number 98 is done.\n",
      "symbol number 99 is done.\n",
      "symbol number 100 is done.\n",
      "symbol number 101 is done.\n",
      "symbol number 102 is done.\n",
      "symbol number 103 is done.\n",
      "symbol number 104 is done.\n",
      "symbol number 105 is done.\n",
      "symbol number 106 is done.\n",
      "symbol number 107 is done.\n",
      "symbol number 108 is done.\n",
      "symbol number 109 is done.\n",
      "symbol number 110 is done.\n",
      "symbol number 111 is done.\n",
      "symbol number 112 is done.\n",
      "symbol number 113 is done.\n",
      "symbol number 114 is done.\n",
      "symbol number 115 is done.\n",
      "symbol number 116 is done.\n",
      "symbol number 117 is done.\n",
      "symbol number 118 is done.\n",
      "symbol number 119 is done.\n",
      "symbol number 120 is done.\n",
      "symbol number 121 is done.\n",
      "symbol number 122 is done.\n",
      "symbol number 123 is done.\n",
      "symbol number 124 is done.\n",
      "symbol number 125 is done.\n",
      "symbol number 126 is done.\n",
      "symbol number 127 is done.\n",
      "symbol number 128 is done.\n",
      "symbol number 129 is done.\n",
      "symbol number 130 is done.\n",
      "symbol number 131 is done.\n",
      "symbol number 132 is done.\n",
      "symbol number 133 is done.\n",
      "symbol number 134 is done.\n",
      "symbol number 135 is done.\n",
      "symbol number 136 is done.\n",
      "symbol number 137 is done.\n",
      "symbol number 138 is done.\n",
      "symbol number 139 is done.\n",
      "symbol number 140 is done.\n",
      "symbol number 141 is done.\n",
      "symbol number 142 is done.\n",
      "symbol number 143 is done.\n",
      "symbol number 144 is done.\n",
      "symbol number 145 is done.\n",
      "symbol number 146 is done.\n",
      "symbol number 147 is done.\n",
      "symbol number 148 is done.\n",
      "symbol number 149 is done.\n",
      "symbol number 150 is done.\n",
      "symbol number 151 is done.\n",
      "symbol number 152 is done.\n",
      "symbol number 153 is done.\n",
      "symbol number 154 is done.\n",
      "symbol number 155 is done.\n",
      "symbol number 156 is done.\n",
      "symbol number 157 is done.\n",
      "symbol number 158 is done.\n",
      "symbol number 159 is done.\n",
      "symbol number 160 is done.\n",
      "symbol number 161 is done.\n",
      "symbol number 162 is done.\n",
      "symbol number 163 is done.\n",
      "symbol number 164 is done.\n",
      "symbol number 165 is done.\n",
      "symbol number 166 is done.\n",
      "symbol number 167 is done.\n",
      "symbol number 168 is done.\n",
      "symbol number 169 is done.\n",
      "symbol number 170 is done.\n",
      "symbol number 171 is done.\n",
      "symbol number 172 is done.\n",
      "symbol number 173 is done.\n",
      "symbol number 174 is done.\n",
      "symbol number 175 is done.\n",
      "symbol number 176 is done.\n",
      "symbol number 177 is done.\n",
      "symbol number 178 is done.\n",
      "symbol number 179 is done.\n",
      "symbol number 180 is done.\n",
      "symbol number 181 is done.\n",
      "symbol number 182 is done.\n",
      "symbol number 183 is done.\n",
      "symbol number 184 is done.\n",
      "symbol number 185 is done.\n",
      "symbol number 186 is done.\n",
      "symbol number 187 is done.\n",
      "symbol number 188 is done.\n",
      "symbol number 189 is done.\n",
      "symbol number 190 is done.\n",
      "symbol number 191 is done.\n",
      "symbol number 192 is done.\n",
      "symbol number 193 is done.\n",
      "symbol number 194 is done.\n",
      "symbol number 195 is done.\n",
      "symbol number 196 is done.\n",
      "symbol number 197 is done.\n",
      "symbol number 198 is done.\n",
      "symbol number 199 is done.\n",
      "symbol number 200 is done.\n",
      "symbol number 201 is done.\n",
      "symbol number 202 is done.\n",
      "symbol number 203 is done.\n",
      "symbol number 204 is done.\n",
      "symbol number 205 is done.\n",
      "symbol number 206 is done.\n",
      "symbol number 207 is done.\n",
      "symbol number 208 is done.\n",
      "symbol number 209 is done.\n",
      "symbol number 210 is done.\n",
      "symbol number 211 is done.\n",
      "symbol number 212 is done.\n",
      "symbol number 213 is done.\n",
      "symbol number 214 is done.\n",
      "symbol number 215 is done.\n",
      "symbol number 216 is done.\n",
      "symbol number 217 is done.\n",
      "symbol number 218 is done.\n",
      "symbol number 219 is done.\n",
      "symbol number 220 is done.\n",
      "symbol number 221 is done.\n",
      "symbol number 222 is done.\n",
      "symbol number 223 is done.\n",
      "symbol number 224 is done.\n",
      "symbol number 225 is done.\n",
      "symbol number 226 is done.\n",
      "symbol number 227 is done.\n",
      "symbol number 228 is done.\n",
      "symbol number 229 is done.\n",
      "symbol number 230 is done.\n",
      "symbol number 231 is done.\n",
      "symbol number 232 is done.\n",
      "symbol number 233 is done.\n",
      "symbol number 234 is done.\n",
      "symbol number 235 is done.\n",
      "symbol number 236 is done.\n",
      "symbol number 237 is done.\n",
      "symbol number 238 is done.\n",
      "symbol number 239 is done.\n",
      "symbol number 240 is done.\n",
      "symbol number 241 is done.\n",
      "symbol number 242 is done.\n",
      "symbol number 243 is done.\n",
      "symbol number 244 is done.\n",
      "symbol number 245 is done.\n",
      "symbol number 246 is done.\n",
      "symbol number 247 is done.\n",
      "symbol number 248 is done.\n",
      "symbol number 249 is done.\n",
      "symbol number 250 is done.\n",
      "symbol number 251 is done.\n",
      "symbol number 252 is done.\n",
      "symbol number 253 is done.\n",
      "symbol number 254 is done.\n",
      "symbol number 255 is done.\n",
      "symbol number 256 is done.\n",
      "symbol number 257 is done.\n",
      "symbol number 258 is done.\n",
      "symbol number 259 is done.\n",
      "symbol number 260 is done.\n",
      "symbol number 261 is done.\n",
      "symbol number 262 is done.\n",
      "symbol number 263 is done.\n",
      "symbol number 264 is done.\n",
      "symbol number 265 is done.\n",
      "symbol number 266 is done.\n",
      "symbol number 267 is done.\n",
      "symbol number 268 is done.\n",
      "symbol number 269 is done.\n",
      "symbol number 270 is done.\n",
      "symbol number 271 is done.\n",
      "symbol number 272 is done.\n",
      "symbol number 273 is done.\n",
      "symbol number 274 is done.\n",
      "symbol number 275 is done.\n",
      "symbol number 276 is done.\n",
      "symbol number 277 is done.\n",
      "symbol number 278 is done.\n",
      "symbol number 279 is done.\n",
      "symbol number 280 is done.\n",
      "symbol number 281 is done.\n",
      "symbol number 282 is done.\n",
      "symbol number 283 is done.\n",
      "symbol number 284 is done.\n",
      "symbol number 285 is done.\n",
      "symbol number 286 is done.\n",
      "symbol number 287 is done.\n",
      "symbol number 288 is done.\n",
      "symbol number 289 is done.\n",
      "symbol number 290 is done.\n",
      "symbol number 291 is done.\n",
      "symbol number 292 is done.\n",
      "symbol number 293 is done.\n",
      "symbol number 294 is done.\n",
      "symbol number 295 is done.\n",
      "symbol number 296 is done.\n",
      "symbol number 297 is done.\n",
      "symbol number 298 is done.\n",
      "symbol number 299 is done.\n",
      "symbol number 300 is done.\n",
      "symbol number 301 is done.\n",
      "symbol number 302 is done.\n",
      "symbol number 303 is done.\n",
      "symbol number 304 is done.\n",
      "symbol number 305 is done.\n"
     ]
    },
    {
     "name": "stdout",
     "output_type": "stream",
     "text": [
      "symbol number 306 is done.\n",
      "symbol number 307 is done.\n",
      "symbol number 308 is done.\n",
      "symbol number 309 is done.\n",
      "symbol number 310 is done.\n",
      "symbol number 311 is done.\n",
      "symbol number 312 is done.\n",
      "symbol number 313 is done.\n",
      "symbol number 314 is done.\n",
      "symbol number 315 is done.\n",
      "symbol number 316 is done.\n",
      "symbol number 317 is done.\n",
      "symbol number 318 is done.\n",
      "symbol number 319 is done.\n",
      "symbol number 320 is done.\n",
      "symbol number 321 is done.\n",
      "symbol number 322 is done.\n",
      "symbol number 323 is done.\n",
      "symbol number 324 is done.\n",
      "symbol number 325 is done.\n",
      "symbol number 326 is done.\n",
      "symbol number 327 is done.\n",
      "symbol number 328 is done.\n",
      "symbol number 329 is done.\n",
      "symbol number 330 is done.\n",
      "symbol number 331 is done.\n",
      "symbol number 332 is done.\n",
      "symbol number 333 is done.\n",
      "symbol number 334 is done.\n",
      "symbol number 335 is done.\n",
      "symbol number 336 is done.\n",
      "symbol number 337 is done.\n",
      "symbol number 338 is done.\n",
      "symbol number 339 is done.\n",
      "symbol number 340 is done.\n",
      "symbol number 341 is done.\n",
      "symbol number 342 is done.\n",
      "symbol number 343 is done.\n",
      "symbol number 344 is done.\n",
      "symbol number 345 is done.\n",
      "symbol number 346 is done.\n",
      "symbol number 347 is done.\n",
      "symbol number 348 is done.\n",
      "symbol number 349 is done.\n",
      "symbol number 350 is done.\n",
      "symbol number 351 is done.\n",
      "symbol number 352 is done.\n",
      "symbol number 353 is done.\n",
      "symbol number 354 is done.\n",
      "symbol number 355 is done.\n",
      "symbol number 356 is done.\n",
      "symbol number 357 is done.\n",
      "symbol number 358 is done.\n",
      "symbol number 359 is done.\n",
      "symbol number 360 is done.\n"
     ]
    }
   ],
   "source": [
    "symbols = varyingModulation_std(coded_binary,instruction, N, CE_binary, 360)\n",
    "#symbols_verify = qpsk(coded_binary)"
   ]
  },
  {
   "cell_type": "code",
   "execution_count": 6,
   "metadata": {},
   "outputs": [],
   "source": [
    "# So far this works the best at estimating the location... \n",
    "chirp_signal = Chirp(500,20500,1, volume = 100)"
   ]
  },
  {
   "cell_type": "code",
   "execution_count": 7,
   "metadata": {},
   "outputs": [
    {
     "name": "stdout",
     "output_type": "stream",
     "text": [
      "736920\n"
     ]
    }
   ],
   "source": [
    "print(len(symbols))"
   ]
  },
  {
   "cell_type": "code",
   "execution_count": 8,
   "metadata": {},
   "outputs": [
    {
     "name": "stdout",
     "output_type": "stream",
     "text": [
      "(3, 4800)\n",
      "360 180\n",
      "3\n"
     ]
    }
   ],
   "source": [
    "# For channel esimation (CE)\n",
    "\n",
    "# prepare channel esitimation data to be transmitted \n",
    "CE_Time, CE_Freq = ofdmSymbols(CE_symbols, CP, N)\n",
    "print(CE_Time.shape)\n",
    "\n",
    "\n",
    "## THIS IS WHERE I NEED TO INCLUDE KISEKI's FUNCTION\n",
    "\n",
    "Payload_Time, Payload_Freq = ofdmSymbols(symbols, CP, N)\n",
    "\n",
    "\n",
    "\n",
    "extra = frame_data_length - len(Payload_Time)%frame_data_length\n",
    "print(len(Payload_Time), extra)\n",
    "for i in range(extra):\n",
    "    Payload_Time = np.concatenate((Payload_Time, [CE_Time[1]]))\n",
    "    \n",
    "num_of_frames = int(len(Payload_Time)/frame_data_length)\n",
    "\n",
    "print(num_of_frames)"
   ]
  },
  {
   "cell_type": "code",
   "execution_count": 9,
   "metadata": {},
   "outputs": [],
   "source": [
    "# Prepare what to transmit\n",
    "\n",
    "# Channel estimation at the beginning\n",
    "CE_transmit = repeat_signal(CE_Time[0], CE_repeat)\n",
    "known_freq = CE_Freq[0]\n",
    "\n",
    "# Payload mixed with CE symbols distributed between them\n",
    "Payload = prepare_payload_std(Payload_Time, CE_transmit, chirp_signal, num_of_frames, frame_data_length)\n",
    "\n",
    "num_of_frames = 2\n",
    "Payload = Payload[:num_of_frames]"
   ]
  },
  {
   "cell_type": "code",
   "execution_count": 10,
   "metadata": {},
   "outputs": [
    {
     "name": "stdout",
     "output_type": "stream",
     "text": [
      "Transmit signal is  46.0  seconds\n"
     ]
    }
   ],
   "source": [
    "x = save_transmit( tuple(Payload) , playOutput=False)\n",
    "print(\"Transmit signal is \", round(len(x)/fs, 2), \" seconds\")"
   ]
  },
  {
   "cell_type": "code",
   "execution_count": 11,
   "metadata": {},
   "outputs": [
    {
     "name": "stdout",
     "output_type": "stream",
     "text": [
      "param  [-0.00742644  6.27147075]\n",
      "param  [-0.00766976 -0.00990209]\n"
     ]
    }
   ],
   "source": [
    "y = audioDataFromFile('Wav_Files/long_recording.wav')\n",
    "\n",
    "\n",
    "data_index_length = frame_data_length * (N+CP)\n",
    "CE_index_length = CE_repeat * (N+CP)\n",
    "\n",
    "freq_data = []\n",
    "# big loop to find out everything\n",
    "for i in range(num_of_frames):\n",
    "    # obtain only the time series we are interested in \n",
    "    y_data = removeChirpAndPause_std(y, chirp_signal, 400000, plot = False, rng = 100)\n",
    "    \n",
    "    # Slice the data to retrieve the CE\n",
    "    CE_samples, CE_freq, remaining = sliceData(y_data, CP-guard, N, CP, CE_repeat)\n",
    "    CE_samples_end, CE_freq_end, remaining_end \\\n",
    "                    = sliceData(y_data[data_index_length + CE_index_length:], CP-guard, N, CP, CE_repeat)\n",
    "    \n",
    "    \n",
    "    # Examine any phase shift \n",
    "    impulse_front, TF_front = getTF_FreqAverage(CE_freq, known_freq, N, CE_repeat)\n",
    "    impulse_end, TF_end = getTF_FreqAverage(CE_freq_end, known_freq, N, CE_repeat)\n",
    "\n",
    "\n",
    "    start_index = 0\n",
    "    end_index = start_index + 2048\n",
    "    TF_front_relevant =TF_front[start_index:end_index]\n",
    "    TF_end_relevant = TF_end[start_index:end_index]\n",
    "    \n",
    "    '''\n",
    "    for i in range(len(TF_end_roll)):\n",
    "        TF_end_roll[i] = TF_end_roll[i]#* cmath.rect(1, (2*math.pi/4096)* (i*3.33 + 8.61))\n",
    "        \n",
    "    '''    \n",
    "    angle_front = np.unwrap(np.angle(TF_front_relevant))\n",
    "    angle_end = np.unwrap(np.angle(TF_end_relevant))\n",
    "\n",
    "    difference = []\n",
    "    for p, val in enumerate(angle_end):\n",
    "        difference.append(round(val - angle_front[p], 3))\n",
    "    '''    \n",
    "    print(difference[:15])\n",
    "    print(difference[-15:])\n",
    "\n",
    "        \n",
    "    diff = np.transpose(np.stack((difference, np.ones(np.array(difference).shape))))\n",
    "    x = np.linspace(start_index, end_index, end_index- start_index)\n",
    "    param = scipy.linalg.lstsq(diff, x)\n",
    "\n",
    "    plot_y(difference[:1024], f = i+100, title = i)\n",
    "    plot_y(angle_front, f = i, title = i)\n",
    "    plot_y(angle_end, f= i)\n",
    "    \n",
    "    plt.figure(1000)\n",
    "    plt.yscale(\"log\")\n",
    "    plt.plot(abs(np.array(TF_front))[:2048])\n",
    "    plt.plot(abs(np.array(TF_end))[:2048])\n",
    "    plot_y(abs(np.array(TF_front))[:2048], f=2)\n",
    "    \n",
    "    '''\n",
    "    stable_phase_start = 200\n",
    "    stable_phase_length = 200\n",
    "    p = np.linspace(stable_phase_start,   stable_phase_start + stable_phase_length,   stable_phase_length)\n",
    "    q = difference[stable_phase_start:   stable_phase_start + stable_phase_length  ]\n",
    "    \n",
    "    param = np.polyfit(p,q,1)\n",
    "    print(\"param \", param)\n",
    "    grad = param[0]\n",
    "    \n",
    "    if i == 0:\n",
    "        freq_data = sliceDataContent_std(TF_front, TF_end, remaining, CP-guard, N, CP, frame_data_length, grad, CE_repeat)\n",
    "    else:\n",
    "        freq_data = np.concatenate((freq_data, \\\n",
    "                        sliceDataContent_std(TF_front, TF_end, remaining, CP-guard, N, CP, frame_data_length, grad, CE_repeat)))\n",
    "    \n",
    "    y = remaining_end"
   ]
  },
  {
   "cell_type": "code",
   "execution_count": 12,
   "metadata": {},
   "outputs": [
    {
     "name": "stdout",
     "output_type": "stream",
     "text": [
      "(360, 2047)\n"
     ]
    }
   ],
   "source": [
    "print(freq_data.shape)"
   ]
  },
  {
   "cell_type": "code",
   "execution_count": 13,
   "metadata": {},
   "outputs": [
    {
     "data": {
      "image/png": "[encoded data removed]",
      "text/plain": [
       "<Figure size 432x288 with 1 Axes>"
      ]
     },
     "metadata": {
      "needs_background": "light"
     },
     "output_type": "display_data"
    }
   ],
   "source": [
    "for i in range(10):\n",
    "    plot_res = np.array(freq_data[i+150])[200:1500]\n",
    "    plt.scatter(plot_res.real, plot_res.imag)\n",
    "    window = 1\n",
    "    plt.xlim(-1*window,window)\n",
    "    plt.ylim(-1*window, window)"
   ]
  },
  {
   "cell_type": "code",
   "execution_count": 15,
   "metadata": {},
   "outputs": [
    {
     "name": "stdout",
     "output_type": "stream",
     "text": [
      "360\n",
      "0.9169773638315254\n"
     ]
    }
   ],
   "source": [
    "print(len(freq_data))\n",
    "data1 = np.concatenate(tuple(freq_data))#[4*20:4*40]\n",
    "predict = iHamming74(iqpsk(data1))\n",
    "predict2 = iHamming74(iqpsk(data1))\n",
    "\n",
    "#actual = iqpsk()\n",
    "correct = 0\n",
    "for i, val in enumerate(predict):\n",
    "    if val == binary[i]:\n",
    "        correct += 1\n",
    "\n",
    "print(correct/len(predict))\n"
   ]
  },
  {
   "cell_type": "code",
   "execution_count": 20,
   "metadata": {},
   "outputs": [
    {
     "data": {
      "text/plain": [
       "'0art 1: Sensei and I    I ALWAYS called him \"Sensei.\" [note1] I shall therefore refer to him simply as \"Sensei,\" and not by his real name. It is not because I consider it more discreet, but it is because I find it more natural that I do so. When�6`<��G\\x10�����\\x17f�Y�ˇ��\\x18od��O��\\x19���@Zʚ�h\\x14��8�U�)nd that I think of him as \"Sensei\" still. And with pen in hand, I cannot bring myself to write of him in any other way.  It was at Kamakura, during the summer holidays, that I first met Sensei. I was then a very young student. I went there at vj�\\x00\\'�[�3�Bs88��Za\\x08h��a�\\x13�\\x00���T��7�#A�ǪO�L�y\\x12�.\\nto Kamakura to swim. We were not together for long. It had taken me a few days to get together enough money to cover the necessary expenses, and it was only three days after my arrival that my friend received a telegram from home demanding his r`6}q�\\x12�\\x0c�\\x0f\\x02>!�A�=7\\x12��[�np�Z\\tZ�B�\\\\c]2�Y�ˍ���_�ill. My friend, however, did not believe this. For some time his parents had been trying to persuade him, much against his will, to marry a certain girl. According to our modern outlook, he was really too young to marry. Moreover, he was not\\x00in\"vh�\\'�S�p\\x10\\x10`����a�p����fDG.\\x1a�#���ĝg�߅\\x1a�*P\\x15�,�void an unpleasant situation that instead of going home, as he normally would have done, he had gone to the resort near Tokyo to spend his holidays. He showed me the telegram, and asked me what he should do. I did not know what to tell hih  It\"wb\\x00-�CR\\x04X34�_\\x15��>z\\nR���ٚ�[�\\ral���$��;歺>K��臠ill, he should go home. And so he decided to leave after all. I, who had taken so much trouble to join my friend, was left alone.  There were many days left before the beginning of term, and I was free either to stay in Kamakura or to go him%.\"`\\x02$&N���S\\x07\\x8f��ՐIɊ�ܫ��*k�\\x174���m�Bo>a�#�YoV�\\x11 family in the Central Provinces, and had no financial worries. But being a young student, his standard of living was much the same as my own. I was therefore not obliged, when I found myself alone, to change my lodgings.  My inn was in a rb\\x04hez\"e\\x00-�\\'�\\x08��xѱ^2N�(���\\x1cf�a���>��6f�,���t2�b귣��H wished to indulge in such fashionable pastimes as playing billiards and eating ice cream, one had to walk a long way across rice fields. If one went by rickshaw, it cost twenty sen. Remote as the district was, however, many rich famili�s h\"$ ou��\\r(͢���\\t\\x17��\\x10�K�����\\x11\\x11\\x14=!�7�K��\\x17�\\x18��\\x0f��$��}w\\x1fi�a also, which was convenient for swimmers such as myself.  I walked to the sea every day, between thatched cottages that were old and smoke-blackened. The beach was always crowded with men and women, and at times the sea, like a public\"bati, wox`�.�,�p������R�a\\x18u��S�ۗ$��z\\x1c�{~�\\x13\\x13ۉ�A.��\\x7f\\'���er ceased to wonder how so many city holiday-makers could squeeze themselves into so small a town. Alone in this noisy and happy crowd, I managed to enjoy myself, dozing on the beach or splashing about in the water.  It was in the midst of\\x004hiq\"g%#�h\\x12�\\x0c�\\x0f\\x02<\"�K�=>\\x12B�[�n}�R\\t��Gn\\\\c]2��Y�˅���_�Here were two tea houses on the beach. For no particular reason, I had come to patronize one of them. Unlike those people with their great villas in the Hase area who had their own bathing huts, we in our part of the beach were obliged to `!+e\"u3�\\x00/=S� \\x10\\x10`����a�p����fDG.\\x1a�#���ĝg�߅\\x1a�*P\\x15�,�munal changing rooms. In them the bathers would drink tea, rest, have their bathing suits rinsed, wash the salt from their bodies, and leave their hats and sunshades for safe-keeping. I owned no bathing suit to change into, but I was afraid mf\"��`�e�#R\\x04X34�_\\x15��>z\\nR���ٚ�[�\\ral���$��;歺>K���<n the tea house before going into the water.  * Sensei had just taken his clothes off and was about to go for a swim when I first laid eyes on him in the tea house. I had already had my swim, and was letting the wind blow gently on my wet bid}.\"b�$vM���S\\x07\\x8aj�ՐIɊ�ܫ��*b�\\x174���m�Bo>a�#�YoV�\\x14�ng about. I was in a relaxed frame of mind, and there was such a crowd on the beach that I should never have noticed him had he not been accompanied by a Westerner.  The Westerner, with his extremely pale skin, had already attracted my attentio`2=*i\\'�\\x08��xѱ^2N�(���\\x1cf�a���>��6f�,���t2�b귣���ng with folded arms, facing the sea; carelessly thrown down on the stool by his side was a Japanese summer dress which he had been wearing. He had on him only a pair of drawers such as we were accustomed to wear. I found this particularly strang�\\x0b��i\\x02��\\t���\\x1c������\\x0e�a��\"Vo�!d �\\x1a�\\x01�u���D\\x1bi�}�and, sitting on top of a small dune close to the rear entrance of a Western-style hotel, I had whiled away the time watching the Westerners bathe. All of them had their torsos, arms, and thighs well-covered. The women especially seemed overly mof01&�,�p������R�a\\x18u��S�ۗ$��z\\x1c�{~�\\x13\\x13ۉ�A.��\\x7f\\'��� rubber caps which could be seen bobbing conspicuously amongst the waves. After having observed such a scene, it was natural that I should think this Westerner, who stood so lightly clad in our midst, quite extraordinary.  As I watched, he turne$ *��\\x12�\\x0c\\x08\\x0f\\x02<\"�K�=>\\x12B�[�n}\\x15\\\\\\t��G�\\\\3mb����̅���_� a Japanese, who happened to be bending down to pick up a small towel which he had dropped on the sand. The Japanese then tied the towel around his head, and immediately began to walk towards the sea. This man was Sensei.  From sheer curiosity, �\"c4\\x12�/���!\\x07\\x1e&�X�1& \\x1b����e\\x7f�4Wk;j�H%��կ\\n`�,\\x03De towards the sea. They strode determinedly into the water and, making their way through the noisy crowd, finally reached a quieter and deeper part of the sea. Then they began to swim out, and did not stop until their heads had almost disappearlf\\x12k7\\x1c\\u074b�/G�\\x00��\\x12�\\x15�\\x7f\\x1e�(�G!4\"�Š~��;�J^��%��\\x0f�{raight back to the beach. At the tea house, they dried themselves without washing the salt off with fresh water from the well and, quickly donning their clothes, they walked away.  After their departure, I sat down, and lighting a cigarette, I beg!����\\x15�5CР*�\\x95V�\\x126\\x1d�=�ݕy��\\x0e\"���5��8�\\\\h\\r���elp feeling that I had seen him somewhere before, but failed to recollect where or when I had met him.  I was a bored young man then, and for lack of anything better to do, I went to the tea house the following day at exactly the same hour, hoping v�\\'�\\x08��xձ^1N}(��R\\x1cf�f���8�24�%�W��2mf�>��ڕthout the Westerner, wearing a straw hat. After carefully placing his spectacles on a nearby table and then tying his hand towel around his head, he once more walked quickly down the beach. And when I saw him wading through the same noisy crowd, d��5�[����yU�\\x16��|^�\\x07Ⱦ���c\\x183�((�B\\x03yM\\x15Y(�{�\\x1a�S�urcome with the desire#to follow him. I splashed through the shallow water until I was far enough out, and then began to swim towards Sensei. Contrary to my expectation, however, he made his way back to the beach in a sort of arc, rather than in a\"\\x0bw�t�]\\x7fO\\x1a\\x04��g�Ǌ\\x13 �e$��\\x19k�#\\x0b\\x14g\\x14�i�t\\x19m�\\x1f\\x1e=S�\\x0bIn I returned, dripping wet, to the tea house: he had already dressed, and was on his way out.  * I saw Sensei again the next day, when I went to the beach at the same hour; and again on the following day. But no opportunity arose for a conversatio`\\x0c���j\\x1a��Ӝ��r��_}%�\\x7f��k���}�q����.\\u07b4#w\\x10\\x13+}�p attitude, besides, seemed somewhat unsociable. He would arrive punctually at the usual hour, and depart as punctually after his swim. He was always aloof and, no matter how gay the crowd around him might be, he seemed totally indifferent to his q55��o�_Ĳ#\",��\\x11�q\\x1a-�+�U1��\\x0cy*O�B�E�ϝ\\x07�S\\r^e�\\x06irst come, never showed himself again. Sensei was always alone.  One day, however, after his usual swim, Sensei was about to put on his summer dress which he had left on the bench, when he noticed that the dress, for some reason, was covered with qdCR\\x04\\x0b3q2�\\'\\x01�|x�B4��\\u05f9�N�\\x16AL;�\\x05�ľ���߰|��2QKspectacles, which had been lying beneath it, fall to the ground. He seemed not to miss them until he had finished tying his  belt. When he began suddenly to look for them, I approached, and bending down, I picked up his spectacles from under the �e�2��u��y�\\'\\x1a�FP|��f\\x19���\\x05��V�*���\\x1e7�Ӽ�\\t�t��-Xdo him.  The next day, I followed Sensei into the sea, and swam after him. When we had gone more than a couple of hundred yards out, Sensei turned and spoke to me. The sea stretched, wide and blue, all around us, and there seemed to be no one near xr�v~\\t� ���h\\x1e��\\x111�t#�\\t�f\\x1fG=l�\\x86ۤ^X��\\x04������9 mountains, as far as the eye could see. My whole body seemed to be filled with a sense of freedom and joy, and I splashed about wildly in the sea. Sensei had stopped moving, and was floating quietly on his back. I then imitated him. The dazzling blm��\\t\\n:���F�4�\\x00թ��\\x7fa�J��n����0�\\x1a�5�\\n\\x1aWz�\\x10%lt as though little, aright darts were being thrown into my eyes. And I cried out, \"What fun this is!\"  After a while, Sensei moved to an upright position and said, \"Shall we go back?\" I, who was young and hardy wanted very much to stay. But I ans&\\x16�\\x05���W�X �\\x13��\\x00R\\x1e�\\x0e���\\tȩ���V��\\x06\\x03�����ªU�\\x0e\" And we returned to the shore together.  That was the beginning of our friendship. But I did not yet know where Sensei lived.  It was, I think, on the afternoon of the third day following our swim together that Sensei, when we met at the tea hous-�}��!\\x05v$⣈�:|,�\\x03�B`D�\\'@/8�\\nL\\x11v\\x1b@�QK_�\\x0f�܊\\x12�in Kamakura long?\" I had really no idea how much longer I would be in Kamakura, so I said, \"I don\\'t know.\" I then saw that Sensei was grinning, and I suddenly became embarrassed. I could not help blurting out, \"And you, Sensei?\" It was then that I �w\\x1e\\rͥ�M\\x0c�S\\x0bC�Ό\\x05\\x02Zԙ���\\r�\\x16�\\x1d�\\x1ai2\\x070b�E����� visited Sensei at his lodgings. He was not staying at an ordinary inn, but had his rooms in a mansion-like building within the grounds of a large temple. I saw that he had no ties of any kind with the other people staying there. He smiled wryly at\"��R\\x18\\x1c>| \\x12\\'\\x08Y��\\x18 0ӻ\\x0b�ݎP\\x11sL2�\\x02�Tǅ�T�0|��2U�nsei,\" and I found myself explaining that it was my habit to so address my elders. I asked him about the Westerner, and he told me that his friend was no longer in Kamakura. His friend, I was told, was somewhat eccentric. He spoke to me of other t(��Z\\r�N*�8��\\x04鯃8\\x00��`f1�C=�y�EdO��q,C\\x02�\\x0e�B\\x10ڥremarked that it was strange that he, who had so few acquaintances among his fellow Japanese, should have become intimate with a foreigner. Finally, before leaving, I said to Sensei that I felt I had met him somewhere before but that I could not rem���uP�œW\\x1c Ļ�S\\x00\\x02��\\x04C�Y\\x07|�pt���\\t����@X�ޑ�;aid this I hoped, and indeed expected, that he would confess to the same feeling. But after pondering awhile, Sensei said to me, \"I cannot remember ever having met you before. Are you not mistaken?\" And I was filled with a new and deep sense of dis���\\t/�z�\\t�?4�\\x00է��wc�z��N����0�\\x1a�7�\\n\\x1aW\\u03a2\\x10nd of the month. Sensei had left the resort long before me. As we were taking leave of each other, I had asked him, \"Would it be all right if I visited you at your home now and then?\" And he had answered quite simply, \"Yes, of course.\" I had been un\\x15�\\x05���W�X �\\x13��\\x00R\\x1e�\\x0e���\\tȩ���V��\\x06\\x03�����ªU�\\tends, and had somehow expected a warmer reply. My self-confidence, I remember, was rather shaken then.  Often, during my association with Sensei, I was disappointed in this way. Sometimes, Sensei seemed to know that I had been hurt, and sometimes,$�}��!\\x05v$⣈�:|,�\\x03�B`D�\\'@/8�\\nL\\x11v\\x1b@�QK_�\\x0f�܊\\x12�en I experienced such trifling disappointments, I never felt any desire to part from Sensei. Indeed, each time I suffered a rebuff, I wished more than ever to push our friendship further. I thought that with greater intimacy, I would perhaps fiND%/�w\\x1e\\rͥ�M\\x0c�S\\x0bC�Ό\\x05\\x02Zԙ���\\r�\\x16�\\x1d�\\x1ai2\\x070b�E�����ery young, it is true. But I think that I would not have behaved quite so simply towards others. I did not understand then why it was that I should behave thus towards Sensei only. But now, when Sensei is dead, I am beginning to understand. It wa#�j�@!\\x15~y \\x12�\\x00Yt�\\x18\\x100ӻ\\x0b��\\x1eP\\x1fsB6�&�T��vT�0|��2U�rt and cold ways were not designed to express his dislike of me, but they were meant rather as a warning to me that I would not want him as a friend. It was because he despised himself that he refused to accept openheartedly the intimacy of others*��Z\\x0f�N*�8��\\x04鯃0\\x00��`f2�C=�|�EdOc�r,C\\x02�\\x0e��0\\nu\\x7furse to visit Sensei when I returned to Tokyo. There were still two weeks left before the beginning of lectures, and I thought I would visit him during that time. A few days after my return, however, I began to feel less inclined to do so. The Atoo\\x01��uP�œW\\x1c Ļ�S\\x00\\x02��\\x04C�Y\\x07|�pt���\\x0b����@X��\\x11^9 deal, bringing back memories. Every time I saw a student in the streets, I found myself awaiting the coming of the new academic year with a feeling of hope and tense excitement. For a while, I forgot all about Sensei.  A month or so after the staq�?��\\t/�z�\\t�?4�\\x00է��wc�z��N����0�\\x1a�7�\\n\\x1aR�h\\x10�same time, I began to walk about the streets discontentedly, and to look around my room with a feeling that something was lacking in my life. I began to think of Sensei, and I found that I wanted to see him again.  The first time I went to his h/��5�\\x05���W�X �\\x13��\\x00R\\x1e�\\x0e���\\tȫ���o��\\x1a\\x03]��c^��E\\x0b\\x01in the following Sunday. It was a lovely day, and the sky was so blue that I was filled with a sense of well-being. Again, he was not at home. In Kamakura, Sensei had told me that he spent most of his time at home; indeed, he had even told me��Hc}\"�}��!\\x05v$⣈�:|(�\\x03�B`D�\\'@�e�\\x08A�L�#�a�\"�t[\\x028�i�lt an unreasonable resentment at having twice failed to find him. I therefore hesitated in the front hall, staring at the maid who had informed me of her master\\'s absence. She seemed to remember that I had called before and left my card. AskinB)mo�w\\x1e\\rͥ�M\\x0c�S+C�Ό%\\x00X�{�A�\\x7f�7�)�r\\x18Kp*�Hۭ�`�\\x0cԴ, whom I took to be the mistress of the house. She was beautiful.  Very courteously, she told me of Sensei\\'s whereabouts. I learned that every month, on the same day, it was Sensei\\'s custom to take flowers to a certain grave in the cemetery ap ^O}\\x18l�@!\\x15~y \\x12��Z�Ȑ\\x1d\\tS\\x02\\x065�\\x16W���tVd�\\x19dM�\\x19RE��\\x07�\\x17\\x06ully, \"hardly more than ten minutes ago.\" I thanked her and left. Before I had gone very far towards the busier part of town, I decided that it would be a pleasant walk to Zoshigaya. Besides, I might meet Sensei, I thought. I turned around ajd`pt$���\\x19\\x0f��/�;V�\\n�?�,#Td\\x14pٝ_��\\x07\\x04M�S����#�,���\\x08�vrom the left side of a field I entered the cemetery and proceeded along a broad avenue bordered on each side by maple trees. There was a tea house at the end of the avenue, and I saw coming out of it someone that looked like Sensei. I walke��BGcv�\\x01j��^\\x18�p\\x13�\\'��UN.$�yz�R\\x1b*�j`ə+�V(\\x0f��R�\\x15H\\\\#\\x0c9ed on the frame of his spectacles. Then, suddenly, I cried out aloud, \"Sensei!\" Sensei stopped, and saw me. \"How in the world...?\" he said. Then again, \"How in the world... ?\" His words, repeated, seemed to have a strange echo-like effect-if�pHM-}Z�1mz�\\x18��PU�s�rz]-\\x07�����m�1�\\x0c\"�b�Me�i\"�(<����� to say.  \"Did you follow me? How...?\"    He seemed quite relaxed as he stood there, and his voice was calm. But there was on his face a strangely clouded expression.  I explained to Sensei how I happened to be there.  \"Did my wcff tebL-yOu��HBwm-�w�\\x0f�]�L\\x1a\\n%���- �U$h�T/��\\t��\\x14��$v4��m^��\\x17\\x0bsuppose there was no reason why she should. After all, she met you today for the first time. No, of course not, there was no need for her to tell you.\"  At last, he appeared satisfied. But I could not understand the reason for hi~�rfo�pFp---\\x17o�Coo�\\x7f�q�w����=�{����\\x0c�M��j��E`������\\x0e\\x13�\"4zS\\x028�m`those with inscriptions such as \"Isabella So-and-so...\" and \"Login, Servant of God,\" were those with Buddhist inscriptions such as \"All living things bear within themselves the essence of Buddha.\" There was one tombstZLG! I-pm\\x1df\\x1fbG����AHmm��A�../��ʬ/���!\\x02\\x1e&�h�1# \\x1b�����\\x7f�4\\x03k;b�H z�Hկ�`�\\x0cQ stopped before one that was particularly small and, pointing at the three Chinese characters on it, I asked Sensei, \"How does one read that?\"  \"I presume they are meant to be read as \\'Andrew\\',\" said Sensei, smAling �yK�DB�,��\\x1eGh^OK�\\x19K��LB���GO�$}o�J������m��}K����}\\nb&e2�.�tVd�\\x19d\\x0f�\\x19RE��\\x07p\\x174 reflected in the tombstones amusing or ironical, as I did. Silently, he listened to me for a while as I chattered on, pointing to this tombstone and that. But finally he turned to me and said, \"You have nerep��m_�g1���G�K���A��JD��EG��DCAK����D-��Ё\\x1b\\x1f8��=u�_*o�6u)#TM\\x14p՝|��\\x07\\x04M�S����#�,���\\x08� no more.  Towards the end of the cemetery, there stood a gingko tree, so large that it almost hid the sky from view. Sensei looked up at the tree and said, \"In a little while, it will be beautiful here��Pmg#��GG��KaB�@C�C�OC���O\\x14��GAABʡ�CL���EG-o�\\x03�c�\\x15\\x1f�.N�ͱe�N-$�z�R\\x1b*�j`ə+�V(\\x0f��R�\\x15H\\\\#\\x0cxof fallen leaves.\" Every month, I learned, Sensei made a point of walking by the tree at least once.  Not far from us in the cemetery, a man was leveling off a piece of rough ground. He stopped and,$rc~tkNI�bL��K��E�G��EG��C�NEG\\x19�����\\x19��LKLJ��B�A%�#2]Zx\\x1b��PU�#�rz]-\\x07�����m�1�\\x0c\"�b�Me�i\"�(<���g no particular destination in mind, I continued to walk along with Sensei. Sensei was less talkative than usual. I felt no acute embarrassment, however, and I strolled unconcernedly by his siae. .*A�g��R�-jOKLJ����CKJE��EBOGr����\\x1bG���\\x19EG�G�K��MO���w�\\'�]oL\\x1a\\n%�e��- �U$h�T/��\\t��\\x14��$v4��m^��\\x17\\x08�ntly, we walked downhill towards the south. Again I broke the silence. \"Is your family burial ground there?\" I asked.  \"No.\"  \"Whose grave is it, then? Some relation of yours perhaps?\" (\"No.\" �Smj�mo��R�AM��\\x13��LB�OB�G�C@B���K�����IGNKIGI��B�OGL�o�f.��q�w����=�{����\\x0c�M��j��E`������\\x0e\\x10�\"4zS\\x028�\\x16�ed a hundred yards or so, Sensei suddenly reopened the conversation.  \"A friend of mine happens to be buried there.\"  \"And you visit his grave every month?\"  Sensei told me no more that m1y. -*m�4yg���HC��Is�����@GJCL��B��K�K��\\x1eGL�GK�C���GJ�AC�mKlP��/�\\x0f��?\\x06P/�A�1# \\x18�����\\x7fD4-j�k���Z�\\x02/\\n��\\x0c��more I visited Sensei, the more eager I became to see him again.   Despite this, however, there was no great change in Sensei\\'s manner towards me. He was always quiet. At times, he seeofd��o q�kOɭ�EC������B�JE��EKO��C�EG��ABLGA�����DGA��D�BO��HE�S��S�x68�\\\\R\\x02�oF\\n.P��ɚ�{�o����[������F��7�yet, at the same time, |here was within me an irresistible desire to become close to Sensei. Perhaps I was the only one who felt thus towards him. Some might say that I was being foolksX-Qn�#ncA�G���\\'��G\\\\CL�LB�����DGGA�C�NG��CKL���KIG�CLI�EC��KHD~� k�\\x19\\x1f8��=u�Z*o�6u)#TM\\x14��r��\\t\\x04}�P���� ܬ���\\x08n�nsei was later shown to have not been in vain. A man capable of love, or I should say rather a man who was by nature incapable of not loving; but a man who could not wholeheartedly a�cg�t�qhg�a��O�FD�CL��EG�����NE�C�BLG��C��\\x1eGL�GK��������EC�G�CE�GAE�o�\\x17���{�n�\\x1cp۶=<��$�y�ɥg�~6ꑛI���\\x11�$1\\x0c�he seemed to be at peace with himself. But sometimes I would notice a shadow cross his face. True, like the shadow of a bird outside the window, it would quickly disappear. The first-tk_f͓�nڗK^GA�K���C��C���EG�NGOG�G���C��\\x18B�EKJC�C���EGL�����J�ENh�����\\t\\x17��\\x10�K�����\\x14\\x11\\x14=!�7�Ac\\u0557�\\x16��\\n�?\\'C^�R�o| though only for a passing moment, a strange weight on my heart. Soon after, the memory of that moment faded away. One evening, however, towards the end of the Indian summer, it was �lG�~G��g\\x19a��@���JE��@CNF��B�O��OKLI���������C���CAFKLJ��B�\\x1eGL�Em��%Xp����\\nR�a\\x18��_\\x13�ޞ\\x1dk��\\x19�r����\\x06a��J��¤X�`great gingko tree that he had pointed out to me. And I remembered that his monthly visit to the grave was only three days away. Thinking that it would fall on the day when my lecture� gF4GD-3��LBBL��CLI��EC�����EB�AI�@G��GAC�K�GA��D�GG�������LGI�w�xh\\x12�\\x0c�\\x0f\\x02<\"�K�=>2B�[Rl}�\\x12\\x0f��Ď\\\\?S\\tE�K�\\x0f\\tՊ\\x12�gingko tree at Zoshigaya has lost all its leaves by now?\"  \"I doubt that it will be quite bare yet.\"   Sensei was watching me carefully. I said quickly:  \"May I accompany you, when yjw(LAu�(uK�c���EG�J�C�Gr����EB�AI�AKFG��B��CFG�C��CAF�C�B�LI��EGPg.�\\x184��3���Ѱ\\x11wp\\x1e\\x01g�NiB(z��V�ԝ�^g?\\r�R����(�f\\x00a walk, you know.\"  \"But surely, we can go for a walk at the same time?\"  Sensei was silent for a while, then said, \"Believe me, visiting the grave is for me a truly serious matter.\"�\\x08f��CF_oZ���O�G�IG�G�OKLGI��B�IK��KLJ�K�E�@G��GGL�EK���KAJ�KOCJGd�#R\\x04X04\\x02Z%\\x02��JRP\\x12��м�\\x1b\\x03�Sr���s�\\x06`rT�9|vݢUEo wonder whether he was making this excuse because he did not wish me to accompany him. I remember that I thought him oddly childish at the time. I became more forward.  \"Well, then,& K�sSOT��ʝAG��g�CAAB��OG��B�CNNBO�CL���B��C��C�DGAAB���K�K�B�-��-2��8��9%\\'����v%)*TO��LV�j���>=��d\\t�t-�+X9tude rather unreasonable. A shadow crossed his brow, and his eyes shone strangely. I cannot say whether it was annoyance or dislike or fear that I saw in his expression. But whatever�it�r\\x11S,-}8G�G�.C��@GLGC�E�K�����DGA���C�JLC�KLJ�CL�KG�����LI����A£\\x07s\\\\y�\\x03\\x1eE �[80�\\x07��}�A�o���җ�\\x0c�.e\\x08\\x08\\x12�ڰt day at Zoshigaya when I called to him.  \"I cannot tell you why,\" Sensei said to me, \"but for a very good reason I wish to go to that grave alone. Even my wife, you see, has never co]g-wk�h ?F/#-\\u0378�������JE��EK��@GEC�KB���G������CLJG��������IKJ�MOy��\\x17\\r�K\\x07��\\t\\x1e�7`\\x02ܩ�ywc�z��>����0�\\x1a�7�\\n\\x1aW\\u03a2Fxim. And I decided to think no more about it. My attitude towards Sensei then is one of those things that I remember with a certain amount of pride. Because of it, I believe, we were ablE.yo bgcjOG��B��I\\x12�G��B�GCNE�B�EG����CI���@GGL�N��KB���KL�CN�mz�%\\\\p����\\t\\x00�C��\\x00R\\x1e�\\x0e���\\tȩ���V��\\x06\\x03�����ªU�En us would surely not have lasted. I was, of course, not aware of all this at the time. I hate to think what might have happened had I acted differently. Even in his relationship with me, he�was�IN ^FD�}SLɭI�GCI�BD�@GKLJ�NBAIA��CLCA��GI���\\x08�JGBCM-�8\\x1am\\x0556��C�\\x16:||�\\x03�B`D�\\'@/8�\\nL\\x11v\\x1b@�QK_�\\x0f�܊\\x12�nth. One day, seeing that my visits were becoming more and more frequent, Sensei suddenly said to me:  \"Why should you want to spend so much time with a person like me?\"  \"Why? I don\\'t think tfere/s 1l{�pC@YK��A����GC�BL����O���C�L�K�CLNG���K�r��- C7\\x1e\\r̀\\'M��P\\x03c�Ό\\x05\\x02Zԙ���\\r�\\x16�\\x1d�Zi2\\x070b�E�����\\x04 to regard me as a nuisance. I was aware that the number of his acquaintances was rather limited. As for those who had been in the same class with him at the university, I knew there were no more than��y������F�OG�KL�\\x19BF�B��\\x1eBOGYKOG������B�AI�tIMdm�-b!x�q���8Y�\\x18\\x100ӻ\\x0b��\\x1eP\\x1fsB6�&�T��vT�0|��2UE part of the country as Sensei, but it seemed to me that none of them were as close to him as I was.  \"I am a lonely man,\" Sensei said. \"And so I am glad that you come to see me. But I am also a melancfob��\\x1dcl��\\x13NZ�~J���C�FGJ��B���E���B���EA�AM��M}��T\\r�N*����\\x04鯃8\\x00��`f1�C=�y�EdO��q,C\\x02�\\x0e�B\\x10ڡe want to ask?\" Sensei did not answer me. Instead, he looked at me and said, \"How old are you?\"  The conversation seemed to me to be rather purposeless. Without pursuing it any further, I left. Four days la}er����r�s�`CJF�CJsKL�C��EK��EB��G���^m�\\x1ffN�v��2:l���;D\\x0e���Z+�� ���\\x18M��f\\x0e\\x17�q\\x06\\x1f ��\\x05!n!7u\\'re back again,\" he said.   \"Yes, I\\'m back,\" I said, and I laughed with him.  Had anyone else spoken in such a way to me, I think I should have been annoyed. With Sensei, it was somehow different. Far from�bfmni �Nnb�g�����\\'\\x13��eC��������C\\x7f�C�AAnea=���\\t��z�9�1��@F�\\x10�7\\x13�ꆑ\\x0eڮ��0�\\x12�5��R��\\x10 it not possible that you are also a lonely person? But I am an older man, and I can live with my loneliness, quietly. You are young, and it must be difficult to accept your loneliness. You must sometimes want to fighy�cy$�-- Dwt���3O�LAY�C��CaA�L?nB�*�\\x1fB\\x01�\\x18��D�\\n8���\\x14�\\x11\\x02\\x19�7V/=3�\\x01Y��yo\\x00\\x1cL=\\x15�&\\x0cOtherwise why should you come so often to my house?\"  Sensei continued: \"But surely, when you are with me, you cannot rid yourself of your loneliness. I have not it in me to help you forget it. You will have to look elsew\\x18ere�fop�}\\x18gmfAd�\\x12d��KBM(y�D��tm$�����\\x19B���g��\\x1f�9�=^EM\\x1b��(���\\x7fj�`~��<Ilonger want to visit me.\"  As he said this, Sensei smiled sadly.  * Fortunately, Sensei was mistaken. Inexperienced as I was then, I could not even understand the obvious significance of Sensei\\'s remarks. I continued to sge Sfnseo as�bgv\\x12rG.-�fIibgd�Ѣ\\x01xR\"�c���\\x111s�\\x1d�+fe\\x03_�\\x0b�\\x1aF�喍�O�\\x04�X�\\\\\\x1f\\x12� occasionally. As a result, I was obliged to speak to Sensei\\'s wife also.  Like any other young man, I was not indifferent to women. But being young and my experience of the world being what it was, I had so far not had any opportunitym}\\x7f�ff@=-�o� ����ꁆ��X���7���,D�D �����D�\\x05�qz�� σi#ͨ�n had been limited to glances thrown at those who were completely unknown to me. The first time I met Sensei\\'s wife in the front hall, I thought her beautiful. And each time I saw her after that, I was similarly impressed by her beauty. But`K dgap�\\r0��u��{�\\'\\x1a�\\x16P|��n\\x19���\\x07��V�*���\\x1e7nӼ}\\t�T�\\x02uQurest that I could speak to her about.  Rather than to say that she possessed no special qualities worthy of note, it would perhaps be more correct to say that she had never been given an opportunity to show them. My feeling was always that shE-~As w\\x05v��2:l���;D\\x0e���Z+�� ���\\x18M��f\\x0e\\x17�s\\x06\\x1f)7�\\x06!d�7s household. And it would seem that she regarded me, albeit with goodwill, simply as a student who came to talk with her husband. Apart from Sensei, there was no bond of sympathy between us. My memory of the early part of our acquaintance, thEn/mSB\\n@\\x17\\x10U��Q�\\x17Q�Y��\\x1f�*Xof��O�{9�hQ@Z�O�K�V��x7\\x1cpf her beauty.  One evening, I was invited by Sensei to join him in a cup of saké. Sensei\\'s wife came to serve us. Sensei seemed more cheerful than usual. Offering his empty cup, he said to his wife, \"You have some too.\"  \"No, I don\\'t really .-Ī�\" �^�\\x02\\x1cB\\x01�\\x18��D�\\n8���\\x14�\\x11\\x02\\x19�7V/?3�\\x01Y��+A&���\\'���what unwillingly. Frowning slightly, she raised to her lips the cup that I had half-filled for her. A conversation then followed between her and Sensei.  \"This is so unusual,\" she said. \"You hardly ever ask me to drink saké.\"  \"That\\'s because-��u h�_P����\\x1d\\\\wiŃ�_�!���0����}e��p�\\x18\\x0cY�{�<��_Iink occasionally. This will cheer you up.\"  \"It certainly will not. It makes me feel uncomfortable. You, however, seem to have become quite gay. And you haven\\'t had much.\"  \"Yes, sometimes it seems to cheer me up. But you know, it doesn\\'t alwc)}l� %���2ZQ��#���\\x111s���+fU\\x07f�\\x01�\\x1c�R�\\'�ׅ\\x1a�$P\\x15�,�t I feel good.\"  \"Then from now on, you should drink--just a little--every evening.\"  \"That, I cannot do.\"  \"Please do. Then you will stop being melancholy.\"  Apart from them, there was only the maid in the house. Every time I went there, the m�u�E�\\x01��ꁆ��X���7���,D�D ��\\r���̛D���;歺>K���d the sound of laughter there, and some-times it seemed almost as if Sensei and I were the only people in it.  \"It would be so nice if we had children,\" Sensei\\'s wife said to me. \"Yes, wouldn\\'t it?\" I answered. But I could feel no real sympathyhfo@\\r0��u��{�\\'\\x11�\\x18^|��\\x19\\x7f��G��\\x147��`�Lf>a�#�YoV�\\x11�ry nuisance.  \"Would you like it if we adopted a child?\"  \"An adopted child? Oh, no,\" she said, and looked at me.  \"But we\\'ll never have one of our own, you know,\" said Sensei.  Sensei s wife was silent.  \"Why not?\" I asked.  \"Divine punishmen},� #�\\x05v��2:l���;D��q?���a!���u�6��,���t2�b귣��>* Sensei and his wife seemed to me to be a fond enough couple. Not being a member of the family, I could not of course know how they truly felt towards each other. But whenever I was with Sensei, and if he happened to want anything, instead of-�\\x16�\\x00��\\x17\\x10U��Q�\\x17Q�Y�ˌ1j]bD=!�7�K��\\x17�\\x18��\\x0f��$��}w\\x1fP]e was Shizu.) \"Shizu,\" Sensei would call, turning towards the door. The tone of his voice, when he did so, always sounded gentle to me. And her manner, when she appeared, seemed always willing and obedient. And whenever they kindly invited me }o�D;�^�\\x02\\x1cB\\x01�\\x1d��D(�8֭Q\\x13\\x19�$;�z\\x1c�{~�\\x13\\x13ۉ�A.��\\x7f\\'��\\x01r at the table, my pleasant impression of their feelings towards each other would be confirmed.  Sometimes, Sensei would take his wife to a concert or to the theatre. Also, I remember that they went away together for a week\\'s holiday at least }�o�Mq�_P����\\x1dUwi������[{n}�R\\t��Gn\\\\c]2��Y�˅���_�`I still have with me a postcard that they sent me from Hakone. And I remember that the time they went to Nikko, I received from them a letter with a maple leaf enclosed.  There was, however, one incident that marred my general impression of thok�\\x00-���2Z������h�p����fDG.\\x1a�#���ĝg�߅\\x1a�*P\\x15�,�al in their front hall, and was about to announce myself. I heard voices coming from the living room. An argument, rather than an ordinary conversation, seemed to be taking place. The living-room was immediately adjoining the front hall, and I m��B�\\x02����4�_�Ҵ>z\\nR���ٚ�[�\\ral���$��;歺>K���rel, and that one of the voices, which was raised now and then, belonged to Sensei. The other voice was lower in tone than Sensei\\'s, and I could not be sure whose it was. But I was almost certain that it was his wife\\'s. She seemed to be weeping. I -`��%iEˇ�ՐIɊ�ܫ��*b�\\x174���m�Bo>a�#�YoV�\\x11Hat to do. Then I left, and returned to my lodgings.  A dreadful anxiety filled my heart. I tried to read, but found that I could not concentrate. An hour later, I heard Sensei calling from beneath my window. Surprised, I looked out. \"Let us go ffp �\\x05�\\x08��xѱ^2N�(���\\x1cf�a���>��6f�,���t2�b귣��;aw that it was past eight o\\'clock. I had not bothered to take off my dress trousers when I returned. I left my room immediately.  That evening, Sensei and I drank beer together. Sensei was not a heavy drinker. He was not the sort of person to go`b\\x0e*�����\\t\\x17��\\x10�K�����\\x11\\x11\\x14=!�7�K��\\x17�\\x18��\\x0f��$��}w\\x1fPe any cheering effect on him.  \"It just won\\'t work this evening,\" Sensei said, with a wry smile.  \"Can\\'t you feel gay?\" I asked, feeling sorry for him.  I could not forget what had happened earlier that day. It bothered me terribly, like a fish bj`n�H�p������R�a\\x18u��S�ۗ$��z\\x1c�{~�\\x13\\x13ۉ�A.��\\x7f\\'�\\x0f'"
      ]
     },
     "execution_count": 20,
     "metadata": {},
     "output_type": "execute_result"
    }
   ],
   "source": [
    "data1 = np.concatenate(tuple(freq_data[:100]))#[4*20:4*40]\n",
    "predict = iHamming74(iqpsk(data1))\n",
    "str_to_bytearray(predict).decode('utf-8', 'replace')"
   ]
  },
  {
   "cell_type": "code",
   "execution_count": 191,
   "metadata": {},
   "outputs": [],
   "source": []
  },
  {
   "cell_type": "code",
   "execution_count": 192,
   "metadata": {},
   "outputs": [
    {
     "name": "stdout",
     "output_type": "stream",
     "text": [
      "2047 <class 'list'>\n"
     ]
    }
   ],
   "source": [
    "instruction = []\n",
    "for i in range(2047):\n",
    "    if i <200:\n",
    "        instruction.append(1)\n",
    "    else: \n",
    "        instruction.append(2)\n",
    "    \n",
    "print(len(instruction), type(instruction))"
   ]
  },
  {
   "cell_type": "code",
   "execution_count": 193,
   "metadata": {
    "scrolled": true
   },
   "outputs": [
    {
     "data": {
      "text/plain": [
       "465.0683333333333"
      ]
     },
     "execution_count": 193,
     "metadata": {},
     "output_type": "execute_result"
    }
   ],
   "source": [
    "test_bin = CE_binary\n",
    "len(test_bin)\n",
    "len(coded_binary)/len(test_bin)"
   ]
  },
  {
   "cell_type": "code",
   "execution_count": 194,
   "metadata": {},
   "outputs": [
    {
     "name": "stdout",
     "output_type": "stream",
     "text": [
      "bitcount 7788\n",
      "additional  3576\n",
      "data length  12000\n",
      "new data len  15576\n",
      "[-0.70710678-0.70710678j  0.70710678-0.70710678j  0.70710678+0.70710678j\n",
      " ...  0.25      -0.75j        0.75      -0.25j\n",
      "  0.75      +0.25j      ]\n",
      "4094 6000\n"
     ]
    }
   ],
   "source": [
    "blah = varyingModulation_test(test_bin,instruction, N, CE_binary)\n",
    "print(blah)\n",
    "print(len(blah), len(CE_symbols))"
   ]
  },
  {
   "cell_type": "code",
   "execution_count": null,
   "metadata": {},
   "outputs": [],
   "source": []
  },
  {
   "cell_type": "code",
   "execution_count": null,
   "metadata": {},
   "outputs": [],
   "source": []
  }
 ],
 "metadata": {
  "kernelspec": {
   "display_name": "Python 3",
   "language": "python",
   "name": "python3"
  },
  "language_info": {
   "codemirror_mode": {
    "name": "ipython",
    "version": 3
   },
   "file_extension": ".py",
   "mimetype": "text/x-python",
   "name": "python",
   "nbconvert_exporter": "python",
   "pygments_lexer": "ipython3",
   "version": "3.7.4"
  }
 },
 "nbformat": 4,
 "nbformat_minor": 2
}
