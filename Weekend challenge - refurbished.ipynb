{
 "cells": [
  {
   "cell_type": "code",
   "execution_count": 35,
   "metadata": {},
   "outputs": [],
   "source": [
    "import numpy as np\n",
    "from scipy.fftpack import fft, fftshift, ifft, fftfreq\n",
    "from scipy.signal import freqz, firwin\n",
    "import matplotlib.pyplot as plt\n",
    "import csv\n",
    "import math\n",
    "import binascii"
   ]
  },
  {
   "cell_type": "code",
   "execution_count": 28,
   "metadata": {},
   "outputs": [],
   "source": [
    "with open('gr1channel.csv', 'r') as file:\n",
    "    FIR = file.read().replace('\\n', '')\n",
    "FIR = [float(x) for x in FIR.split()] \n",
    "\n",
    "with open('gr1file.csv', 'r') as file:\n",
    "    data = file.read().replace('\\n', '')\n",
    "data = [float(x) for x in data.split()]"
   ]
  },
  {
   "cell_type": "code",
   "execution_count": 29,
   "metadata": {},
   "outputs": [],
   "source": [
    "d = len(data)/1056\n",
    "\n",
    "# removing cyclic prefix\n",
    "no_prefix = []\n",
    "for i in range(int(d)):\n",
    "    no_prefix.append(data[i*1056 + 32:(i+1)*1056])"
   ]
  },
  {
   "cell_type": "code",
   "execution_count": 30,
   "metadata": {},
   "outputs": [],
   "source": [
    "# Function to display something quickly\n",
    "def plot_y(y):\n",
    "    x = np.linspace(0, len(y), len(y))\n",
    "    plt.plot(x, y)\n",
    "    plt.show"
   ]
  },
  {
   "cell_type": "code",
   "execution_count": 56,
   "metadata": {},
   "outputs": [],
   "source": [
    "freq = fft(FIR, n = 1024)[1:512]\n",
    "binary = []\n",
    "for i in range(len(no_prefix)):\n",
    "    fft_data = fft(no_prefix[i])[1:512]\n",
    "    \n",
    "    for j in range(len(fft_data)):\n",
    "        div = fft_data[j]/freq[j]\n",
    "        \n",
    "        bit0 = 0\n",
    "        bit1 = 0\n",
    "        \n",
    "        if div.real < 0:\n",
    "            bit1 = 1\n",
    "        if div.imag < 0:\n",
    "            bit0 = 1\n",
    "            \n",
    "        binary.append(bit0)\n",
    "        binary.append(bit1)\n",
    "\n",
    "bin_single_sting = \"\"\n",
    "for i in range(len(binary)):\n",
    "    bin_single_sting += str(binary[i])"
   ]
  },
  {
   "cell_type": "code",
   "execution_count": 78,
   "metadata": {},
   "outputs": [],
   "source": [
    "def str_to_bytearray(string_data):\n",
    "    new_data = []\n",
    "    for i in range(0, len(string_data), 8):\n",
    "        new_data.append(string_data[i:i+8])  \n",
    "\n",
    "    int_data = [] \n",
    "    for i in new_data:\n",
    "        int_data.append(int(i,2))\n",
    "\n",
    "    return bytearray(int_data)"
   ]
  },
  {
   "cell_type": "code",
   "execution_count": 79,
   "metadata": {},
   "outputs": [],
   "source": [
    "# Find information about the file name and the byte length of the file\n",
    "file_seperation = []\n",
    "count = 0\n",
    "for i in range(math.floor(len(binary)/8)):\n",
    "    byte = binary[i*8:(i+1)*8]\n",
    "    zero = True\n",
    "    for bit in byte:\n",
    "        if bit == 1:\n",
    "            zero = False\n",
    "            \n",
    "    if zero:\n",
    "        #print(byte, \"zero\")\n",
    "        file_seperation.append(i*8)\n",
    "            \n",
    "        count += 1\n",
    "    \n",
    "    if count == 2:\n",
    "        break"
   ]
  },
  {
   "cell_type": "code",
   "execution_count": 89,
   "metadata": {},
   "outputs": [
    {
     "data": {
      "text/plain": [
       "28938"
      ]
     },
     "execution_count": 89,
     "metadata": {},
     "output_type": "execute_result"
    }
   ],
   "source": [
    "# Extract file name and length of the file\n",
    "Filename= str_to_bytearray(bin_single_sting[0:file_seperation[0]]).decode()\n",
    "Length = int(str_to_bytearray(bin_single_sting[file_seperation[0]+8:file_seperation[1]]).decode())\n",
    "\n",
    "extra_bits = len(binary) - file_seperation[1] - 8 - Length*8\n",
    "\n",
    "raw_file = bin_single_sting[file_seperation[1] + 8 : -1*extra_bits]\n",
    "\n",
    "newFile = open(\"key.bmp\", \"wb\")\n",
    "newFile.write(str_to_bytearray(raw_file))"
   ]
  }
 ],
 "metadata": {
  "kernelspec": {
   "display_name": "Python 3",
   "language": "python",
   "name": "python3"
  },
  "language_info": {
   "codemirror_mode": {
    "name": "ipython",
    "version": 3
   },
   "file_extension": ".py",
   "mimetype": "text/x-python",
   "name": "python",
   "nbconvert_exporter": "python",
   "pygments_lexer": "ipython3",
   "version": "3.7.4"
  }
 },
 "nbformat": 4,
 "nbformat_minor": 2
}
