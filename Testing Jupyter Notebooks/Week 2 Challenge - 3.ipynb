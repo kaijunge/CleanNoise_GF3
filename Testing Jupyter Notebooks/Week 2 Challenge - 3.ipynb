{
 "cells": [
  {
   "cell_type": "code",
   "execution_count": 235,
   "metadata": {},
   "outputs": [],
   "source": [
    "from audioFunctions import *\n",
    "from binaryFunctions import *\n",
    "from qam import *\n",
    "from sequenceGenerators import *\n",
    "from receiver import *\n",
    "from to_import import *"
   ]
  },
  {
   "cell_type": "code",
   "execution_count": 236,
   "metadata": {},
   "outputs": [],
   "source": [
    "def str_to_bytearray(string_data):\n",
    "    new_data = []\n",
    "    for i in range(0, len(string_data), 8):\n",
    "        new_data.append(string_data[i:i+8])  \n",
    "\n",
    "    int_data = [] \n",
    "    for i in new_data:\n",
    "        int_data.append(int(i,2))\n",
    "\n",
    "    return bytearray(int_data)"
   ]
  },
  {
   "cell_type": "code",
   "execution_count": 237,
   "metadata": {},
   "outputs": [],
   "source": [
    "with open('Data_Files/a7r56tu_knownseq.csv', 'r') as file:\n",
    "    raw = file.read().replace('\\n', ',').split(',')\n",
    "\n",
    "known = []\n",
    "for value in raw:\n",
    "    try:\n",
    "        v = float(value)\n",
    "        if v == 0:\n",
    "            symbol = cmath.exp((math.pi/4) * 1j)\n",
    "        elif v ==1:\n",
    "            symbol = cmath.exp((3*math.pi/4) * 1j)\n",
    "        elif v == 2:\n",
    "            symbol = cmath.exp((5*math.pi/4) * 1j)\n",
    "        else:\n",
    "            symbol = cmath.exp((7*math.pi/4) * 1j)\n",
    "        \n",
    "\n",
    "        known.append(symbol)\n",
    "    except:\n",
    "        pass\n",
    "    \n",
    "known = np.array(known)"
   ]
  },
  {
   "cell_type": "code",
   "execution_count": 238,
   "metadata": {},
   "outputs": [],
   "source": [
    "first1024 = known[:1024]\n",
    "\n",
    "first_half = []\n",
    "for val in first1024:\n",
    "    first_half.append(val)\n",
    "    first_half.append(0)\n",
    "first_half.pop()\n",
    "\n",
    "SC_fourier = np.concatenate(([0], first_half, [0], np.conjugate(first_half[::-1])))\n",
    "SC_time = ifft(known_fourier).real\n",
    "\n",
    "known_fourier = np.concatenate(([0], known, [0], np.conjugate(known[::-1])))\n",
    "known_time = ifft(known_fourier).real"
   ]
  },
  {
   "cell_type": "code",
   "execution_count": 239,
   "metadata": {},
   "outputs": [
    {
     "name": "stdout",
     "output_type": "stream",
     "text": [
      "48000\n"
     ]
    }
   ],
   "source": [
    "# So far this works the best at estimating the location... \n",
    "chirp_signal = Chirp(100,8000,1, volume = 100)\n",
    "print(len(chirp_signal))"
   ]
  },
  {
   "cell_type": "code",
   "execution_count": 240,
   "metadata": {},
   "outputs": [],
   "source": [
    "y = audioDataFromFile('Data_Files/c9a71v_received.wav')"
   ]
  },
  {
   "cell_type": "code",
   "execution_count": 241,
   "metadata": {},
   "outputs": [],
   "source": [
    "y_section = np.reshape(y, y.size)[0:200000]\n",
    "g = np.convolve(y_section, chirp_signal[::-1], 'valid') # convoluton\n",
    "i_max = np.argmax(g[:int(len(g)/2)])"
   ]
  },
  {
   "cell_type": "code",
   "execution_count": 242,
   "metadata": {},
   "outputs": [
    {
     "data": {
      "text/plain": [
       "3"
      ]
     },
     "execution_count": 242,
     "metadata": {},
     "output_type": "execute_result"
    }
   ],
   "source": [
    "# NOT SURE HOW TO DO SECOND PART OF SCHMIDL AND COX!!!!\n",
    "'''afterchirp = i_max + len(chirp_signal)+101\n",
    "window_length = 4096\n",
    "y_window = y[afterchirp:afterchirp+window_length]\n",
    "\n",
    "f_window = fft(y_window)\n",
    "\n",
    "div = []\n",
    "for i in range(4096):\n",
    "    if i%2 == 1:\n",
    "        div.append(f_window[i]/SC_fourier[i])\n",
    "\n",
    "plot_y(np.unwrap(np.angle(div)))\n",
    "plot_y(np.angle(div), f=1)\n",
    "print(abs(f_window)[:10])\n",
    "#plot_y(np.angle(f_window))\n",
    "\n",
    "check_length = 2048-100\n",
    "corr = []\n",
    "for i in range(2048):\n",
    "    p = np.array(y_window[i:i+check_length])\n",
    "    p_dash = np.array(y_window[i+2048:i+2048+check_length])\n",
    "    #print(p.shape, p_dash.shape)\n",
    "    corr.append(np.dot(p, p_dash))\n",
    "    #print(i)\n",
    "    \n",
    "plot_y(corr)\n",
    "\n",
    "i_min = np.argmin(corr)\n",
    "rng = 100\n",
    "plot_y(corr[i_min - rng:i_min + rng], f=2, title=\"Closeup of peak +- \" + str(rng) + \" samples\")'''\n",
    "3"
   ]
  },
  {
   "cell_type": "code",
   "execution_count": 305,
   "metadata": {},
   "outputs": [],
   "source": [
    "error = 0\n",
    "y_confirm = y[i_max+ len(chirp_signal)+4096+100+error:]\n",
    "\n",
    "shift = 100\n",
    "#sliceData(time_data, timeshift, N, K, repeat)\n",
    "CE_samples, CE_freq, remaining = sliceData(y_confirm, 100, 4096, 100, 100)"
   ]
  },
  {
   "cell_type": "code",
   "execution_count": 306,
   "metadata": {},
   "outputs": [
    {
     "data": {
      "image/png": "[encoded data removed]",
      "text/plain": [
       "<Figure size 720x360 with 1 Axes>"
      ]
     },
     "metadata": {
      "needs_background": "light"
     },
     "output_type": "display_data"
    }
   ],
   "source": [
    "# getImpulseSimple(freq, known_freq, N, repeat)\n",
    "impulse_simple, TF = getImpulseSimple(CE_freq, known_fourier, len(CE_freq[0]), len(CE_freq))\n",
    "\n",
    "labelsize = 13\n",
    "ticksize = 13\n",
    "titlesize = 19\n",
    "\n",
    "plot_length = 100\n",
    "plt.figure(0, figsize = (10,5))\n",
    "freq_x = np.linspace(0, plot_length/fs, plot_length)\n",
    "x = np.linspace(0, plot_length, plot_length)\n",
    "\n",
    "plt.plot(x, impulse_simple[0:plot_length])\n",
    "plt.xlabel(\"Time (index)\", fontsize = labelsize)\n",
    "plt.ylabel(\"Amplitude\",  fontsize = labelsize)\n",
    "\n",
    "plt.title(\"Estimated impulse response\", fontsize = titlesize)\n",
    "\n",
    "plt.show\n",
    "#plt.savefig(\"Data_Files/w2_3_impulse.pdf\")\n",
    "#plot_y(impulse_simple)\n",
    "\n",
    "plot_y(np.angle(TF))"
   ]
  },
  {
   "cell_type": "code",
   "execution_count": 307,
   "metadata": {},
   "outputs": [],
   "source": [
    "y_data = y_confirm[4196*100:]"
   ]
  },
  {
   "cell_type": "code",
   "execution_count": 308,
   "metadata": {},
   "outputs": [
    {
     "name": "stdout",
     "output_type": "stream",
     "text": [
      "2051076\n"
     ]
    },
    {
     "data": {
      "image/png": "[encoded data removed]",
      "text/plain": [
       "<Figure size 432x288 with 1 Axes>"
      ]
     },
     "metadata": {
      "needs_background": "light"
     },
     "output_type": "display_data"
    }
   ],
   "source": [
    "d = len(y_data)/4096\n",
    "\n",
    "chunks = []\n",
    "for i in range(math.floor(d)):\n",
    "    chunks.append(y_data[i*4096:(i+1)*4096])\n",
    "\n",
    "print(len(y_data))\n",
    "plot_y(y_data[-120000:-90000])"
   ]
  },
  {
   "cell_type": "code",
   "execution_count": 309,
   "metadata": {},
   "outputs": [
    {
     "data": {
      "image/png": "[encoded data removed]",
      "text/plain": [
       "<Figure size 432x288 with 1 Axes>"
      ]
     },
     "metadata": {
      "needs_background": "light"
     },
     "output_type": "display_data"
    }
   ],
   "source": [
    "binary = []\n",
    "freq = TF[1:2048]\n",
    "for i in range(10): #len(chunks)):\n",
    "    fft_data = fft(chunks[i])[1:2048]\n",
    "   \n",
    "    div = np.divide(fft_data, freq)\n",
    "    if i == 0:\n",
    "        plot_y(div.imag, f=i)\n",
    "        \n",
    "    \n",
    "    for j in range(len(div)):\n",
    "        #div = fft_data[j]/TF[j+1]\n",
    "        \n",
    "        bit0 = 0\n",
    "        bit1 = 0\n",
    "        \n",
    "        if div[j].real < 0:\n",
    "            bit1 = 1\n",
    "        if div[j].imag < 0:\n",
    "            bit0 = 1\n",
    "            \n",
    "        binary.append(bit0)\n",
    "        binary.append(bit1)\n",
    "\n",
    "bin_single_sting = \"\"\n",
    "for i in range(len(binary)):\n",
    "    bin_single_sting += str(binary[i])"
   ]
  },
  {
   "cell_type": "code",
   "execution_count": 310,
   "metadata": {},
   "outputs": [
    {
     "name": "stdout",
     "output_type": "stream",
     "text": [
      "[80, 136]\n",
      "c9a71v.txt\n",
      "c9a71v.txt 243729 -1909036\n"
     ]
    }
   ],
   "source": [
    "# Find information about the file name and the byte length of the file\n",
    "file_seperation = []\n",
    "count = 0\n",
    "for i in range(math.floor(len(binary)/8)):\n",
    "    byte = binary[i*8:(i+1)*8]\n",
    "    zero = True\n",
    "    for bit in byte:\n",
    "        if bit == 1:\n",
    "            zero = False\n",
    "            \n",
    "    if zero:\n",
    "        #print(byte, \"zero\")\n",
    "        file_seperation.append(i*8)\n",
    "            \n",
    "        count += 1\n",
    "    \n",
    "    if count == 2:\n",
    "        break\n",
    "        \n",
    "print(file_seperation)\n",
    "# Extract file name and length of the file\n",
    "Filename= str_to_bytearray(bin_single_sting[0:file_seperation[0]]).decode(\"utf-8\", \"replace\")\n",
    "print(Filename)\n",
    "Length = int(str_to_bytearray(bin_single_sting[file_seperation[0]+8:file_seperation[1]]).decode())\n",
    "\n",
    "extra_bits = len(binary) - file_seperation[1] - 8 - Length*8\n",
    "\n",
    "raw_file = bin_single_sting[file_seperation[1] + 8 : -1*extra_bits]\n",
    "\n",
    "print(Filename, Length, extra_bits)"
   ]
  },
  {
   "cell_type": "code",
   "execution_count": 311,
   "metadata": {},
   "outputs": [
    {
     "data": {
      "text/plain": [
       "\"c9a71v.txt\\x00243729\\x00GATCTTAAACATTTATTCCCCCTGCAAACATTTTCAATCATTA�ATtGTCATTTcCCCTCCAAATTAAAtTTAGCCAGAG\\nG�GCacaaCITACGAKCTCTaaaAAAGGTg�TGTAAKatgtACC\\\\Ati|oc�O�kgCaC<��atGA'!GkGg��tagkAG��GvTt�gTb(\\x05;}6�\\x10�g#t\\x14T�TTTAtAtTaaCTtgAA�\\x0f|�t�T�<t���\\x1e���oAGt�TA�aCAAAGGgagCGgtTT\\nACatTOAaTTaaAgGCa�C|a�tgATGggTtgtGTaATgtttCaAaGAgCTg4TocAGc�tgaG\\x14Gg�AAaTAAAaCCGT\\na|TAGTGCT�cC�ogK�C)\\x7ftt�g��AcaAaA�gg\\x01GcOaTTCKATTaAGaGA�COIFVBAGC\\x01XA\\x01O\\\\GGAA�A�CTAa\\naGVTT�tGAiAAT��TP�C<CVG\\x07AT��A�IG�\\x01\\\\CV\\x03ATAAcACAGAaACAGCACTCc�QC\\x01GC\\x14F\\x03QtT\\x10AT\\x01CT\""
      ]
     },
     "execution_count": 311,
     "metadata": {},
     "output_type": "execute_result"
    }
   ],
   "source": [
    "str_to_bytearray(bin_single_sting[:80*50]).decode(\"utf-8\", \"replace\")"
   ]
  },
  {
   "cell_type": "code",
   "execution_count": null,
   "metadata": {},
   "outputs": [],
   "source": []
  }
 ],
 "metadata": {
  "kernelspec": {
   "display_name": "Python 3",
   "language": "python",
   "name": "python3"
  },
  "language_info": {
   "codemirror_mode": {
    "name": "ipython",
    "version": 3
   },
   "file_extension": ".py",
   "mimetype": "text/x-python",
   "name": "python",
   "nbconvert_exporter": "python",
   "pygments_lexer": "ipython3",
   "version": "3.7.4"
  }
 },
 "nbformat": 4,
 "nbformat_minor": 2
}
