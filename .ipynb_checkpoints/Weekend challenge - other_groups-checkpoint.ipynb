{
 "cells": [
  {
   "cell_type": "code",
   "execution_count": 119,
   "metadata": {},
   "outputs": [],
   "source": [
    "import numpy as np\n",
    "from scipy.fftpack import fft\n",
    "import matplotlib.pyplot as plt\n",
    "import csv\n",
    "import math\n",
    "import binascii"
   ]
  },
  {
   "cell_type": "code",
   "execution_count": 129,
   "metadata": {},
   "outputs": [],
   "source": [
    "grp = 4"
   ]
  },
  {
   "cell_type": "code",
   "execution_count": 130,
   "metadata": {},
   "outputs": [],
   "source": [
    "with open('Data_Files/gr' + str(grp) + 'channel.csv', 'r') as file:\n",
    "    FIR = file.read().replace('\\n', '')\n",
    "FIR = [float(x) for x in FIR.split()] \n",
    "\n",
    "with open('Data_Files/gr' + str(grp) + 'file.csv', 'r') as file:\n",
    "    data = file.read().replace('\\n', '')\n",
    "data = [float(x) for x in data.split()]"
   ]
  },
  {
   "cell_type": "code",
   "execution_count": 131,
   "metadata": {},
   "outputs": [],
   "source": [
    "d = len(data)/1056\n",
    "\n",
    "# removing cyclic prefix\n",
    "no_prefix = []\n",
    "for i in range(int(d)):\n",
    "    no_prefix.append(data[i*1056 + 32:(i+1)*1056])"
   ]
  },
  {
   "cell_type": "code",
   "execution_count": 132,
   "metadata": {},
   "outputs": [],
   "source": [
    "# Function to display something quickly\n",
    "def plot_y(y):\n",
    "    x = np.linspace(0, len(y), len(y))\n",
    "    plt.plot(x, y)\n",
    "    plt.show"
   ]
  },
  {
   "cell_type": "code",
   "execution_count": 133,
   "metadata": {},
   "outputs": [],
   "source": [
    "freq = fft(FIR, n = 1024)[1:512]\n",
    "binary = []\n",
    "for i in range(len(no_prefix)):\n",
    "    fft_data = fft(no_prefix[i])[1:512]\n",
    "    \n",
    "    for j in range(len(fft_data)):\n",
    "        div = fft_data[j]/freq[j]\n",
    "        \n",
    "        bit0 = 0\n",
    "        bit1 = 0\n",
    "        \n",
    "        if div.real < 0:\n",
    "            bit1 = 1\n",
    "        if div.imag < 0:\n",
    "            bit0 = 1\n",
    "            \n",
    "        binary.append(bit0)\n",
    "        binary.append(bit1)\n",
    "\n",
    "bin_single_sting = \"\"\n",
    "for i in range(len(binary)):\n",
    "    bin_single_sting += str(binary[i])"
   ]
  },
  {
   "cell_type": "code",
   "execution_count": 134,
   "metadata": {},
   "outputs": [],
   "source": [
    "def str_to_bytearray(string_data):\n",
    "    new_data = []\n",
    "    for i in range(0, len(string_data), 8):\n",
    "        new_data.append(string_data[i:i+8])  \n",
    "\n",
    "    int_data = [] \n",
    "    for i in new_data:\n",
    "        int_data.append(int(i,2))\n",
    "\n",
    "    return bytearray(int_data)"
   ]
  },
  {
   "cell_type": "code",
   "execution_count": 135,
   "metadata": {},
   "outputs": [
    {
     "name": "stdout",
     "output_type": "stream",
     "text": [
      "[0, 1, 1, 0, 0, 0, 1, 0]\n",
      "[0, 0, 1, 1, 1, 0, 0, 1]\n",
      "[0, 1, 1, 0, 1, 0, 1, 1]\n",
      "[0, 0, 1, 1, 0, 0, 1, 0]\n",
      "[0, 1, 1, 1, 0, 1, 1, 1]\n",
      "[0, 1, 1, 0, 0, 1, 0, 1]\n",
      "[0, 0, 1, 0, 1, 1, 1, 0]\n",
      "[0, 1, 1, 1, 0, 1, 1, 1]\n",
      "[0, 1, 1, 0, 0, 0, 0, 1]\n",
      "[0, 1, 1, 1, 0, 1, 1, 0]\n",
      "[0, 0, 0, 0, 0, 0, 0, 0] zero\n",
      "[0, 0, 1, 1, 0, 1, 0, 0]\n",
      "[0, 0, 1, 1, 1, 0, 0, 1]\n",
      "[0, 0, 1, 1, 0, 1, 0, 1]\n",
      "[0, 0, 1, 1, 0, 1, 1, 0]\n",
      "[0, 0, 1, 1, 0, 0, 1, 0]\n",
      "[0, 0, 0, 0, 0, 0, 0, 0] zero\n",
      "[0, 1, 0, 1, 0, 0, 1, 0]\n",
      "[0, 1, 0, 0, 1, 0, 0, 1]\n",
      "[0, 1, 0, 0, 0, 1, 1, 0]\n",
      "[0, 1, 0, 0, 0, 1, 1, 0]\n",
      "[1, 0, 0, 1, 0, 0, 1, 0]\n",
      "[1, 1, 0, 0, 0, 0, 0, 1]\n",
      "[0, 0, 0, 0, 0, 0, 0, 0] zero\n",
      "[0, 0, 0, 0, 0, 0, 0, 0] zero\n",
      "[0, 1, 0, 1, 0, 1, 1, 1]\n",
      "[0, 1, 0, 0, 0, 0, 0, 1]\n",
      "[0, 1, 0, 1, 0, 1, 1, 0]\n",
      "[0, 1, 0, 0, 0, 1, 0, 1]\n",
      "[0, 1, 1, 0, 0, 1, 1, 0]\n",
      "[0, 1, 1, 0, 1, 1, 0, 1]\n",
      "[0, 1, 1, 1, 0, 1, 0, 0]\n",
      "[0, 0, 1, 0, 0, 0, 0, 0]\n",
      "[0, 0, 0, 1, 0, 0, 0, 0]\n",
      "[0, 0, 0, 0, 0, 0, 0, 0] zero\n",
      "[0, 0, 0, 0, 0, 0, 0, 0] zero\n",
      "[0, 0, 0, 0, 0, 0, 0, 0] zero\n",
      "[0, 0, 0, 0, 0, 0, 0, 1]\n"
     ]
    }
   ],
   "source": [
    "# Find information about the file name and the byte length of the file\n",
    "file_seperation = []\n",
    "count = 0\n",
    "for i in range(math.floor(len(binary)/8)):\n",
    "    byte = binary[i*8:(i+1)*8]\n",
    "    zero = True\n",
    "    for bit in byte:\n",
    "        if bit == 1:\n",
    "            zero = False\n",
    "            \n",
    "    if zero:\n",
    "        #print(byte, \"zero\")\n",
    "        file_seperation.append(i*8)\n",
    "        if i*8 < 300:\n",
    "            print(byte, \"zero\")\n",
    "            \n",
    "        count += 1\n",
    "    else:\n",
    "        if i*8 < 300:\n",
    "            print(byte)\n",
    "        else:\n",
    "            break\n",
    "\n",
    "    if count == 2:\n",
    "        pass#break"
   ]
  },
  {
   "cell_type": "code",
   "execution_count": 128,
   "metadata": {},
   "outputs": [
    {
     "name": "stdout",
     "output_type": "stream",
     "text": [
      "b9k2we.wav\n",
      "49562 926\n",
      "bytearray(b'RIFF\\x92\\xc1\\x00\\x00WAVEfmt ')\n",
      "bytearray(b'\\x10\\x00\\x00\\x00\\x01\\x0c\\x01\\x00@\\x1f\\x00\\x00@\\x1f\\x00\\x00')\n",
      "bytearray(b'\\x01\\x00\\x08\\x00LIST\\x1a\\x00\\x00\\x00INFO')\n",
      "bytearray(b'ISFT\\x0e\\x00\\x00\\x00Lavf58.4')\n",
      "bytearray(b'2.101\\x00dataK\\xc1\\x00\\x00\\x85\\x86')\n",
      "bytearray(b'z\\x8ct\\x82\\x85t\\x7f\\x80}y\\x89\\x86\\x87{\\x80\\x8b')\n"
     ]
    },
    {
     "data": {
      "text/plain": [
       "b'5249464692c1000057415645666d742010000000010c0100401f0000401f0000010008004c4953541a000000494e464f495346540e0000004c61766635382e34322e31303100646174614bc1000085867a8c748285747f807d798986877b808b837f7f86'"
      ]
     },
     "execution_count": 128,
     "metadata": {},
     "output_type": "execute_result"
    }
   ],
   "source": [
    "# Extract file name and length of the file\n",
    "Filename= str_to_bytearray(bin_single_sting[0:file_seperation[0]]).decode()\n",
    "Length = int(str_to_bytearray(bin_single_sting[file_seperation[0]+8:file_seperation[1]]).decode())\n",
    "\n",
    "extra_bits = len(binary) - file_seperation[1] - 8 - Length*8\n",
    "\n",
    "raw_file = bin_single_sting[file_seperation[1] + 8 : -1*extra_bits]\n",
    "\n",
    "newFile = open(\"Data_Files/key\" + str(grp) + \".wav\", mode = 'bx')\n",
    "newFile.write(str_to_bytearray(raw_file))\n",
    "'''\n",
    "with open('myfile.wav', mode='bx') as f:\n",
    "    f.write(response)\n",
    "'''\n",
    "print(Filename)\n",
    "print(Length, extra_bits)\n",
    "\n",
    "for i in range(6):\n",
    "    print(str_to_bytearray(raw_file)[i*16:(i+1)*16])\n",
    "binascii.hexlify(str_to_bytearray(raw_file)[:100])"
   ]
  },
  {
   "cell_type": "code",
   "execution_count": null,
   "metadata": {},
   "outputs": [],
   "source": []
  },
  {
   "cell_type": "code",
   "execution_count": null,
   "metadata": {},
   "outputs": [],
   "source": []
  }
 ],
 "metadata": {
  "kernelspec": {
   "display_name": "Python 3",
   "language": "python",
   "name": "python3"
  },
  "language_info": {
   "codemirror_mode": {
    "name": "ipython",
    "version": 3
   },
   "file_extension": ".py",
   "mimetype": "text/x-python",
   "name": "python",
   "nbconvert_exporter": "python",
   "pygments_lexer": "ipython3",
   "version": "3.7.4"
  }
 },
 "nbformat": 4,
 "nbformat_minor": 2
}
