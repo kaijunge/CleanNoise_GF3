{
 "cells": [
  {
   "cell_type": "markdown",
   "metadata": {},
   "source": [
    "# Libaries to import "
   ]
  },
  {
   "cell_type": "code",
   "execution_count": null,
   "metadata": {},
   "outputs": [],
   "source": [
    "from audioFunctions import *\n",
    "from binaryFunctions import *\n",
    "from qam import *\n",
    "from sequenceGenerators import *\n",
    "from receiver import *\n",
    "from error_coding import *\n",
    "from to_import import *"
   ]
  },
  {
   "cell_type": "markdown",
   "metadata": {},
   "source": [
    "# Transmitsion\n",
    "### Importing data, preparing them into the relevant formats, and saving/playing the output .wav file"
   ]
  },
  {
   "cell_type": "code",
   "execution_count": null,
   "metadata": {},
   "outputs": [],
   "source": [
    "# Load data here\n",
    "\n",
    "# Random bits \n",
    "CE_binary = binaryTextFileToBinary('Data_Files/random_bits.txt')\n",
    "\n",
    "# Original binary file\n",
    "binary = binaryTextFileToBinary('Data_Files/kokoro_bin.txt')"
   ]
  },
  {
   "cell_type": "code",
   "execution_count": null,
   "metadata": {},
   "outputs": [],
   "source": [
    "# Error coding here\n",
    "\n",
    "# Original binary file passed through Hamming(7,4) coding\n",
    "coded_binary = binaryTextFileToBinary('Data_Files/coded_kokoro_bin.txt')"
   ]
  },
  {
   "cell_type": "code",
   "execution_count": null,
   "metadata": {},
   "outputs": [],
   "source": [
    "# Set the parameters for transmission\n",
    "Mode = \"B\" # select mode from A, B, C\n",
    "\n",
    "# Cyclic Prefix\n",
    "CP_mode = {\"A\": 224, \"B\": 704, \"C\": 1184}\n",
    "\n",
    "# DFT length \n",
    "N = 4096\n",
    "CP = CP_mode[Mode]\n",
    "\n",
    "# Number of time indecies we go back in time from the \"optimal point\"\n",
    "guard = 5\n",
    "\n",
    "# Number of known symbol repeats for every frame\n",
    "CE_repeat = 20\n",
    "\n",
    "# Number of data symbols in each frame\n",
    "frame_data_length = 180"
   ]
  },
  {
   "cell_type": "code",
   "execution_count": null,
   "metadata": {},
   "outputs": [],
   "source": [
    "# Make your instructions ( THIS CAN BE MADE MORE COMPLICATED USING MAGNITUDE DATA FROM THE CHANNEL TF )\n",
    "instruction = []\n",
    "for i in range(int(N/2 - 1)):\n",
    "    if i <1500 and i >= 100:\n",
    "        instruction.append(1)\n",
    "    else: \n",
    "        instruction.append(0)\n",
    "        \n",
    "# assuming 0 -> no data, 1 -> QPSK, 2 -> 16QAM\n",
    "# find number of bits necessary for each OFDM symbol \n",
    "bits_in_ofdm_symbol = 0\n",
    "for value in instruction: \n",
    "    bits_in_ofdm_symbol += value*2"
   ]
  },
  {
   "cell_type": "code",
   "execution_count": null,
   "metadata": {},
   "outputs": [],
   "source": [
    "# XOR operation\n",
    "\n",
    "# This is information shared to the receiver\n",
    "rand_binary = CE_binary[:bits_in_ofdm_symbol]  \n",
    "data_binary_len = len(coded_binary)\n",
    "\n",
    "# Not shared to receiver\n",
    "rand_for_xor = (rand_binary * math.ceil(data_binary_len/bits_in_ofdm_symbol))[0:data_binary_len]\n",
    "\n",
    "# XOR the coded binary sequence\n",
    "coded_binary = xor(coded_binary, rand_for_xor)"
   ]
  },
  {
   "cell_type": "code",
   "execution_count": null,
   "metadata": {
    "scrolled": false
   },
   "outputs": [],
   "source": [
    "# QAM modulation for the coded binary sequence\n",
    "\n",
    "# Modulate the random sequence used for channel estimation using QPSK\n",
    "CE_modulated = qpsk(CE_binary)\n",
    "\n",
    "# Modulate the data symbols using the instruction array\n",
    "data_modulated = varyingModulation_std(coded_binary, instruction, N, CE_binary, print_progress = True)"
   ]
  },
  {
   "cell_type": "code",
   "execution_count": null,
   "metadata": {},
   "outputs": [],
   "source": [
    "# Chirp signal \n",
    "'''Start_F = 0\n",
    "End_F = 8000\n",
    "Time = 5*(CP+N)/fs\n",
    "'''\n",
    "Start_F = 500\n",
    "End_F = 20500\n",
    "Time = 10*(CP+N)/fs\n",
    "\n",
    "# Prepare chirp signal\n",
    "chirp_signal = Chirp(Start_F,End_F,Time, volume = 100)"
   ]
  },
  {
   "cell_type": "code",
   "execution_count": null,
   "metadata": {},
   "outputs": [],
   "source": [
    "# For channel esimation (CE)\n",
    "\n",
    "# Prepare CE and payload data to be transmitted\n",
    "CE_symbols, CE_Freq = ofdmSymbols(CE_modulated, CP, N)\n",
    "Payload_symbols, Payload_Freq = ofdmSymbols(data_modulated, CP, N)\n",
    "\n",
    "# Adjust the number of OFDM symbols in the payload so it has intger number of frame content\n",
    "extra = frame_data_length - len(Payload_symbols)%frame_data_length\n",
    "for i in range(extra):\n",
    "    Payload_symbols = np.concatenate((Payload_symbols, [CE_symbols[1]]))\n",
    "    \n",
    "\n",
    "# Identify number of frames are present in the transmitted sequence\n",
    "num_of_frames = int(len(Payload_symbols)/frame_data_length)"
   ]
  },
  {
   "cell_type": "code",
   "execution_count": null,
   "metadata": {},
   "outputs": [],
   "source": [
    "# Prepare what to actually transmit\n",
    "\n",
    "# Channel estimation at the beginning\n",
    "CE_transmit = repeat_signal(CE_symbols[0], CE_repeat)\n",
    "known_freq = CE_Freq[0]\n",
    "\n",
    "# Payload mixed with CE symbols distributed between them\n",
    "Payload = prepare_payload_std(Payload_symbols, CE_transmit, chirp_signal, num_of_frames, frame_data_length)"
   ]
  },
  {
   "cell_type": "code",
   "execution_count": null,
   "metadata": {},
   "outputs": [],
   "source": [
    "Tx = (Pause(1),) + tuple(Payload) # Pause 20 is just to remove any effects a the beginning of the transmission \n",
    "Transmit_time = round(len(np.concatenate(Tx))/fs, 2)\n",
    "\n",
    "print(\"Transmit signal is\", math.floor(Transmit_time/60), \"min and\", Transmit_time%60, \"seconds\")"
   ]
  },
  {
   "cell_type": "code",
   "execution_count": null,
   "metadata": {},
   "outputs": [],
   "source": [
    "# Transmit the message / save the wav file\n",
    "# playOutput = True to play the wave file \n",
    "x = save_transmit( Tx , playOutput=False)"
   ]
  },
  {
   "cell_type": "markdown",
   "metadata": {},
   "source": [
    "# Receiver"
   ]
  },
  {
   "cell_type": "code",
   "execution_count": null,
   "metadata": {},
   "outputs": [],
   "source": [
    "# Import the recorded signal\n",
    "y = audioDataFromFile('Wav_Files/reallylong_recording2.wav')\n",
    "\n",
    "# Find the first chirp and return the signal from just before that chirp\n",
    "y_signal = detect_chirps(y, chirp_signal, 60)"
   ]
  },
  {
   "cell_type": "code",
   "execution_count": null,
   "metadata": {},
   "outputs": [],
   "source": [
    "# length of each frame in time steps\n",
    "length = (N + CP) * (frame_data_length + CE_repeat * 2) + len(chirp_signal)\n",
    "frame_count = count_frames(y_signal, chirp_signal, length)"
   ]
  },
  {
   "cell_type": "code",
   "execution_count": null,
   "metadata": {},
   "outputs": [],
   "source": [
    "#################################################################################################\n",
    "# TUNABLE PARAMETERS!\n",
    "#################################################################################################\n",
    "\n",
    "stable_phase_start = 400  # where we estimate the \"stable region\" of the phase to start\n",
    "stable_phase_length = 400 # how long the stable region continues for\n",
    "plot = False              # display plots or not\n",
    "\n",
    "#################################################################################################\n",
    "\n",
    "\n",
    "# Calculating time index lengths\n",
    "data_index_length = frame_data_length * (N+CP)\n",
    "CE_index_length = CE_repeat * (N+CP)\n",
    "\n",
    "\n",
    "y_use = y_signal\n",
    "# big loop to find out everything\n",
    "for i in range(frame_count):\n",
    "    \n",
    "    # obtain only the time series for one frame\n",
    "    y_data = removeChirpAndPause_std(y_use, chirp_signal, fs*5, plot = False, rng = 100)\n",
    "    \n",
    "    # Slice the data to retrieve the CE\n",
    "    CE_samples, CE_freq, remaining = sliceData(y_data, CP-guard, N, CP, CE_repeat)\n",
    "    CE_samples_end, CE_freq_end, remaining_end \\\n",
    "                    = sliceData(y_data[data_index_length + CE_index_length:], CP-guard, N, CP, CE_repeat)\n",
    "    \n",
    "    \n",
    "    # Obtain channel response at the beginning and end of the frame\n",
    "    # channel response -> Impulse response and Frequency response (Transfer function)\n",
    "    impulse_start, TF_start = getTF_FreqAverage(CE_freq, known_freq, N, CE_repeat)\n",
    "    impulse_end, TF_end = getTF_FreqAverage(CE_freq_end, known_freq, N, CE_repeat)\n",
    "\n",
    "\n",
    "    # Unwrapped phase for positive frequencies of the channel response\n",
    "    angle_start = np.unwrap(np.angle(TF_start[:2048]))\n",
    "    angle_end = np.unwrap(np.angle(TF_end[:2048]))\n",
    "\n",
    "    # Difference in phase \n",
    "    difference = []\n",
    "    for p, val in enumerate(angle_end):\n",
    "        difference.append(round(val - angle_start[p], 3))\n",
    "        \n",
    "    # p = x coordinates, q = y coordinates to do linear curve fitting\n",
    "    p = np.linspace(stable_phase_start,   stable_phase_start + stable_phase_length,   stable_phase_length)\n",
    "    q = difference[stable_phase_start:   stable_phase_start + stable_phase_length  ]\n",
    "    \n",
    "    # output gradient and y-intercept. \n",
    "    param = np.polyfit(p,q,1)\n",
    "    grad = param[0]\n",
    "    \n",
    "    # Organise all the data symbols in the frame into chunks of 2047 frequency bins\n",
    "    # Also perform phase correction using the gradient of the linear phase added due to the frequency mismatch\n",
    "    sliced_data = sliceDataContent_std(TF_start, TF_end, remaining, CP-guard, N, CP, frame_data_length, grad, CE_repeat)\n",
    "    if i == 0:\n",
    "        freq_data = sliced_data\n",
    "    else:\n",
    "        freq_data = np.concatenate((freq_data, sliced_data))\n",
    "    \n",
    "    \n",
    "    # Update the time domain signal for the next frame\n",
    "    y_use = remaining_end\n",
    "    \n",
    "    \n",
    "    print(\"Completed frame \" + str(i+1))\n",
    "    print(\"   Linear phase gradient was \", grad)\n",
    "    \n",
    "    \n",
    "    # plotting stuff for debug purposes\n",
    "    if plot:  \n",
    "\n",
    "        plot_y(difference[stable_phase_start:stable_phase_length + stable_phase_start], f = i+100, title = i)\n",
    "        plot_y(angle_start, f = i, title = \"Phase of positive frequencies. Frame \" + str(i+1))\n",
    "        plot_y(angle_end, f= i)\n",
    "\n",
    "        plt.figure(i+1000)\n",
    "        plt.yscale(\"log\")\n",
    "        plt.plot(abs(np.array(TF_start))[:2048])\n",
    "        plt.plot(abs(np.array(TF_end))[:2048])\n",
    "        plt.title(\"Log magnitude plot. Frame \" + str(i+1))\n",
    "        plot_y(abs(np.array(TF_start))[:2048], f=i+2000, title = \"Linear magnitude plot. Frame \" + str(i+1)) \n",
    "        \n",
    "print(\"Data slicing complete\")\n",
    "print(\"A total of \" + str(freq_data.shape[0]) + \" OFDM symbols\")"
   ]
  },
  {
   "cell_type": "code",
   "execution_count": null,
   "metadata": {},
   "outputs": [],
   "source": [
    "# Plot constellations to see if they are sensible. \n",
    "\n",
    "# Set which OFDM symbol to view\n",
    "start = 180\n",
    "duration = 360\n",
    "\n",
    "# display window size\n",
    "window = 1\n",
    "for i in range(duration):\n",
    "    plot_res = np.array(freq_data[start+i])[100:1500]\n",
    "    plt.scatter(plot_res.real, plot_res.imag)\n",
    "    plt.xlim(-1*window,window)\n",
    "    plt.ylim(-1*window, window)"
   ]
  },
  {
   "cell_type": "code",
   "execution_count": null,
   "metadata": {},
   "outputs": [],
   "source": [
    "demodulated_data = demodVaryingModulation_std(np.concatenate(tuple(freq_data)), instruction, N)\n",
    "\n",
    "# This is information shared to the receiver\n",
    "data_binary_len = len(demodulated_data)\n",
    "\n",
    "# What to xor with the data. rand_binary calculated in Transmission side. \n",
    "rand_for_xor_Rx = (rand_binary * math.ceil(data_binary_len/bits_in_ofdm_symbol))[0:data_binary_len]\n"
   ]
  },
  {
   "cell_type": "code",
   "execution_count": null,
   "metadata": {},
   "outputs": [],
   "source": [
    "# XOR the whole sequence\n",
    "predict = xor(demodulated_data, rand_for_xor_Rx)"
   ]
  },
  {
   "cell_type": "code",
   "execution_count": null,
   "metadata": {},
   "outputs": [],
   "source": [
    "# Here is where you would apply demodulation for any coding. Perhaps for LDPC code you won't need to apply XOR"
   ]
  },
  {
   "cell_type": "code",
   "execution_count": null,
   "metadata": {},
   "outputs": [],
   "source": [
    "# If it is NOT text, don't include .decode('utf-8', 'replace')\n",
    "decoded = str_to_bytearray(predict).decode('utf-8', 'replace')\n",
    "decoded"
   ]
  }
 ],
 "metadata": {
  "kernelspec": {
   "display_name": "Python 3",
   "language": "python",
   "name": "python3"
  },
  "language_info": {
   "codemirror_mode": {
    "name": "ipython",
    "version": 3
   },
   "file_extension": ".py",
   "mimetype": "text/x-python",
   "name": "python",
   "nbconvert_exporter": "python",
   "pygments_lexer": "ipython3",
   "version": "3.7.4"
  }
 },
 "nbformat": 4,
 "nbformat_minor": 2
}
