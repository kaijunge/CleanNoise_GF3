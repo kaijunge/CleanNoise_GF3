{
 "cells": [
  {
   "cell_type": "code",
   "execution_count": 2,
   "metadata": {},
   "outputs": [],
   "source": [
    "from audioFunctions import *\n",
    "from binaryFunctions import *\n",
    "from qam import *\n",
    "from sequenceGenerators import *\n",
    "from receiver import *\n",
    "from to_import import *"
   ]
  },
  {
   "cell_type": "code",
   "execution_count": 3,
   "metadata": {},
   "outputs": [],
   "source": [
    "def str_to_bytearray(string_data):\n",
    "    new_data = []\n",
    "    for i in range(0, len(string_data), 8):\n",
    "        new_data.append(string_data[i:i+8])  \n",
    "\n",
    "    int_data = [] \n",
    "    for i in new_data:\n",
    "        int_data.append(int(i,2))\n",
    "\n",
    "    return bytearray(int_data)"
   ]
  },
  {
   "cell_type": "code",
   "execution_count": 7,
   "metadata": {},
   "outputs": [],
   "source": [
    "with open('Data_Files/a7r56tu_knownseq.csv', 'r') as file:\n",
    "    raw = file.read().replace('\\n', ',').split(',')\n",
    "\n",
    "known = []\n",
    "for value in raw:\n",
    "    try:\n",
    "        v = float(value)\n",
    "        if v == 0:\n",
    "            symbol = cmath.exp((math.pi/4) * 1j)\n",
    "        elif v ==1:\n",
    "            symbol = cmath.exp((3*math.pi/4) * 1j)\n",
    "        elif v == 2:\n",
    "            symbol = cmath.exp((5*math.pi/4) * 1j)\n",
    "        else:\n",
    "            symbol = cmath.exp((7*math.pi/4) * 1j)\n",
    "        \n",
    "\n",
    "        known.append(symbol)\n",
    "    except:\n",
    "        pass\n",
    "    \n",
    "known = np.array(known)"
   ]
  },
  {
   "cell_type": "code",
   "execution_count": 21,
   "metadata": {},
   "outputs": [
    {
     "name": "stdout",
     "output_type": "stream",
     "text": [
      "0.006905339660024858\n",
      "-0.006905339660024858\n"
     ]
    }
   ],
   "source": [
    "first1024 = known[:1024]\n",
    "\n",
    "first_half = []\n",
    "for val in first1024:\n",
    "    first_half.append(val)\n",
    "    first_half.append(0)\n",
    "first_half.pop()\n",
    "\n",
    "known_fourier = np.concatenate(([0], first_half, [0], np.conjugate(first_half[::-1])))\n",
    "known_time = ifft(known_fourier).real"
   ]
  },
  {
   "cell_type": "code",
   "execution_count": 23,
   "metadata": {},
   "outputs": [],
   "source": [
    "y = audioDataFromFile('Data_Files/b8v89t_received.wav')"
   ]
  },
  {
   "cell_type": "code",
   "execution_count": 34,
   "metadata": {},
   "outputs": [],
   "source": [
    "y_section = np.reshape(y, y.size)[0:200000]\n",
    "g = np.correlate(y_section, known_time, 'valid') # convoluton\n",
    "i_max = np.argmax(g[:int(len(g)/2)])"
   ]
  },
  {
   "cell_type": "code",
   "execution_count": 32,
   "metadata": {},
   "outputs": [],
   "source": [
    "rng = 2\n",
    "#plot_y(g[i_max - rng:i_max + rng], f=2, title=\"Closeup of peak +- \" + str(rng) + \" samples\")"
   ]
  },
  {
   "cell_type": "code",
   "execution_count": 49,
   "metadata": {},
   "outputs": [],
   "source": [
    "y_dash = y[i_max + len(known_time):]"
   ]
  },
  {
   "cell_type": "code",
   "execution_count": 50,
   "metadata": {},
   "outputs": [],
   "source": [
    "d = len(y_dash)/4096\n",
    "\n",
    "chunks = []\n",
    "for i in range(int(d)):\n",
    "    chunks.append(y_dash[i*4096:(i+1)*4096])"
   ]
  },
  {
   "cell_type": "code",
   "execution_count": 51,
   "metadata": {},
   "outputs": [
    {
     "name": "stdout",
     "output_type": "stream",
     "text": [
      "01010110\n",
      "4094\n"
     ]
    }
   ],
   "source": [
    "# FIRST ROUND\n",
    "binary = []\n",
    "for i in range(1):  #len(chunks)):\n",
    "    fft_data = fft(chunks[i])[1:2048]\n",
    "    \n",
    "    #plot_y(fft_data.imag, f = i)\n",
    "    #plot_y(chunks[i][1:2048], f = i)\n",
    "    \n",
    "    for freq_bin in fft_data:\n",
    "        \n",
    "        #print(freq_bin)\n",
    "\n",
    "        bit0 = 0\n",
    "        bit1 = 0\n",
    "\n",
    "        if freq_bin.real < 0:\n",
    "            bit1 = 1\n",
    "        if freq_bin.imag < 0:\n",
    "            bit0 = 1\n",
    "\n",
    "        binary.append(bit0)\n",
    "        binary.append(bit1)\n",
    "\n",
    "bin_single_sting = \"\"\n",
    "for i in range(len(binary)):\n",
    "    bin_single_sting += str(binary[i])\n",
    "    \n",
    "print(bin_single_sting[8*28:8*29])\n",
    "str_len = len(bin_single_sting)\n",
    "print(str_len)\n",
    "a = fft(chunks[0])[1:]"
   ]
  },
  {
   "cell_type": "code",
   "execution_count": 52,
   "metadata": {},
   "outputs": [
    {
     "name": "stdout",
     "output_type": "stream",
     "text": [
      "[80, 136]\n",
      "b8v89t.wav 761956 -6091698\n"
     ]
    }
   ],
   "source": [
    "# Find information about the file name and the byte length of the file\n",
    "file_seperation = []\n",
    "count = 0\n",
    "for i in range(math.floor(len(binary)/8)):\n",
    "    byte = binary[i*8:(i+1)*8]\n",
    "    zero = True\n",
    "    for bit in byte:\n",
    "        if bit == 1:\n",
    "            zero = False\n",
    "            \n",
    "    if zero:\n",
    "        #print(byte, \"zero\")\n",
    "        file_seperation.append(i*8)\n",
    "            \n",
    "        count += 1\n",
    "    \n",
    "    if count == 2:\n",
    "        break\n",
    "        \n",
    "print(file_seperation)\n",
    "# Extract file name and length of the file\n",
    "Filename= str_to_bytearray(bin_single_sting[0:file_seperation[0]]).decode()\n",
    "Length = int(str_to_bytearray(bin_single_sting[file_seperation[0]+8:file_seperation[1]]).decode())\n",
    "\n",
    "extra_bits = len(binary) - file_seperation[1] - 8 - Length*8\n",
    "\n",
    "raw_file = bin_single_sting[file_seperation[1] + 8 : -1*extra_bits]\n",
    "\n",
    "print(Filename, Length, extra_bits)"
   ]
  },
  {
   "cell_type": "code",
   "execution_count": 53,
   "metadata": {},
   "outputs": [
    {
     "name": "stdout",
     "output_type": "stream",
     "text": [
      "0  100  200  300  400  500  600  700  800  900  1000  1100  1200  1300  1400  01010110\n",
      "6095966\n"
     ]
    }
   ],
   "source": [
    "loop = math.ceil(Length * (4/2047))\n",
    "binary_long = []\n",
    "for i in range(loop):  #len(chunks)):\n",
    "    if i%100 == 0:\n",
    "        print(i, \" \", end = '')\n",
    "    fft_data = fft(chunks[i])[1:2048]\n",
    "    \n",
    "    \n",
    "    for j, freq_bin in enumerate(fft_data):\n",
    "\n",
    "        bit0 = 0\n",
    "        bit1 = 0\n",
    "\n",
    "        if freq_bin.real < 0:\n",
    "            bit1 = 1\n",
    "        if freq_bin.imag < 0:\n",
    "            bit0 = 1\n",
    "\n",
    "        binary_long.append(bit0)\n",
    "        binary_long.append(bit1)\n",
    "\n",
    "bin_single_sting_long = \"\"\n",
    "for i in range(len(binary_long)):\n",
    "    bin_single_sting_long += str(binary_long[i])\n",
    "    \n",
    "print(bin_single_sting_long[8*28:8*29])\n",
    "str_len_long = len(bin_single_sting_long)\n",
    "print(str_len_long)"
   ]
  },
  {
   "cell_type": "code",
   "execution_count": 54,
   "metadata": {},
   "outputs": [
    {
     "name": "stdout",
     "output_type": "stream",
     "text": [
      "b8v89t.wav 761956 174 6095648\n"
     ]
    }
   ],
   "source": [
    "# Find information about the file name and the byte length of the file\n",
    "file_seperation = []\n",
    "count = 0\n",
    "for i in range(math.floor(len(binary_long)/8)):\n",
    "    byte = binary_long[i*8:(i+1)*8]\n",
    "    zero = True\n",
    "    for bit in byte:\n",
    "        if bit == 1:\n",
    "            zero = False\n",
    "            \n",
    "    if zero:\n",
    "        #print(byte, \"zero\")\n",
    "        file_seperation.append(i*8)\n",
    "            \n",
    "        count += 1\n",
    "    \n",
    "    if count == 2:\n",
    "        break\n",
    "        \n",
    "# Extract file name and length of the file\n",
    "Filename= str_to_bytearray(bin_single_sting_long[0:file_seperation[0]]).decode()\n",
    "Length = int(str_to_bytearray(bin_single_sting_long[file_seperation[0]+8:file_seperation[1]]).decode())\n",
    "\n",
    "extra_bits = len(binary_long) - file_seperation[1] - 8 - Length*8\n",
    "\n",
    "raw_file = bin_single_sting_long[file_seperation[1] + 8 : -1*extra_bits]\n",
    "\n",
    "raw_file_length = len(raw_file)\n",
    "print(Filename, Length, extra_bits, raw_file_length)"
   ]
  },
  {
   "cell_type": "code",
   "execution_count": 55,
   "metadata": {},
   "outputs": [],
   "source": [
    "string_data = raw_file\n",
    "\n",
    "new_data = []\n",
    "for i in range(0, len(string_data), 8):\n",
    "    new_data.append(string_data[i:i+8])  \n",
    "\n",
    "int_data = [] \n",
    "for i in new_data:\n",
    "    int_data.append(int(i,2))\n",
    "\n",
    "byte = bytearray(int_data)"
   ]
  },
  {
   "cell_type": "code",
   "execution_count": 56,
   "metadata": {},
   "outputs": [
    {
     "data": {
      "text/plain": [
       "761956"
      ]
     },
     "execution_count": 56,
     "metadata": {},
     "output_type": "execute_result"
    }
   ],
   "source": [
    "newFile = open(\"Data_Files/w2_2_2_key.wav\", mode = 'bx')\n",
    "newFile.write(byte)"
   ]
  },
  {
   "cell_type": "code",
   "execution_count": null,
   "metadata": {},
   "outputs": [],
   "source": []
  },
  {
   "cell_type": "code",
   "execution_count": null,
   "metadata": {},
   "outputs": [],
   "source": []
  },
  {
   "cell_type": "code",
   "execution_count": 47,
   "metadata": {},
   "outputs": [],
   "source": [
    "string_data = raw_file\n",
    "\n",
    "new_data = []\n",
    "for i in range(0, len(string_data), 8):\n",
    "    new_data.append(string_data[i:i+8])  \n",
    "\n",
    "int_data = [] \n",
    "for i in new_data:\n",
    "    int_data.append(int(i,2))\n",
    "\n",
    "byte = bytearray(int_data)"
   ]
  },
  {
   "cell_type": "code",
   "execution_count": 48,
   "metadata": {},
   "outputs": [
    {
     "data": {
      "text/plain": [
       "1476376"
      ]
     },
     "execution_count": 48,
     "metadata": {},
     "output_type": "execute_result"
    }
   ],
   "source": [
    "newFile = open(\"Data_Files/key.gif\", \"wb\")\n",
    "newFile.write(byte)"
   ]
  },
  {
   "cell_type": "code",
   "execution_count": 15,
   "metadata": {},
   "outputs": [],
   "source": [
    "with open('Data_Files/a7r56tu_knownseq.csv', 'r') as file:\n",
    "    raw = file.read().replace('\\n', ',').split(',')\n",
    "\n",
    "known = []\n",
    "for value in raw:\n",
    "    try:\n",
    "        v = float(value)\n",
    "        if v == 0:\n",
    "            symbol = cmath.exp((math.pi/4) * 1j)\n",
    "        elif v ==1:\n",
    "            symbol = cmath.exp((3*math.pi/4) * 1j)\n",
    "        elif v == 2:\n",
    "            symbol = cmath.exp((5*math.pi/4) * 1j)\n",
    "        else:\n",
    "            symbol = cmath.exp((7*math.pi/4) * 1j)\n",
    "        \n",
    "\n",
    "        known.append(symbol)\n",
    "    except:\n",
    "        pass\n",
    "    \n",
    "known = np.array(known)"
   ]
  },
  {
   "cell_type": "code",
   "execution_count": 16,
   "metadata": {},
   "outputs": [],
   "source": [
    "known_fourier = np.concatenate(([0], known, [0], np.conjugate(known[::-1])))\n",
    "known_time = ifft(known_fourier).real"
   ]
  },
  {
   "cell_type": "code",
   "execution_count": 70,
   "metadata": {},
   "outputs": [
    {
     "name": "stdout",
     "output_type": "stream",
     "text": [
      "[3, 4]\n"
     ]
    }
   ],
   "source": [
    "a = [2,3,4,5]\n",
    "print(a[1:3])"
   ]
  },
  {
   "cell_type": "code",
   "execution_count": null,
   "metadata": {},
   "outputs": [],
   "source": []
  }
 ],
 "metadata": {
  "kernelspec": {
   "display_name": "Python 3",
   "language": "python",
   "name": "python3"
  },
  "language_info": {
   "codemirror_mode": {
    "name": "ipython",
    "version": 3
   },
   "file_extension": ".py",
   "mimetype": "text/x-python",
   "name": "python",
   "nbconvert_exporter": "python",
   "pygments_lexer": "ipython3",
   "version": "3.7.4"
  }
 },
 "nbformat": 4,
 "nbformat_minor": 2
}
