{
 "cells": [
  {
   "cell_type": "code",
   "execution_count": 126,
   "metadata": {},
   "outputs": [],
   "source": [
    "import sounddevice as sd\n",
    "from scipy.io.wavfile import write\n",
    "import sounddevice as sd\n",
    "import soundfile as sf\n",
    "import matplotlib.pyplot as plt\n",
    "from scipy.fftpack import fft, fftshift, ifft, fftfreq\n",
    "import numpy as np\n",
    "import simpleaudio as sa\n",
    "import wave\n",
    "from scipy.signal import chirp, correlate\n",
    "import math, cmath\n",
    "from statistics import mode\n",
    "from scipy import stats as s"
   ]
  },
  {
   "cell_type": "code",
   "execution_count": 2,
   "metadata": {},
   "outputs": [],
   "source": [
    "# Function to display something quickly\n",
    "def plot_y(y):\n",
    "    x = np.linspace(0, len(y), len(y))\n",
    "    plt.plot(x, y)\n",
    "    plt.show"
   ]
  },
  {
   "cell_type": "code",
   "execution_count": 81,
   "metadata": {},
   "outputs": [],
   "source": [
    "fs = 44100  # 44100 samples per second\n",
    "sd.default.samplerate = 44100  # Sample rate\n",
    "sd.default.channels = 1\n",
    "\n",
    "# Recording sound\n",
    "def record_and_save(filename, seconds):\n",
    "    myrecording = sd.rec(int(seconds * sd.default.samplerate))\n",
    "    print(\"recording\")\n",
    "    sd.wait()  # Wait until recording is finished\n",
    "    print(\"writing\")\n",
    "    write(filename, fs, myrecording)  # Save as WAV file \n",
    "    print(\"done\")\n",
    "    return myrecording\n",
    "\n",
    "# Recording sound and saving it as a wav file\n",
    "def record(seconds):\n",
    "    myrecording = sd.rec(int(seconds * sd.default.samplerate))\n",
    "    print(\"recording\")\n",
    "    sd.wait()  # Wait until recording is finished\n",
    "    print(\"done\")\n",
    "    return myrecording\n",
    "\n",
    "# Play note on computer\n",
    "def play_np_BT(note):\n",
    "    # Ensure that highest value is in 16-bit range\n",
    "    audio = note * (2**15 - 1) / np.max(np.abs(note))\n",
    "\n",
    "    # Convert to 16-bit data\n",
    "    audio = audio.astype(np.int16)\n",
    "\n",
    "    # Start playback\n",
    "    play_obj = sa.play_buffer(audio, 1, 2, fs)\n",
    "    print(\"Playing note\")\n",
    "        \n",
    "    # Wait for playback to finish before exiting\n",
    "    play_obj.wait_done()\n",
    "    print(\"done\")"
   ]
  },
  {
   "cell_type": "code",
   "execution_count": 9,
   "metadata": {},
   "outputs": [],
   "source": [
    "# Take a sequence of bits and returns a sequence of QPSK symbols half the length \n",
    "def qpsk(binary):\n",
    "    assert len(binary)%2 == 0, \"Binary string should have length multiple of 2\"\n",
    "    \n",
    "    qam = []\n",
    "    for i in range(int(len(binary)/2)):\n",
    "        real = 1/math.sqrt(2)\n",
    "        imaginary = 1/math.sqrt(2)*1j\n",
    "        \n",
    "        index = i*2\n",
    "        if binary[index] == '1':\n",
    "            imaginary *= -1\n",
    "        \n",
    "        if binary[index+1] == '1':\n",
    "            real *= -1\n",
    "            \n",
    "        qam.append(real + imaginary)\n",
    "        \n",
    "    return np.asarray(qam)"
   ]
  },
  {
   "cell_type": "code",
   "execution_count": 121,
   "metadata": {},
   "outputs": [],
   "source": [
    "# given a complex number constellation return the constellation (0,1,2,3)\n",
    "def decode_qpsk(complex_number):\n",
    "    Re = complex_number.real\n",
    "    Im = complex_number.imag\n",
    "\n",
    "    if Re > 0 and Im > 0:\n",
    "        symbol = 0\n",
    "    elif Re < 0 and Im > 0:\n",
    "        symbol = 1\n",
    "    elif Re < 0 and Im < 0:\n",
    "        symbol = 2\n",
    "    else:\n",
    "        symbol = 3\n",
    "        \n",
    "    return symbol"
   ]
  },
  {
   "cell_type": "code",
   "execution_count": 104,
   "metadata": {},
   "outputs": [],
   "source": [
    "# Produces a number of series for different uses with some variant of channel encoding\n",
    "# Assume 1024 point DFT\n",
    "repetition_length = 5\n",
    "def encoded_series(binary, qam, k):\n",
    "    assert 1024>=k, \"k must be < n\"\n",
    "    \n",
    "    # Get QPSK constellation from the binary sequence\n",
    "    constellation = qam(binary)\n",
    "    \n",
    "    ### Perform channel encoding here\n",
    "    \n",
    "    max_freq_index = 400 # will not add any information bits after this value \n",
    "    repetition = repetition_length\n",
    "    \n",
    "    # Now split the coded constellation into chunks for the iFFT including the coding method\n",
    "    chunks = []\n",
    "    new_chunk = True\n",
    "    for i in range(len(constellation)):\n",
    "        \n",
    "        # repetition coding\n",
    "        repeat = []\n",
    "        for j in range(repetition):\n",
    "            repeat.append(constellation[i])\n",
    "            \n",
    "        if new_chunk:\n",
    "            coded_constellation = repeat\n",
    "            new_chunk = False\n",
    "        else:\n",
    "            coded_constellation += repeat\n",
    "\n",
    "        if len(coded_constellation) > max_freq_index:\n",
    "            chunks.append(coded_constellation)\n",
    "            new_chunk = True\n",
    "           \n",
    "        # if chunk is too small and the for loop ends, just append it\n",
    "        if i == len(constellation) - 1:\n",
    "            chunks.append(coded_constellation)\n",
    "        \n",
    "   \n",
    "    for chunk in chunks:\n",
    "        padding = 511-len(chunk)\n",
    "        \n",
    "        for i in range(padding):\n",
    "            chunk.append(cmath.rect(1, math.pi/4))\n",
    "        \n",
    "    \n",
    "    time_series = []\n",
    "    long_series = None\n",
    "    freq_series = []\n",
    "    for i, chunk in enumerate(chunks):\n",
    "        chunk = np.asarray(chunk)\n",
    "        chunk2 = chunk[::-1].conjugate()\n",
    "        chunk_combined = np.concatenate(([0],chunk, [0],chunk2))\n",
    "        \n",
    "        freq_series.append(chunk_combined)\n",
    "        \n",
    "        time_chunk = ifft(chunk_combined).real\n",
    "        time_chunk = np.concatenate((time_chunk[-1*k:], time_chunk))\n",
    "        \n",
    "        single_msg = time_chunk*(2**15 - 1) / np.max(np.abs(time_chunk))\n",
    "    \n",
    "        time_series.append(single_msg)\n",
    "        if i == 0:\n",
    "            long_series = single_msg\n",
    "            \n",
    "        else:\n",
    "            long_series = np.concatenate((long_series, single_msg))\n",
    "        \n",
    "    return time_series, long_series, freq_series"
   ]
  },
  {
   "cell_type": "code",
   "execution_count": 76,
   "metadata": {},
   "outputs": [
    {
     "name": "stdout",
     "output_type": "stream",
     "text": [
      "28432\n"
     ]
    }
   ],
   "source": [
    "# Open a text file in the appropirate directory and then convert it into a binary sequence\n",
    "file = open(\"Data_Files/text.txt\")\n",
    "line = file.read().replace(\"\\n\", \" \")\n",
    "file.close()\n",
    "\n",
    "binary = '0' + bin(int.from_bytes(line.encode(), 'big'))[2:]\n",
    "print(len(binary))"
   ]
  },
  {
   "cell_type": "code",
   "execution_count": 77,
   "metadata": {},
   "outputs": [
    {
     "name": "stdout",
     "output_type": "stream",
     "text": [
      "(176, 2048)\n"
     ]
    },
    {
     "data": {
      "image/png": "[encoded data removed]",
      "text/plain": [
       "<Figure size 432x288 with 1 Axes>"
      ]
     },
     "metadata": {
      "needs_background": "light"
     },
     "output_type": "display_data"
    }
   ],
   "source": [
    "T, L, F = encoded_series(binary, qpsk, 1024)\n",
    "print(np.asarray(T).shape)\n",
    "\n",
    "plot_y(T[0])"
   ]
  },
  {
   "cell_type": "code",
   "execution_count": 80,
   "metadata": {},
   "outputs": [
    {
     "name": "stdout",
     "output_type": "stream",
     "text": [
      "Playing note\n",
      "done\n"
     ]
    }
   ],
   "source": [
    "# Create an appropriate wav file with the chirp appended\n",
    "\n",
    "sec = 1\n",
    "t = np.linspace(0, sec, sec * fs)\n",
    "h = chirp(t, f0=2000, f1=4000, t1=sec, method='linear')\n",
    "\n",
    "scaled = np.int16(h/np.max(np.abs(h)) * 32767)\n",
    "\n",
    "one_sec_zeros = np.zeros(fs)\n",
    "\n",
    "\n",
    "# Make a repeated sequence of the time domain signals \n",
    "# T_0 for finding the frequency/impulse response and T_1 to be decoded using that frequency response\n",
    "for i in range(20):\n",
    "    if i ==0:\n",
    "        T_0_many_times = T[0]\n",
    "        T_1_many_times = T[1]\n",
    "    else:\n",
    "        T_0_many_times = np.concatenate((T_0_many_times, T[0]))\n",
    "        T_1_many_times = np.concatenate((T_1_many_times, T[1]))\n",
    "        \n",
    "        \n",
    "out = np.concatenate((scaled,one_sec_zeros,T_0_many_times,T_1_many_times,one_sec_zeros))\n",
    "write('chirp_signal_3.wav', 44100, out)\n",
    "\n",
    "play_np_BT(out)"
   ]
  },
  {
   "cell_type": "code",
   "execution_count": 93,
   "metadata": {},
   "outputs": [
    {
     "name": "stdout",
     "output_type": "stream",
     "text": [
      "recording\n",
      "done\n"
     ]
    }
   ],
   "source": [
    "# record for 5 seconds\n",
    "y = record(5)"
   ]
  },
  {
   "cell_type": "code",
   "execution_count": 83,
   "metadata": {},
   "outputs": [
    {
     "name": "stdout",
     "output_type": "stream",
     "text": [
      "Playing note\n",
      "done\n"
     ]
    },
    {
     "data": {
      "image/png": "[encoded data removed]",
      "text/plain": [
       "<Figure size 432x288 with 1 Axes>"
      ]
     },
     "metadata": {
      "needs_background": "light"
     },
     "output_type": "display_data"
    }
   ],
   "source": [
    "plot_y(y)\n",
    "play_np_BT(y)"
   ]
  },
  {
   "cell_type": "code",
   "execution_count": 94,
   "metadata": {},
   "outputs": [
    {
     "data": {
      "image/png": "[encoded data removed]",
      "text/plain": [
       "<Figure size 432x288 with 1 Axes>"
      ]
     },
     "metadata": {
      "needs_background": "light"
     },
     "output_type": "display_data"
    }
   ],
   "source": [
    "data = np.reshape(y, y.size)\n",
    "\n",
    "# Chirp for matched filter NB should be same as the transmitted chirp!\n",
    "sec = 1\n",
    "t = np.linspace(0, sec, sec * fs)\n",
    "h = chirp(t, f0=2000, f1=4000, t1=sec, method='linear')\n",
    "\n",
    "h_rev = h[::-1]\n",
    "\n",
    "g = np.convolve(data, h_rev, 'valid')\n",
    "plot_y(g) # plot matched filter output"
   ]
  },
  {
   "cell_type": "code",
   "execution_count": 95,
   "metadata": {},
   "outputs": [
    {
     "data": {
      "image/png": "[encoded data removed]",
      "text/plain": [
       "<Figure size 432x288 with 1 Axes>"
      ]
     },
     "metadata": {
      "needs_background": "light"
     },
     "output_type": "display_data"
    }
   ],
   "source": [
    "dh = len(h_rev)\n",
    "\n",
    "i_max = np.argmax(g)\n",
    "\n",
    "rng = 100\n",
    "k = g[i_max - rng:i_max + rng]\n",
    "\n",
    "plot_y(k)"
   ]
  },
  {
   "cell_type": "code",
   "execution_count": 96,
   "metadata": {},
   "outputs": [
    {
     "data": {
      "image/png": "[encoded data removed]",
      "text/plain": [
       "<Figure size 432x288 with 1 Axes>"
      ]
     },
     "metadata": {
      "needs_background": "light"
     },
     "output_type": "display_data"
    }
   ],
   "source": [
    "rng2 = 1000\n",
    "cntr = int(i_max)\n",
    "plot_y(y[cntr - rng2:cntr  + rng2])"
   ]
  },
  {
   "cell_type": "code",
   "execution_count": 97,
   "metadata": {},
   "outputs": [
    {
     "data": {
      "image/png": "[encoded data removed]",
      "text/plain": [
       "<Figure size 432x288 with 1 Axes>"
      ]
     },
     "metadata": {
      "needs_background": "light"
     },
     "output_type": "display_data"
    }
   ],
   "source": [
    "repeat = 20\n",
    "dft = 2048 # N + K\n",
    "time_start_index = cntr + dh + 44100 + dft*0\n",
    "time = y[time_start_index-1000:time_start_index+repeat*dft + 1000]\n",
    "\n",
    "plot_y(time)"
   ]
  },
  {
   "cell_type": "code",
   "execution_count": 98,
   "metadata": {},
   "outputs": [
    {
     "name": "stdout",
     "output_type": "stream",
     "text": [
      "7 2\n",
      "max  697.6807449970402 i_max  659 real i_max  661.5\n"
     ]
    },
    {
     "data": {
      "image/png": "[encoded data removed]",
      "text/plain": [
       "<Figure size 432x288 with 1 Axes>"
      ]
     },
     "metadata": {
      "needs_background": "light"
     },
     "output_type": "display_data"
    }
   ],
   "source": [
    "time_data = y[time_start_index:]\n",
    "dft = 2048\n",
    "\n",
    "samples = []\n",
    "freq = []\n",
    "\n",
    "\n",
    "timeshift = 676\n",
    "for i in range(repeat):\n",
    "    samples.append(time_data[dft*i:dft*(i+1)][timeshift:timeshift+1024])\n",
    "    samples[i] = np.reshape(samples[i],np.zeros(1024).shape)\n",
    "    freq.append(fft(samples[i]))\n",
    "    \n",
    "\n",
    "Phase = np.zeros(511)\n",
    "for freq_response in freq:\n",
    "    \n",
    "    for i in range(1,int(len(freq_response)/2)):\n",
    "        div = (freq_response[i]/F[0][i] )\n",
    "        Phase[i-1] += cmath.phase(div)        \n",
    "        \n",
    "Phase = [x/repeat for x in Phase]\n",
    "\n",
    "max_conv = []\n",
    "for s in range(1000):\n",
    "    P = []\n",
    "    coeff = -0.01-s*0.001\n",
    "    n = 0\n",
    "    sign = coeff/abs(coeff)\n",
    "    for i in range(1,511):\n",
    "        val = math.pi * coeff * i - sign *2*math.pi*n\n",
    "\n",
    "        if sign > 0:\n",
    "            if val > math.pi:\n",
    "                val = val - 2*math.pi\n",
    "                n += 1\n",
    "        else:\n",
    "            if val < -1*math.pi:\n",
    "                val = val + 2*math.pi\n",
    "                n += 1   \n",
    "                \n",
    "        P.append(val)\n",
    "        \n",
    "    max_conv.append( max(correlate(P, Phase)))\n",
    "\n",
    "max_conv = np.asarray(max_conv)\n",
    "i_max = np.argmax(max_conv)\n",
    "max_conv_max = np.max(max_conv)\n",
    "\n",
    "count_up = 0\n",
    "count_down = 0\n",
    "cutoff = 0.75\n",
    "for i in range(100):\n",
    "    if max_conv[i_max+i] > max_conv_max*cutoff:\n",
    "        count_up +=1\n",
    "    \n",
    "    if max_conv[i_max-i] > max_conv_max*cutoff:\n",
    "        count_down +=1\n",
    "\n",
    "print(count_up, count_down)\n",
    "\n",
    "real_imax = i_max + (count_up - count_down)/2\n",
    "\n",
    "\n",
    "#plot_y(max_conv[600:700])\n",
    "print(\"max \", max_conv_max, \"i_max \", i_max, \"real i_max \", real_imax)\n",
    "\n",
    "\n",
    "TF = np.zeros(511,dtype=complex)\n",
    "TF_without_rotation = np.zeros(511,dtype=complex)\n",
    "for freq_response in freq:\n",
    "    \n",
    "    for i in range(1,int(len(freq_response)/2)):\n",
    "        div = (freq_response[i]/F[0][i] ) * cmath.rect(1, math.pi* (0.01+(real_imax)*0.001) * i)\n",
    "        div2 = (freq_response[i]/F[0][i] )\n",
    "        TF[i-1] += div \n",
    "        TF_without_rotation[i-1] += div2\n",
    "        \n",
    "TF = [x/repeat for x in TF]\n",
    "TF_without_rotation = [x/repeat for x in TF_without_rotation]\n",
    "\n",
    "impulse = ifft(TF)\n",
    "plot_y(impulse)"
   ]
  },
  {
   "cell_type": "code",
   "execution_count": 106,
   "metadata": {},
   "outputs": [],
   "source": [
    "time_start_index_content = time_start_index+repeat*dft\n",
    "time_data_content = y[time_start_index_content:]\n",
    "\n",
    "samples_content = []\n",
    "freq_content = []\n",
    "\n",
    "# get the FFT of the data\n",
    "for i in range(repeat):\n",
    "    samples_content.append(time_data_content[dft*i:dft*(i+1)][timeshift:timeshift+1024])\n",
    "    samples_content[i] = np.reshape(samples_content[i],np.zeros(1024).shape)\n",
    "    freq_content.append(fft(samples_content[i]))\n",
    "\n",
    "    \n",
    "TF_use = TF_without_rotation\n",
    "response = np.zeros(511, dtype = complex)\n",
    "for freq_response in freq_content:\n",
    "\n",
    "    for i in range(1,int(len(freq_response)/2)):\n",
    "        div = (freq_response[i]/ TF_use[i-1]) / cmath.rect(1, math.pi* (0.01+(real_imax)*0.001) * i)\n",
    "        div2 = (freq_response[i]/TF_use[i-1] )\n",
    "   \n",
    "        response[i-1] += div2\n",
    "\n",
    "response = np.asarray([x/repeat for x in response])\n"
   ]
  },
  {
   "cell_type": "code",
   "execution_count": 135,
   "metadata": {},
   "outputs": [
    {
     "name": "stdout",
     "output_type": "stream",
     "text": [
      "405\n",
      "Percent successful =  1.0\n"
     ]
    }
   ],
   "source": [
    "# Decoding\n",
    "cutoff = 400-400%repetition_length + repetition_length\n",
    "\n",
    "relevant_data = response[:cutoff]\n",
    "\n",
    "print(len(relevant_data))\n",
    "\n",
    "recovered_symbols = []\n",
    "for i in range(int(len(relevant_data)/repetition_length)):\n",
    "    \n",
    "    a = relevant_data[i*repetition_length:(i+1)*repetition_length]\n",
    "    \n",
    "    sequence = []\n",
    "    for j in range(repetition_length):\n",
    "        sequence.append(decode_qpsk(a[j]))\n",
    "        \n",
    "    #print(sequence, end = '')\n",
    "    #print(s.mode(sequence)[0])\n",
    "    recovered_symbols.append(s.mode(sequence)[0])\n",
    "    \n",
    "\n",
    "# Check with transmited symbols:\n",
    "transmitted_symbols = []\n",
    "F_1 = F[1][1:]\n",
    "for i in range(int(len(relevant_data)/repetition_length)):\n",
    "    \n",
    "    a = F_1[i*repetition_length:(i+1)*repetition_length]\n",
    "    \n",
    "    sequence = []\n",
    "    for j in range(repetition_length):\n",
    "        sequence.append(decode_qpsk(a[j]))\n",
    "        \n",
    "    transmitted_symbols.append(s.mode(sequence)[0])\n",
    "    \n",
    "    \n",
    "match_count = [0,0,0]\n",
    "for i in range(len(recovered_symbols)):\n",
    "    if recovered_symbols[i] == transmitted_symbols[i]:\n",
    "        #print(\"Match!\")\n",
    "        match_count[0] += 1\n",
    "        match_count[2] += 1\n",
    "    else:\n",
    "        #print(\"no match....\")\n",
    "        match_count[1] += 1\n",
    "        match_count[2] += 1\n",
    "\n",
    "print(\"Percent successful = \", match_count[0]/match_count[2])"
   ]
  },
  {
   "cell_type": "code",
   "execution_count": 136,
   "metadata": {},
   "outputs": [],
   "source": [
    "# Symbols to binary \n",
    "def qpsk_decoded_to_binary(decode_list):\n",
    "    binary = \"\"\n",
    "    \n",
    "    for item in decode_list:\n",
    "        if item == 0:\n",
    "            binary += \"00\"\n",
    "        elif item == 1:\n",
    "            binary += \"01\"\n",
    "        elif item == 2:\n",
    "            binary += \"11\"\n",
    "        else:\n",
    "            binary += \"10\"\n",
    "            \n",
    "    return binary"
   ]
  },
  {
   "cell_type": "code",
   "execution_count": 158,
   "metadata": {},
   "outputs": [
    {
     "name": "stdout",
     "output_type": "stream",
     "text": [
      "144\n"
     ]
    }
   ],
   "source": [
    "recovered_binary = qpsk_decoded_to_binary(recovered_symbols)\n",
    "'''\n",
    "extra_bits = len(recovered_binary)%8\n",
    "\n",
    "recovered_binary = recovered_binary[:-1*extra_bits]'''\n",
    "\n",
    "for_now = recovered_binary[14:-4]\n",
    "print(len(for_now))"
   ]
  },
  {
   "cell_type": "code",
   "execution_count": 159,
   "metadata": {},
   "outputs": [
    {
     "name": "stdout",
     "output_type": "stream",
     "text": [
      "om me, I am standi\n"
     ]
    }
   ],
   "source": [
    "n = int(for_now, 2)\n",
    "out = n.to_bytes((n.bit_length() + 7) // 8, 'big').decode()\n",
    "\n",
    "print(out)"
   ]
  },
  {
   "cell_type": "code",
   "execution_count": null,
   "metadata": {},
   "outputs": [],
   "source": []
  }
 ],
 "metadata": {
  "kernelspec": {
   "display_name": "Python 3",
   "language": "python",
   "name": "python3"
  },
  "language_info": {
   "codemirror_mode": {
    "name": "ipython",
    "version": 3
   },
   "file_extension": ".py",
   "mimetype": "text/x-python",
   "name": "python",
   "nbconvert_exporter": "python",
   "pygments_lexer": "ipython3",
   "version": "3.7.4"
  }
 },
 "nbformat": 4,
 "nbformat_minor": 2
}
