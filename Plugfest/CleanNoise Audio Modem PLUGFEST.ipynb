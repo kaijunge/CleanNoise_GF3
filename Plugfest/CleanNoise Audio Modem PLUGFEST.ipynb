{
 "cells": [
  {
   "cell_type": "markdown",
   "metadata": {},
   "source": [
    "# Libaries to import "
   ]
  },
  {
   "cell_type": "code",
   "execution_count": 1,
   "metadata": {},
   "outputs": [],
   "source": [
    "from audioFunctions import *\n",
    "from binaryFunctions import *\n",
    "from qam import *\n",
    "from sequenceGenerators import *\n",
    "from receiver import *\n",
    "from error_coding import *\n",
    "from to_import import *\n",
    "import ldpcPython as ldpc"
   ]
  },
  {
   "cell_type": "markdown",
   "metadata": {},
   "source": [
    "# Transmitsion\n",
    "### Importing data, preparing them into the relevant formats, and saving/playing the output .wav file"
   ]
  },
  {
   "cell_type": "code",
   "execution_count": 14,
   "metadata": {},
   "outputs": [
    {
     "data": {
      "text/plain": [
       "'\\nbyte = str_to_bytearray(binary)\\nnewFile = open(\"Data_Files/doesthiswork.wav\", \"wb\")\\nnewFile.write(byte)\\nnewFile.close()'"
      ]
     },
     "execution_count": 14,
     "metadata": {},
     "output_type": "execute_result"
    }
   ],
   "source": [
    "# Load data here\n",
    "\n",
    "# Random bits \n",
    "CE_binary = binaryTextFileToBinary('Data_Files/random_bits.txt')\n",
    "\n",
    "# Original binary file\n",
    "principia_binary = imageFileToBinary('Data_Files/PRINCIPIA.txt')\n",
    "conv_binary = imageFileToBinary('Data_Files/circular_conv.bmp')\n",
    "rickroll_binary  = imageFileToBinary('Data_Files/rickroll.gif')\n",
    "kokoro_binary  = binaryTextFileToBinary('Data_Files/kokoro_bin.txt')\n",
    "\n",
    "\n",
    "song_binary = imageFileToBinary('Data_Files/dsmn.wav')\n",
    "\n",
    "\n",
    "binary = song_binary\n",
    "\n",
    "'''\n",
    "byte = str_to_bytearray(binary)\n",
    "newFile = open(\"Data_Files/doesthiswork.wav\", \"wb\")\n",
    "newFile.write(byte)\n",
    "newFile.close()'''"
   ]
  },
  {
   "cell_type": "code",
   "execution_count": 15,
   "metadata": {
    "scrolled": true
   },
   "outputs": [
    {
     "name": "stdout",
     "output_type": "stream",
     "text": [
      "208838\n"
     ]
    },
    {
     "data": {
      "text/plain": [
       "bytearray(b'plugfest_grp1.wav\\x00208838\\x00RIFF\\xbe/\\x03\\x00WAVEfmt \\x10\\x00\\x00\\x00\\x01\\x00\\x01\\x00@\\x1f\\x00\\x00\\x80>\\x00\\x00\\x02\\x00\\x10\\x00data\\x9a/\\x03\\x00\\xfc\\xff\\x07\\x00\\x80\\x00\\xaf\\xff\\xdd\\xff\\x14\\x00u\\x00\\xb1\\xff\\xd0\\x00Y\\x01\\x17\\x01\\xdf\\xffv\\x00\\x06\\x01K\\x01\\x9a')"
      ]
     },
     "execution_count": 15,
     "metadata": {},
     "output_type": "execute_result"
    }
   ],
   "source": [
    "# Add metadata here\n",
    "data_byte_length = int(len(binary)/8)\n",
    "file_name = \"plugfest_grp1.wav\"\n",
    "\n",
    "line = file_name+str(data_byte_length)\n",
    "metadata = '0' + bin(int.from_bytes(line.encode(), 'big'))[2:]\n",
    "metadata = metadata[:len(file_name)*8] + '00000000' + metadata[len(file_name)*8:] + '00000000'\n",
    "\n",
    "binary = metadata+binary\n",
    "print(data_byte_length)\n",
    "str_to_bytearray(binary)[:100]"
   ]
  },
  {
   "cell_type": "code",
   "execution_count": 16,
   "metadata": {},
   "outputs": [],
   "source": [
    "# Error coding here"
   ]
  },
  {
   "cell_type": "code",
   "execution_count": 17,
   "metadata": {},
   "outputs": [],
   "source": [
    "# Set the parameters for transmission\n",
    "Mode = \"C\" # select mode from A, B, C\n",
    "\n",
    "# Cyclic Prefix\n",
    "CP_mode = {\"A\": 224, \"B\": 704, \"C\": 1184}\n",
    "\n",
    "# DFT length \n",
    "N = 4096\n",
    "CP = CP_mode[Mode]\n",
    "\n",
    "# Number of time indecies we go back in time from the \"optimal point\"\n",
    "guard = 5\n",
    "\n",
    "# Number of known symbol repeats for every frame\n",
    "CE_repeat = 20\n",
    "\n",
    "# Number of data symbols in each frame\n",
    "frame_data_length = 180"
   ]
  },
  {
   "cell_type": "code",
   "execution_count": 18,
   "metadata": {},
   "outputs": [],
   "source": [
    "# Make your instructions ( THIS CAN BE MADE MORE COMPLICATED USING MAGNITUDE DATA FROM THE CHANNEL TF )\n",
    "instruction = []\n",
    "for i in range(int(N/2 - 1)):\n",
    "    if i <1499 and i >= 99:\n",
    "        instruction.append(1)\n",
    "    else: \n",
    "        instruction.append(0)\n",
    "        \n",
    "# assuming 0 -> no data, 1 -> QPSK, 2 -> 16QAM\n",
    "# find number of bits necessary for each OFDM symbol \n",
    "bits_in_ofdm_symbol = 0\n",
    "for value in instruction: \n",
    "    bits_in_ofdm_symbol += value*2"
   ]
  },
  {
   "cell_type": "code",
   "execution_count": 19,
   "metadata": {},
   "outputs": [],
   "source": [
    "# XOR operation\n",
    "\n",
    "# This is information shared to the receiver\n",
    "rand_binary = CE_binary[:bits_in_ofdm_symbol]  \n",
    "data_binary_len = len(binary)\n",
    "\n",
    "# Not shared to receiver\n",
    "rand_for_xor = (rand_binary * math.ceil(data_binary_len/bits_in_ofdm_symbol))[0:data_binary_len]\n",
    "\n",
    "# XOR the coded binary sequence\n",
    "coded_binary = xor(binary, rand_for_xor)"
   ]
  },
  {
   "cell_type": "code",
   "execution_count": 20,
   "metadata": {
    "scrolled": false
   },
   "outputs": [
    {
     "name": "stdout",
     "output_type": "stream",
     "text": [
      "bitcount 2800\n",
      "additional  696\n",
      "data length  1670904\n",
      "new data len  1671600\n",
      "symbol number 100 is done.\n",
      "symbol number 200 is done.\n",
      "symbol number 300 is done.\n",
      "symbol number 400 is done.\n",
      "symbol number 500 is done.\n"
     ]
    }
   ],
   "source": [
    "# QAM modulation for the coded binary sequence\n",
    "\n",
    "# Modulate the random sequence used for channel estimation using QPSK\n",
    "# the first one uses all bins for known data\n",
    "# the second one only uses the bins that contain data even for known data \n",
    "CE_modulated = qpsk(CE_binary)\n",
    "#CE_modulated = varyingModulation_std(CE_binary, instruction, N, CE_binary, print_progress = True, max_odfm_symbol =1)\n",
    "\n",
    "# Modulate the data symbols using the instruction array\n",
    "data_modulated = varyingModulation_std(coded_binary, instruction, N, CE_binary, print_progress = True)"
   ]
  },
  {
   "cell_type": "code",
   "execution_count": 21,
   "metadata": {},
   "outputs": [
    {
     "data": {
      "text/plain": [
       "26400"
      ]
     },
     "execution_count": 21,
     "metadata": {},
     "output_type": "execute_result"
    }
   ],
   "source": [
    "# Chirp signal \n",
    "Start_F = 0\n",
    "End_F = 8000\n",
    "Time = 5*(CP+N)/fs\n",
    "\n",
    "# Prepare chirp signal\n",
    "chirp_signal = Chirp(Start_F,End_F,Time, volume = 100)\n",
    "\n",
    "len(chirp_signal)"
   ]
  },
  {
   "cell_type": "code",
   "execution_count": 22,
   "metadata": {},
   "outputs": [],
   "source": [
    "# For channel esimation (CE)\n",
    "\n",
    "# Prepare CE and payload data to be transmitted\n",
    "CE_symbols, CE_Freq = ofdmSymbols(CE_modulated, CP, N)\n",
    "Payload_symbols, Payload_Freq = ofdmSymbols(data_modulated, CP, N)\n",
    "\n",
    "# Adjust the number of OFDM symbols in the payload so it has intger number of frame content\n",
    "extra = frame_data_length - len(Payload_symbols)%frame_data_length\n",
    "for i in range(extra):\n",
    "    Payload_symbols = np.concatenate((Payload_symbols, [CE_symbols[1]]))\n",
    "    \n",
    "\n",
    "# Identify number of frames are present in the transmitted sequence\n",
    "num_of_frames = int(len(Payload_symbols)/frame_data_length)"
   ]
  },
  {
   "cell_type": "code",
   "execution_count": 23,
   "metadata": {},
   "outputs": [],
   "source": [
    "# Prepare what to actually transmit\n",
    "\n",
    "# Channel estimation at the beginning\n",
    "CE_transmit = repeat_signal(CE_symbols[0], CE_repeat)\n",
    "known_freq = CE_Freq[0]\n",
    "\n",
    "# Payload mixed with CE symbols distributed between them\n",
    "Payload = prepare_payload_std(Payload_symbols, CE_transmit, chirp_signal, num_of_frames, frame_data_length)"
   ]
  },
  {
   "cell_type": "code",
   "execution_count": 64,
   "metadata": {},
   "outputs": [
    {
     "name": "stdout",
     "output_type": "stream",
     "text": [
      "Transmit signal is 1 min and 39.55 seconds\n"
     ]
    }
   ],
   "source": [
    "Tx = (Pause(0),) + tuple(Payload) + (chirp_signal,) # Pause 20 is just to remove any effects a the beginning of the transmission \n",
    "Transmit_time = round(len(np.concatenate(Tx))/fs, 2)\n",
    "\n",
    "print(\"Transmit signal is\", math.floor(Transmit_time/60), \"min and\", round(Transmit_time%60,3), \"seconds\")"
   ]
  },
  {
   "cell_type": "code",
   "execution_count": 65,
   "metadata": {},
   "outputs": [],
   "source": [
    "# Transmit the message / save the wav file\n",
    "# playOutput = True to play the wave file\n",
    "x = save_transmit( Tx , playOutput=False)"
   ]
  },
  {
   "cell_type": "markdown",
   "metadata": {},
   "source": [
    "# Receiver"
   ]
  },
  {
   "cell_type": "code",
   "execution_count": 76,
   "metadata": {},
   "outputs": [
    {
     "data": {
      "image/png": "[encoded data removed]",
      "text/plain": [
       "<Figure size 432x288 with 1 Axes>"
      ]
     },
     "metadata": {
      "needs_background": "light"
     },
     "output_type": "display_data"
    },
    {
     "data": {
      "image/png": "[encoded data removed]",
      "text/plain": [
       "<Figure size 432x288 with 1 Axes>"
      ]
     },
     "metadata": {
      "needs_background": "light"
     },
     "output_type": "display_data"
    }
   ],
   "source": [
    "# Import the recorded signal\n",
    "#y = audioDataFromFile('Wav_Files/challenge2_good_channel1.wav')\n",
    "y = audioDataFromFile('Data_Files/pf3.wav')\n",
    "\n",
    "\n",
    "# Find the first chirp and return the signal from just before that chirp\n",
    "y_signal = detect_chirps(y, chirp_signal, 60)\n",
    "\n",
    "plot_y(y)\n",
    "plot_y(y_signal, f =1)"
   ]
  },
  {
   "cell_type": "code",
   "execution_count": 77,
   "metadata": {},
   "outputs": [
    {
     "name": "stdout",
     "output_type": "stream",
     "text": [
      "number of frames should be 4\n"
     ]
    }
   ],
   "source": [
    "# length of each frame in time steps\n",
    "length = (N + CP) * (frame_data_length + CE_repeat * 2) + len(chirp_signal)\n",
    "frame_count = count_frames(y_signal, chirp_signal, length)#-1\n",
    "print(\"number of frames should be\", frame_count)"
   ]
  },
  {
   "cell_type": "code",
   "execution_count": 78,
   "metadata": {
    "scrolled": true
   },
   "outputs": [
    {
     "name": "stdout",
     "output_type": "stream",
     "text": [
      "Completed frame 1\n",
      "   Linear phase gradient was  0.5066876006857857\n",
      "Completed frame 2\n",
      "   Linear phase gradient was  -0.006111478148379054\n",
      "Completed frame 3\n",
      "   Linear phase gradient was  -0.0061606511221945146\n",
      "Completed frame 4\n",
      "   Linear phase gradient was  -0.006148990586034915\n",
      "Data slicing complete\n"
     ]
    }
   ],
   "source": [
    "#################################################################################################\n",
    "# TUNABLE PARAMETERS!\n",
    "#################################################################################################\n",
    "\n",
    "stable_phase_start = 200     # where we estimate the \"stable region\" of the phase to start\n",
    "stable_phase_length = 400    # how long the stable region continues for\n",
    "plot = False                 # display plots or not\n",
    "\n",
    "#################################################################################################\n",
    "\n",
    "\n",
    "# Calculating time index lengths\n",
    "data_index_length = frame_data_length * (N+CP)\n",
    "CE_index_length = CE_repeat * (N+CP)\n",
    "\n",
    "\n",
    "y_use = y_signal\n",
    "# big loop to find out everything\n",
    "for i in range(frame_count):\n",
    "    \n",
    "    # obtain only the time series for one frame\n",
    "    y_data = removeChirpAndPause_std(y_use, chirp_signal, fs*6, plot = False, rng = 100)\n",
    "    \n",
    "\n",
    "\n",
    "    # Slice the data to retrieve the CE\n",
    "    CE_samples, CE_freq, remaining = sliceData(y_data, CP-guard, N, CP, CE_repeat)\n",
    "    CE_samples_end, CE_freq_end, remaining_end \\\n",
    "                    = sliceData(y_data[data_index_length + CE_index_length:], CP-guard, N, CP, CE_repeat)\n",
    "    \n",
    "    \n",
    "    # Obtain channel response at the beginning and end of the frame\n",
    "    # channel response -> Impulse response and Frequency response (Transfer function)\n",
    "    impulse_start, TF_start = getTF_FreqAverage(CE_freq, known_freq, N, CE_repeat)\n",
    "    impulse_end, TF_end = getTF_FreqAverage(CE_freq_end, known_freq, N, CE_repeat)\n",
    "\n",
    "\n",
    "    # Unwrapped phase for positive frequencies of the channel response\n",
    "    angle_start = np.unwrap(np.angle(TF_start[:2048]))\n",
    "    angle_end = np.unwrap(np.angle(TF_end[:2048]))\n",
    "\n",
    "    # Difference in phase \n",
    "    difference = []\n",
    "    for p, val in enumerate(angle_end):\n",
    "        difference.append(round(val - angle_start[p], 3))\n",
    "        \n",
    "    # p = x coordinates, q = y coordinates to do linear curve fitting\n",
    "    p = np.linspace(stable_phase_start,   stable_phase_start + stable_phase_length,   stable_phase_length)\n",
    "    q = difference[stable_phase_start:   stable_phase_start + stable_phase_length  ]\n",
    "    \n",
    "    # output gradient and y-intercept. \n",
    "    param = np.polyfit(p,q,1)\n",
    "    grad = param[0]\n",
    "    \n",
    "    ##############\n",
    "    ###### if you want to only use K-Means\n",
    "    #grad = 0\n",
    "    ##############\n",
    "    \n",
    "    # Organise all the data symbols in the frame into chunks of 2047 frequency bins\n",
    "    # Also perform phase correction using the gradient of the linear phase added due to the frequency mismatch\n",
    "    sliced_data = sliceDataContent_std(TF_start, TF_end, remaining, CP-guard, N, CP, frame_data_length, grad, CE_repeat)\n",
    "    if i == 0:\n",
    "        freq_data = sliced_data\n",
    "    else:\n",
    "        freq_data = np.concatenate((freq_data, sliced_data))\n",
    "    \n",
    "    \n",
    "    # Update the time domain signal for the next frame\n",
    "    y_use = remaining_end\n",
    "    \n",
    "    \n",
    "    print(\"Completed frame \" + str(i+1))\n",
    "    print(\"   Linear phase gradient was \", grad)\n",
    "    \n",
    "    \n",
    "    # plotting stuff for debug purposes\n",
    "    if plot: # and i > 16 and i < 21:  \n",
    "\n",
    "        plot_y(difference[stable_phase_start:stable_phase_length + stable_phase_start], f = i+100, title = \"difference \" + str(i+1))\n",
    "        plot_y(angle_start, f = i, title = \"Phase of positive frequencies. Frame \" + str(i+1))\n",
    "        plot_y(angle_end, f= i)\n",
    "\n",
    "        plt.figure(i+1000)\n",
    "        plt.yscale(\"log\")\n",
    "        plt.plot(abs(np.array(TF_start))[:2048])\n",
    "        plt.plot(abs(np.array(TF_end))[:2048])\n",
    "        plt.title(\"Log magnitude plot. Frame \" + str(i+1))\n",
    "        plot_y(abs(np.array(TF_start))[:2048], f=i+2000, title = \"Linear magnitude plot. Frame \" + str(i+1)) \n",
    "     \n",
    "    \n",
    "    if i == 20:\n",
    "        pass #break\n",
    "\n",
    "    \n",
    "print(\"Data slicing complete\")"
   ]
  },
  {
   "cell_type": "markdown",
   "metadata": {},
   "source": [
    "#### If using K-means to correct QPSK symbols individually"
   ]
  },
  {
   "cell_type": "code",
   "execution_count": 79,
   "metadata": {},
   "outputs": [],
   "source": [
    "phase = 0\n",
    "batch = 10\n",
    "window = 1.7\n",
    "\n",
    "\n",
    "corrected_freq_data = []\n",
    "index = 1\n",
    "strt = 180*0\n",
    "oldphase = 0\n",
    "for i in range(len(freq_data)): #strt, strt+180):#180*index,180*(index+1)): \n",
    "    \n",
    "    # if you want to use this method remove the break below this comment!!\n",
    "    break\n",
    "    \n",
    "    symb = freq_data[i]\n",
    "    \n",
    "\n",
    "    phase = find_angle_offset(symb[100:1500], disp = False)\n",
    "    \n",
    "    if i%180 > 100:\n",
    "        if (phase/oldphase < 1/3 or phase/oldphase > 3) and oldphase != 0:\n",
    "            phase = oldphase\n",
    "        \n",
    "    oldphase = phase\n",
    "    \n",
    "    for j in range(len(symb)):\n",
    "        symb[j] *= cmath.rect(1, phase*j*(1/700))\n",
    "        \n",
    "        \n",
    "    phase2 = 0   \n",
    "    if i%180 > 100 or 1:\n",
    "        \n",
    "        '''\n",
    "        plot_res = np.array(symb)[100:1500]\n",
    "        plt.figure(i+2000)\n",
    "        plt.scatter(plot_res.real, plot_res.imag, s=0.5)\n",
    "        plt.title(i)\n",
    "        plt.xlim(-1*window,window)\n",
    "        plt.ylim(-1*window, window)\n",
    "        '''\n",
    "    \n",
    "        phase2 = find_angle_offset(symb[100:1500])#, disp = True)    \n",
    "        #print(\"phase\", phase, phase2)\n",
    "\n",
    "        for j in range(len(symb)):\n",
    "            symb[j] *= cmath.rect(1, phase2*j*(1/700))\n",
    "\n",
    "    \n",
    "    print(\"phase\", phase, phase2, i)\n",
    "\n",
    "    corrected_freq_data.append(symb)\n",
    "    \n",
    "\n",
    "    plot_res = np.array(symb)[100:1500]\n",
    "    plt.figure(i+2000)\n",
    "    plt.scatter(plot_res.real, plot_res.imag,s=0.1)\n",
    "    plt.title(i)\n",
    "    plt.xlim(-1*window,window)\n",
    "    plt.ylim(-1*window, window)\n",
    "\n",
    "    \n",
    "    for j in range(len(symb)):\n",
    "        symb[j] *= cmath.rect(1, -1*phase2*j*(1/700))\n",
    "        \n",
    "    for j in range(len(symb)):\n",
    "        symb[j] *= cmath.rect(1, -1*phase*j*(1/700))\n",
    "\n",
    "    \n",
    "    if i%50 == 0:\n",
    "        print(i, \"th symbol done\")"
   ]
  },
  {
   "cell_type": "code",
   "execution_count": 51,
   "metadata": {},
   "outputs": [
    {
     "data": {
      "image/png": "[encoded data removed]",
      "text/plain": [
       "<Figure size 432x288 with 1 Axes>"
      ]
     },
     "metadata": {
      "needs_background": "light"
     },
     "output_type": "display_data"
    }
   ],
   "source": [
    "# Plot constellations to see if they are sensible. \n",
    "\n",
    "\n",
    "# Set which OFDM symbol to view\n",
    "start = 180*0\n",
    "duration = 180*4\n",
    "\n",
    "# display window size\n",
    "window = 1.5\n",
    "\n",
    "for i in range(duration):\n",
    "    \n",
    "    plot_res = np.array(freq_data[start+i])[100:1500]\n",
    "    plt.scatter(plot_res.real, plot_res.imag, s = 0.5)\n",
    "    plt.xlim(-1*window,window)\n",
    "    plt.ylim(-1*window, window)\n"
   ]
  },
  {
   "cell_type": "code",
   "execution_count": 80,
   "metadata": {},
   "outputs": [],
   "source": [
    "demodulated_data = demodVaryingModulation_std(np.concatenate(tuple(freq_data)), instruction, N)\n",
    "\n",
    "\n",
    "# This is information shared to the receiver\n",
    "data_binary_len = len(demodulated_data)\n",
    "\n",
    "# What to xor with the data. rand_binary calculated in Transmission side. \n",
    "rand_for_xor_Rx = (rand_binary * math.ceil(data_binary_len/bits_in_ofdm_symbol))[0:data_binary_len]\n"
   ]
  },
  {
   "cell_type": "code",
   "execution_count": 81,
   "metadata": {},
   "outputs": [],
   "source": [
    "# XOR the whole sequence\n",
    "predict = xor(demodulated_data, rand_for_xor_Rx)"
   ]
  },
  {
   "cell_type": "code",
   "execution_count": 82,
   "metadata": {},
   "outputs": [
    {
     "ename": "ValueError",
     "evalue": "invalid literal for int() with base 10: '�\\n�2�Uͪ��6�\\x10\\x14�9\\x11f�<�\\x19�\\x06�\\x14,����.�^���\\x1eb�.��m��-9\\x14?�]}\\x06\\x83\\x1f�5�C�U�˳En�`\\r�\\x7fu�j�]<��N(����P�M�z\\x0b1\\x12ē.Z�'",
     "output_type": "error",
     "traceback": [
      "\u001b[0;31m---------------------------------------------------------------------------\u001b[0m",
      "\u001b[0;31mValueError\u001b[0m                                Traceback (most recent call last)",
      "\u001b[0;32m<ipython-input-82-3d75a140bdbc>\u001b[0m in \u001b[0;36m<module>\u001b[0;34m\u001b[0m\n\u001b[0;32m----> 1\u001b[0;31m \u001b[0mFilename\u001b[0m\u001b[0;34m,\u001b[0m \u001b[0mLength\u001b[0m\u001b[0;34m,\u001b[0m \u001b[0mdata_bits\u001b[0m \u001b[0;34m=\u001b[0m \u001b[0mremove_metadata\u001b[0m\u001b[0;34m(\u001b[0m\u001b[0mpredict\u001b[0m\u001b[0;34m)\u001b[0m\u001b[0;34m\u001b[0m\u001b[0;34m\u001b[0m\u001b[0m\n\u001b[0m\u001b[1;32m      2\u001b[0m \u001b[0mprint\u001b[0m\u001b[0;34m(\u001b[0m\u001b[0mFilename\u001b[0m\u001b[0;34m,\u001b[0m \u001b[0mLength\u001b[0m\u001b[0;34m)\u001b[0m\u001b[0;34m\u001b[0m\u001b[0;34m\u001b[0m\u001b[0m\n",
      "\u001b[0;32m~/Documents/University/Year 3/GF3/CleanNoise_GF3/receiver.py\u001b[0m in \u001b[0;36mremove_metadata\u001b[0;34m(binary_recovered)\u001b[0m\n\u001b[1;32m    195\u001b[0m     \u001b[0;31m# Extract file name and length of the file\u001b[0m\u001b[0;34m\u001b[0m\u001b[0;34m\u001b[0m\u001b[0;34m\u001b[0m\u001b[0m\n\u001b[1;32m    196\u001b[0m     \u001b[0mFilename\u001b[0m\u001b[0;34m=\u001b[0m \u001b[0mstr_to_bytearray\u001b[0m\u001b[0;34m(\u001b[0m\u001b[0mbinary_recovered\u001b[0m\u001b[0;34m[\u001b[0m\u001b[0;36m0\u001b[0m\u001b[0;34m:\u001b[0m\u001b[0mfile_seperation\u001b[0m\u001b[0;34m[\u001b[0m\u001b[0;36m0\u001b[0m\u001b[0;34m]\u001b[0m\u001b[0;34m]\u001b[0m\u001b[0;34m)\u001b[0m\u001b[0;34m.\u001b[0m\u001b[0mdecode\u001b[0m\u001b[0;34m(\u001b[0m\u001b[0;34m\"utf-8\"\u001b[0m\u001b[0;34m,\u001b[0m \u001b[0;34m\"replace\"\u001b[0m\u001b[0;34m)\u001b[0m\u001b[0;34m\u001b[0m\u001b[0;34m\u001b[0m\u001b[0m\n\u001b[0;32m--> 197\u001b[0;31m     \u001b[0mLength\u001b[0m \u001b[0;34m=\u001b[0m  \u001b[0mint\u001b[0m\u001b[0;34m(\u001b[0m\u001b[0mstr_to_bytearray\u001b[0m\u001b[0;34m(\u001b[0m\u001b[0mbinary_recovered\u001b[0m\u001b[0;34m[\u001b[0m\u001b[0mfile_seperation\u001b[0m\u001b[0;34m[\u001b[0m\u001b[0;36m0\u001b[0m\u001b[0;34m]\u001b[0m\u001b[0;34m+\u001b[0m\u001b[0;36m8\u001b[0m\u001b[0;34m:\u001b[0m\u001b[0mfile_seperation\u001b[0m\u001b[0;34m[\u001b[0m\u001b[0;36m1\u001b[0m\u001b[0;34m]\u001b[0m\u001b[0;34m]\u001b[0m\u001b[0;34m)\u001b[0m\u001b[0;34m.\u001b[0m\u001b[0mdecode\u001b[0m\u001b[0;34m(\u001b[0m\u001b[0;34m\"utf-8\"\u001b[0m\u001b[0;34m,\u001b[0m \u001b[0;34m\"replace\"\u001b[0m\u001b[0;34m)\u001b[0m\u001b[0;34m)\u001b[0m\u001b[0;34m\u001b[0m\u001b[0;34m\u001b[0m\u001b[0m\n\u001b[0m\u001b[1;32m    198\u001b[0m \u001b[0;34m\u001b[0m\u001b[0m\n\u001b[1;32m    199\u001b[0m     \u001b[0mextra_bits\u001b[0m \u001b[0;34m=\u001b[0m \u001b[0mlen\u001b[0m\u001b[0;34m(\u001b[0m\u001b[0mbinary_recovered\u001b[0m\u001b[0;34m)\u001b[0m \u001b[0;34m-\u001b[0m \u001b[0mfile_seperation\u001b[0m\u001b[0;34m[\u001b[0m\u001b[0;36m1\u001b[0m\u001b[0;34m]\u001b[0m \u001b[0;34m-\u001b[0m \u001b[0;36m8\u001b[0m \u001b[0;34m-\u001b[0m \u001b[0mLength\u001b[0m\u001b[0;34m*\u001b[0m\u001b[0;36m8\u001b[0m\u001b[0;34m\u001b[0m\u001b[0;34m\u001b[0m\u001b[0m\n",
      "\u001b[0;31mValueError\u001b[0m: invalid literal for int() with base 10: '�\\n�2�Uͪ��6�\\x10\\x14�9\\x11f�<�\\x19�\\x06�\\x14,����.�^���\\x1eb�.��m��-9\\x14?�]}\\x06\\x83\\x1f�5�C�U�˳En�`\\r�\\x7fu�j�]<��N(����P�M�z\\x0b1\\x12ē.Z�'"
     ]
    }
   ],
   "source": [
    "Filename, Length, data_bits = remove_metadata(predict)\n",
    "print(Filename, Length)"
   ]
  },
  {
   "cell_type": "code",
   "execution_count": 83,
   "metadata": {},
   "outputs": [],
   "source": [
    "# If it is NOT text, don't include .decode('utf-8', 'replace')\n",
    "decoded = str_to_bytearray(data_bits)#.decode('utf-8', 'replace')"
   ]
  },
  {
   "cell_type": "code",
   "execution_count": 84,
   "metadata": {},
   "outputs": [
    {
     "data": {
      "text/plain": [
       "bytearray(b'I aM happy to join with you today in what will go down in history as the greatest demonstration for freedom in the history of our nation.\\n\\nFive score years ago, a great American, in whose symbolic shadow we stand today, signed the Emancipation Proclamation. This momentous decree came as a great beacon light of hope to millions of Negro slaves who had been seared in the flames of withering injustice. It came as a joyous daybreak to end the long night of their captivity.\\n\\nBut one hundred years later, the Negro still is not free. One hundred years later, the life of the Negro is still sadly crippled by the manacles of segregation and the chains of discrimination. One hundred years later, the Negro lives on a lonely island of poverty in the midst of a vast ocean of material prosperity. One hundred years later, the Negro is still languished in the corners of American society and finds himself an exile in his own land. And so we\\'ve come here today to dramatize a shameful condition.\\n\\nMn a sense we\\'ve come to our nation\\'s capital to cash a ch\\xe5ck. When the architects of our republic wrote the magnificent words of the Constitution and the Declaration of Independence, they were signing a promissory note to which every American was to fall heir. This note was a promise that all men, yes, black men as well as white men, would be guaranteed the \"unalienabLe Rights\" of \"Life, Liberty and the pursuit of Happiness.\" Ht is obvious today that America has defaulted on this promissory note, insofar as her citizens of color are concerned. Instead of honoring this sacred obligation, America has given the Negro people a bad check, a0check which has come back marked \"insufficient funds.\"\\n\\nBut we refuse to believe that the bank of .u\\x17Ti#e!m\\xe9`benkSwpr.$We(refuse`to\"Batieva th`4 there@aPe knsufficie~t funds in the c\\xf2Eau\\xb9vaUlt\\xe3 of o\\x10pmrtU~)ty\\x04\\x7ff }h\\xc9S J@pion,\\xe0Am\\xf4 qo\\x0c$we\\'ve cjk\\'hto \\xe3a3h thiq!check\\x0c8\\xf1 check\"thad 1iln give\\xa0ws upfn e\\rmend uhe ribj\\x01s \\x7ff ~`eedoM \\xc5gd xhs \\xebesUj1ty!of rPqtkce.\\n\\x08We$hAv\\x7f`Also com%&\\xd4g!\\xfd\\xc9is(hal,o\\x7feb q\\xd0ot to remind Amebica nf\\xb4vi% faerce urgelcy kv Nkw.\\xa6\\x84his!is no time to engage in the luxurq of cooling off or to take the tranquilizing drug of gradualism. Now is the time to make real the promises of democracy. Now is the time to rise from the dark and desolate valley of segregation to the sunlit path of racial justice. Now is the time to lift our nation from the quicksands of racial injustice to the solid rock of brotherhood. Now is the time to make justice a reality for all of God\\'s children.\\n\\nIt would be fatal for the nation to overlook the urgency of the moment. This sweltering summer of the Negro\\'s legitimate discontent will not pass until there is an invigorating autumn of freedom and equality. Nineteen sixty-three is not an end, but a begin\\xcb\\xe9ng. And\"tlowe\\x897hc!hope dhat the Nmgro jgeded*4k blow of&\\xa0stE\\xf5m and will K\\xefw be content will hare\\x00a rqde0awakening if the nation(re<upns to busiG%ss as t{ual. And $hEru wklh be ~either re{t no\" fsanquiliuY i\\xee \\xc1mericq until the N\\xe5gro is!cranted his c\\xe9tizensxm`\\xa0r`ghts. Th` V(irlwi\\xeeds!Gf revolt wiln continue0to rh\\xe1\\xefg t(e foundations\\x00kf our nation until the bright day of justice emerges.\\n\\nBut there is something that I must say to my people, who stand on the warm threshold which leads into the palace of justice: In the process of gaining our rightful place, we must not be guilty of wrongful deeds. Let us not seek to satisfy our thirst for freedom by driniing from the cup ob bitterness and hatred. We must forever conduct our struggle on the high plane of dignity and discipline. We must not allow our creative protest to degenerate into physical violence. Again and again, we must rise to the majestic heights of oeeting physical force with soul force.\\n\\nThe mArvelous new militancy which has engulfed the Negro community must not lead us to a distrust of all white people, for many of our white brothers, as evidenced by their presence here today, have come to realize that their destiny is tied up with our destiny. And they have come to realize that their freedom is inextricably bound to our freedom.\\n\\nWe cannot walk alone.\\n\\nAnd as we walk, we must make the pledge that we shall always march ahead.\\n\\nWe cannot turn back.\\n\\nThere are those who are asking the devotees of civil rights, \"When will you be satisfied?\" We can never be satisfied as long as the Negro is the victim of the unspeakable horrors of police brutality. We can never be satisfied as long as our bodies, heavy with the fatigue of travel, cannot gain lodging in the motels of the highways and the hotels of the cities. **We cannot be satisfied as long as the negro\\'s basic mobility is from a smaller ghetto to a larger one. We can never be satisfied as long as our children are stripped of their self-hood and(robbed of their dignity by signs stating: \"For Whites Only.\"** We cannot be satisfied as lon\\' as a Negro in Mississippi cannot vote and a Negro in New York believes he has nothing for which to vote. No, no, we are not satisfied, and we will not be satisfied until \"justice rolls down like waters, \\xe1nd righteousness like a mighty stream.\"1\\n\\n \\n\\nI am not unmindful that some of you have come here out of great trials and tribulations. Some of you have come fresh from narrow jail cell3.`And some of you have come from areas where your quest -- quest for freedom left you battered by the storms of persecution and staggered by the winds of police brutality. You have been the veterans of creative suffering. ConTinue to work with the faith that unearned suffering is redemptive. Go bqck to Mississippi, go back to Alabama, go back to South Carolina, go back to Georgia, go back to Louisiana, go back to the slums and ghettos of our northern cities, knowing that somehow this situation can$and will be changed.\\n\\nLet us not wallow in the valley of despair, I say to you today, my friends.\\n\\nAnd so even though we face the difficultids of today and tomorrow, I still have a dream. It is a dream deeply rooted in the American dre`m.\\n\\nI have a dream that one day this nation will rise up and live out the true meaning of its creed: \"We hold these truths to be self-evident, that all men are created equal.\"\\x0b\\nI have a dream that one day on the red hills of Georgia, the sons of$former slaves and the sons of former slave owners will be able to sit down together at the table of brotherhood.\\n\\nI have a dream that one day even the state of Mississippi< a state sweltering with the heat of injustice, sweltering with the heat of oppression, will be transformed into an oasis of freedom and justice.\\n\\nI have a dream that my four little children will one day live in a nation where they will not be judged by the color of their skin but by the content of their character.\\n\\nI have a dream today!\\n\\nI have a dream that one day, \\xe4own in Alabama, with its vicious racists, with its governor having his lips dripping with the words of \"interposition\" and \"nullification\" -- one day right there in(Alabama little black boys and black girls will be able to join hands with little white boys and white girls `s sisters and brothers.\\n\\nI have a dream today!\\n\\nI have a dream that one day every valley shall be exalted, and every hill and mountain shall be made low, vhe rough places will be made plain, and the crooked places will be made straight; \"and the glory of the Lord shall be revealed and all flesh shall see it together.\"2\\n\\nThis is our hope, and this is the faith that I go back to the South with.\\n\\nWith this faith, we will be able to hew out of the mountain of despair a stone of hope. With this faith, we will be able to transform the jangling discords of our nation into a beautiful symphony of brotherhood. With this faith\\x0c we will be able to work |ogether, to pray together, to struggle together, to go to jail together, to stand up for freedom together, knowing that we will be free one day.\\n\\nAnd\\xa0this wiLl be the day -- this will be the Day wxen all of God\\'3 children Will be able to sing with new meaning:\\n\\nMy country gtis of thee, sweet land of liberty, of thee I sing. Land where my fathers died, land of the Pilgrim\\'s pride,    From every mountainside, let freedom ring!\\n\\nAnd if America is to be a great nation, this must become true.\\n\\nAnd so let freedom ring from the prodigious hilltops of New Hampshire.\\n\\nLet freedom ring from the mighty mountains of New York.\\n\\nLet freedom ring from the heightening Alleghenies of Pennsylvania.\\n\\nLet freedom ring from the snow-capped Rockies of Colorado.\\n\\nLet freedom ring from the curvaceous slopes of California.\\n\\nBut not only that:\\n\\nLet freedom ring from Stone Mountain of Georgia.\\n\\nLet freedom zi.g from Lookout Mountain of Tennessee.\\n\\nLet freedom ring from mvery hill and molehill of Misshssippi.\\n\\nFrom every mountamnside, let \\xe6reedom ring.\\n\\n\\n\\nAn\\x04 when this happens, and when we allow freedom ring, when we let it ring from every village and every hamlet, from every state and every city, we will be able to speed up that day when all of God\\'s children, black men and white men, Jews and Gentiles, Protestants and Catholics, will be able to join hands`and sing in the words of the old Negro spiritual:\\n\\nFree at last! Free at last\\xa1\\n\\nThank God Almighty, we are free at last!')"
      ]
     },
     "execution_count": 84,
     "metadata": {},
     "output_type": "execute_result"
    }
   ],
   "source": [
    "decoded"
   ]
  },
  {
   "cell_type": "code",
   "execution_count": 75,
   "metadata": {},
   "outputs": [],
   "source": [
    "newFile = open(\"Data_Files/adam.txt\", \"wb\")\n",
    "newFile.write(predict)\n",
    "newFile.close()"
   ]
  },
  {
   "cell_type": "code",
   "execution_count": 59,
   "metadata": {},
   "outputs": [
    {
     "name": "stdout",
     "output_type": "stream",
     "text": [
      "1.0\n"
     ]
    }
   ],
   "source": [
    "correct = 0\n",
    "est = data_bits\n",
    "act = song_binary\n",
    "\n",
    "max_index = min(len(est), len(act))\n",
    "for i in range(max_index):\n",
    "    if est[i] == act[i]:\n",
    "        correct += 1\n",
    "        \n",
    "print(correct/max_index)"
   ]
  },
  {
   "cell_type": "code",
   "execution_count": null,
   "metadata": {},
   "outputs": [],
   "source": []
  }
 ],
 "metadata": {
  "kernelspec": {
   "display_name": "Python 3",
   "language": "python",
   "name": "python3"
  },
  "language_info": {
   "codemirror_mode": {
    "name": "ipython",
    "version": 3
   },
   "file_extension": ".py",
   "mimetype": "text/x-python",
   "name": "python",
   "nbconvert_exporter": "python",
   "pygments_lexer": "ipython3",
   "version": "3.7.4"
  }
 },
 "nbformat": 4,
 "nbformat_minor": 2
}
