{
 "cells": [
  {
   "cell_type": "markdown",
   "metadata": {},
   "source": [
    "# Libaries to import "
   ]
  },
  {
   "cell_type": "code",
   "execution_count": 1,
   "metadata": {},
   "outputs": [],
   "source": [
    "from audioFunctions import *\n",
    "from binaryFunctions import *\n",
    "from qam import *\n",
    "from sequenceGenerators import *\n",
    "from receiver import *\n",
    "from error_coding import *\n",
    "from to_import import *\n",
    "import ldpcPython as ldpc"
   ]
  },
  {
   "cell_type": "markdown",
   "metadata": {},
   "source": [
    "# Transmitsion\n",
    "### Importing data, preparing them into the relevant formats, and saving/playing the output .wav file"
   ]
  },
  {
   "cell_type": "code",
   "execution_count": 2,
   "metadata": {},
   "outputs": [],
   "source": [
    "# Load data here\n",
    "\n",
    "# Random bits \n",
    "CE_binary = binaryTextFileToBinary('Data_Files/random_bits.txt')\n",
    "\n",
    "# Original binary file\n",
    "principia_binary = imageFileToBinary('Data_Files/PRINCIPIA.txt')\n",
    "conv_binary = imageFileToBinary('Data_Files/circular_conv.bmp')\n",
    "rickroll_binary  = imageFileToBinary('Data_Files/rickroll.gif')\n",
    "kokoro_binary  = binaryTextFileToBinary('Data_Files/kokoro_bin.txt')\n",
    "\n",
    "binary = principia_binary"
   ]
  },
  {
   "cell_type": "code",
   "execution_count": 3,
   "metadata": {
    "scrolled": true
   },
   "outputs": [
    {
     "name": "stdout",
     "output_type": "stream",
     "text": [
      "813030\n"
     ]
    },
    {
     "data": {
      "text/plain": [
       "bytearray(b'grp1_challenge_1.txt\\x00813030\\x00PHILOSOPHI\\xc3\\x86\\n\\nNATURALIS\\n\\nPRINCIPIA\\n\\nMATHEMATICA\\n\\n       *       *       ')"
      ]
     },
     "execution_count": 3,
     "metadata": {},
     "output_type": "execute_result"
    }
   ],
   "source": [
    "# Add metadata here\n",
    "data_byte_length = int(len(binary)/8)\n",
    "file_name = \"grp1_challenge_1.txt\"\n",
    "\n",
    "line = file_name+str(data_byte_length)\n",
    "metadata = '0' + bin(int.from_bytes(line.encode(), 'big'))[2:]\n",
    "metadata = metadata[:len(file_name)*8] + '00000000' + metadata[len(file_name)*8:] + '00000000'\n",
    "\n",
    "binary = metadata+binary\n",
    "print(data_byte_length)\n",
    "str_to_bytearray(binary)[:100]"
   ]
  },
  {
   "cell_type": "code",
   "execution_count": 4,
   "metadata": {},
   "outputs": [],
   "source": [
    "# Error coding here"
   ]
  },
  {
   "cell_type": "code",
   "execution_count": 5,
   "metadata": {},
   "outputs": [],
   "source": [
    "# Set the parameters for transmission\n",
    "Mode = \"A\" # select mode from A, B, C\n",
    "\n",
    "# Cyclic Prefix\n",
    "CP_mode = {\"A\": 224, \"B\": 704, \"C\": 1184}\n",
    "\n",
    "# DFT length \n",
    "N = 4096\n",
    "CP = CP_mode[Mode]\n",
    "\n",
    "# Number of time indecies we go back in time from the \"optimal point\"\n",
    "guard = 5\n",
    "\n",
    "# Number of known symbol repeats for every frame\n",
    "CE_repeat = 20\n",
    "\n",
    "# Number of data symbols in each frame\n",
    "frame_data_length = 180"
   ]
  },
  {
   "cell_type": "code",
   "execution_count": 6,
   "metadata": {},
   "outputs": [],
   "source": [
    "# Make your instructions ( THIS CAN BE MADE MORE COMPLICATED USING MAGNITUDE DATA FROM THE CHANNEL TF )\n",
    "instruction = []\n",
    "for i in range(int(N/2 - 1)):\n",
    "    if i <1500 and i >= 100:\n",
    "        instruction.append(1)\n",
    "    else: \n",
    "        instruction.append(0)\n",
    "        \n",
    "# assuming 0 -> no data, 1 -> QPSK, 2 -> 16QAM\n",
    "# find number of bits necessary for each OFDM symbol \n",
    "bits_in_ofdm_symbol = 0\n",
    "for value in instruction: \n",
    "    bits_in_ofdm_symbol += value*2"
   ]
  },
  {
   "cell_type": "code",
   "execution_count": 7,
   "metadata": {},
   "outputs": [],
   "source": [
    "# XOR operation\n",
    "\n",
    "# This is information shared to the receiver\n",
    "rand_binary = CE_binary[:bits_in_ofdm_symbol]  \n",
    "data_binary_len = len(binary)\n",
    "\n",
    "# Not shared to receiver\n",
    "rand_for_xor = (rand_binary * math.ceil(data_binary_len/bits_in_ofdm_symbol))[0:data_binary_len]\n",
    "\n",
    "# XOR the coded binary sequence\n",
    "coded_binary = xor(binary, rand_for_xor)"
   ]
  },
  {
   "cell_type": "code",
   "execution_count": 12,
   "metadata": {
    "scrolled": false
   },
   "outputs": [
    {
     "name": "stdout",
     "output_type": "stream",
     "text": [
      "bitcount 2800\n",
      "additional  2736\n",
      "data length  6504464\n",
      "new data len  6507200\n",
      "symbol number 100 is done.\n",
      "symbol number 200 is done.\n",
      "symbol number 300 is done.\n",
      "symbol number 400 is done.\n",
      "symbol number 500 is done.\n",
      "symbol number 600 is done.\n",
      "symbol number 700 is done.\n",
      "symbol number 800 is done.\n",
      "symbol number 900 is done.\n",
      "symbol number 1000 is done.\n",
      "symbol number 1100 is done.\n",
      "symbol number 1200 is done.\n",
      "symbol number 1300 is done.\n",
      "symbol number 1400 is done.\n",
      "symbol number 1500 is done.\n",
      "symbol number 1600 is done.\n",
      "symbol number 1700 is done.\n",
      "symbol number 1800 is done.\n",
      "symbol number 1900 is done.\n",
      "symbol number 2000 is done.\n",
      "symbol number 2100 is done.\n",
      "symbol number 2200 is done.\n",
      "symbol number 2300 is done.\n"
     ]
    }
   ],
   "source": [
    "# QAM modulation for the coded binary sequence\n",
    "\n",
    "# Modulate the random sequence used for channel estimation using QPSK\n",
    "# the first one uses all bins for known data\n",
    "# the second one only uses the bins that contain data even for known data \n",
    "CE_modulated = qpsk(CE_binary)\n",
    "#CE_modulated = varyingModulation_std(CE_binary, instruction, N, CE_binary, print_progress = True, max_odfm_symbol =1)\n",
    "\n",
    "# Modulate the data symbols using the instruction array\n",
    "data_modulated = varyingModulation_std(coded_binary, instruction, N, CE_binary, print_progress = True)"
   ]
  },
  {
   "cell_type": "code",
   "execution_count": 13,
   "metadata": {},
   "outputs": [],
   "source": [
    "# Chirp signal \n",
    "Start_F = 0\n",
    "End_F = 8000\n",
    "Time = 5*(CP+N)/fs\n",
    "\n",
    "# Prepare chirp signal\n",
    "chirp_signal = Chirp(Start_F,End_F,Time, volume = 100)"
   ]
  },
  {
   "cell_type": "code",
   "execution_count": 14,
   "metadata": {},
   "outputs": [],
   "source": [
    "# For channel esimation (CE)\n",
    "\n",
    "# Prepare CE and payload data to be transmitted\n",
    "CE_symbols, CE_Freq = ofdmSymbols(CE_modulated, CP, N)\n",
    "Payload_symbols, Payload_Freq = ofdmSymbols(data_modulated, CP, N)\n",
    "\n",
    "# Adjust the number of OFDM symbols in the payload so it has intger number of frame content\n",
    "extra = frame_data_length - len(Payload_symbols)%frame_data_length\n",
    "for i in range(extra):\n",
    "    Payload_symbols = np.concatenate((Payload_symbols, [CE_symbols[1]]))\n",
    "    \n",
    "\n",
    "# Identify number of frames are present in the transmitted sequence\n",
    "num_of_frames = int(len(Payload_symbols)/frame_data_length)"
   ]
  },
  {
   "cell_type": "code",
   "execution_count": 12,
   "metadata": {},
   "outputs": [],
   "source": [
    "# Prepare what to actually transmit\n",
    "\n",
    "# Channel estimation at the beginning\n",
    "CE_transmit = repeat_signal(CE_symbols[0], CE_repeat)\n",
    "known_freq = CE_Freq[0]\n",
    "\n",
    "# Payload mixed with CE symbols distributed between them\n",
    "Payload = prepare_payload_std(Payload_symbols, CE_transmit, chirp_signal, num_of_frames, frame_data_length)"
   ]
  },
  {
   "cell_type": "code",
   "execution_count": 13,
   "metadata": {},
   "outputs": [
    {
     "name": "stdout",
     "output_type": "stream",
     "text": [
      "Transmit signal is 4 min and 43.7 seconds\n"
     ]
    }
   ],
   "source": [
    "Tx = (Pause(20),) + tuple(Payload) + (chirp_signal,) # Pause 20 is just to remove any effects a the beginning of the transmission \n",
    "Transmit_time = round(len(np.concatenate(Tx))/fs, 2)\n",
    "\n",
    "print(\"Transmit signal is\", math.floor(Transmit_time/60), \"min and\", round(Transmit_time%60,3), \"seconds\")"
   ]
  },
  {
   "cell_type": "code",
   "execution_count": 14,
   "metadata": {},
   "outputs": [],
   "source": [
    "# Transmit the message / save the wav file\n",
    "# playOutput = True to play the wave file\n",
    "x = save_transmit( Tx , playOutput=False)"
   ]
  },
  {
   "cell_type": "markdown",
   "metadata": {},
   "source": [
    "# Receiver"
   ]
  },
  {
   "cell_type": "code",
   "execution_count": 15,
   "metadata": {},
   "outputs": [
    {
     "data": {
      "image/png": "[encoded data removed]",
      "text/plain": [
       "<Figure size 432x288 with 1 Axes>"
      ]
     },
     "metadata": {
      "needs_background": "light"
     },
     "output_type": "display_data"
    },
    {
     "data": {
      "image/png": "[encoded data removed]",
      "text/plain": [
       "<Figure size 432x288 with 1 Axes>"
      ]
     },
     "metadata": {
      "needs_background": "light"
     },
     "output_type": "display_data"
    }
   ],
   "source": [
    "# Import the recorded signal\n",
    "#y = audioDataFromFile('Wav_Files/challenge2_good_channel1.wav')\n",
    "y = audioDataFromFile('Wav_Files/other_grp/grp3_simp_A2.wav')\n",
    "\n",
    "\n",
    "# Find the first chirp and return the signal from just before that chirp\n",
    "y_signal = detect_chirps(y, chirp_signal, 60)\n",
    "\n",
    "plot_y(y)\n",
    "plot_y(y_signal, f =1)"
   ]
  },
  {
   "cell_type": "code",
   "execution_count": 20,
   "metadata": {},
   "outputs": [
    {
     "name": "stdout",
     "output_type": "stream",
     "text": [
      "10799 0\n"
     ]
    },
    {
     "data": {
      "image/png": "[encoded data removed]",
      "text/plain": [
       "<Figure size 432x288 with 1 Axes>"
      ]
     },
     "metadata": {
      "needs_background": "light"
     },
     "output_type": "display_data"
    }
   ],
   "source": [
    "def count_frames_test(y_next, h, length):\n",
    "    i = 0\n",
    "    count = 1\n",
    "    while 1:\n",
    "        portion = y_next[:fs*5]\n",
    "        g = np.convolve(portion, h[::-1], 'same')\n",
    "        max_value = max(g)\n",
    "        plot_y(g)\n",
    "        print(np.argmax(g), i)\n",
    "\n",
    "        if i == 0:\n",
    "            compare = max_value\n",
    "        else:\n",
    "            if max_value > compare * 0.2: \n",
    "                count += 1\n",
    "            else:\n",
    "                break\n",
    "\n",
    "        y_next = y_next[length:]\n",
    "        if len(y_next) < len(h)*2:\n",
    "            break\n",
    "\n",
    "        i += 1\n",
    "\n",
    "    return count\n",
    "\n",
    "    \n",
    "length = (N + CP) * (frame_data_length + CE_repeat * 2) + len(chirp_signal)\n",
    "frame_count = count_frames_test(y_signal, chirp_signal, length)#-1"
   ]
  },
  {
   "cell_type": "code",
   "execution_count": 59,
   "metadata": {},
   "outputs": [
    {
     "name": "stdout",
     "output_type": "stream",
     "text": [
      "number of frames should be 44\n"
     ]
    }
   ],
   "source": [
    "# length of each frame in time steps\n",
    "length = (N + CP) * (frame_data_length + CE_repeat * 2) + len(chirp_signal)\n",
    "frame_count = count_frames(y_signal, chirp_signal, length)#-1\n",
    "print(\"number of frames should be\", frame_count)"
   ]
  },
  {
   "cell_type": "code",
   "execution_count": 21,
   "metadata": {},
   "outputs": [],
   "source": [
    "frame_count = 1"
   ]
  },
  {
   "cell_type": "code",
   "execution_count": 32,
   "metadata": {
    "scrolled": true
   },
   "outputs": [
    {
     "name": "stdout",
     "output_type": "stream",
     "text": [
      "Completed frame 1\n",
      "   Linear phase gradient was  0.0\n",
      "Data slicing complete\n"
     ]
    },
    {
     "data": {
      "image/png": "[encoded data removed]",
      "text/plain": [
       "<Figure size 432x288 with 1 Axes>"
      ]
     },
     "metadata": {
      "needs_background": "light"
     },
     "output_type": "display_data"
    },
    {
     "data": {
      "image/png": "[encoded data removed]",
      "text/plain": [
       "<Figure size 432x288 with 1 Axes>"
      ]
     },
     "metadata": {
      "needs_background": "light"
     },
     "output_type": "display_data"
    },
    {
     "data": {
      "image/png": "[encoded data removed]",
      "text/plain": [
       "<Figure size 432x288 with 1 Axes>"
      ]
     },
     "metadata": {
      "needs_background": "light"
     },
     "output_type": "display_data"
    },
    {
     "data": {
      "image/png": "[encoded data removed]",
      "text/plain": [
       "<Figure size 432x288 with 1 Axes>"
      ]
     },
     "metadata": {
      "needs_background": "light"
     },
     "output_type": "display_data"
    }
   ],
   "source": [
    "#################################################################################################\n",
    "# TUNABLE PARAMETERS!\n",
    "#################################################################################################\n",
    "\n",
    "stable_phase_start = 200     # where we estimate the \"stable region\" of the phase to start\n",
    "stable_phase_length = 400    # how long the stable region continues for\n",
    "plot = True                 # display plots or not\n",
    "\n",
    "#################################################################################################\n",
    "\n",
    "\n",
    "# Calculating time index lengths\n",
    "data_index_length = frame_data_length * (N+CP)\n",
    "CE_index_length = CE_repeat * (N+CP)\n",
    "\n",
    "\n",
    "y_use = y_signal\n",
    "# big loop to find out everything\n",
    "for i in range(frame_count):\n",
    "    \n",
    "    # obtain only the time series for one frame\n",
    "    y_data = removeChirpAndPause_std(y_use, chirp_signal, fs*6, plot = False, rng = 100)\n",
    "    \n",
    "\n",
    "\n",
    "    # Slice the data to retrieve the CE\n",
    "    CE_samples, CE_freq, remaining = sliceData(y_data, CP-guard, N, CP, CE_repeat)\n",
    "    CE_samples_end, CE_freq_end, remaining_end \\\n",
    "                    = sliceData(y_data[data_index_length + CE_index_length:], CP-guard, N, CP, CE_repeat)\n",
    "    \n",
    "    \n",
    "    # Obtain channel response at the beginning and end of the frame\n",
    "    # channel response -> Impulse response and Frequency response (Transfer function)\n",
    "    impulse_start, TF_start = getTF_FreqAverage(CE_freq, known_freq, N, CE_repeat)\n",
    "    impulse_end, TF_end = getTF_FreqAverage(CE_freq_end, known_freq, N, CE_repeat)\n",
    "\n",
    "\n",
    "    # Unwrapped phase for positive frequencies of the channel response\n",
    "    angle_start = np.unwrap(np.angle(TF_start[:2048]))\n",
    "    angle_end = np.unwrap(np.angle(TF_end[:2048]))\n",
    "\n",
    "    # Difference in phase \n",
    "    difference = []\n",
    "    for p, val in enumerate(angle_end):\n",
    "        difference.append(round(val - angle_start[p], 3))\n",
    "        \n",
    "    # p = x coordinates, q = y coordinates to do linear curve fitting\n",
    "    p = np.linspace(stable_phase_start,   stable_phase_start + stable_phase_length,   stable_phase_length)\n",
    "    q = difference[stable_phase_start:   stable_phase_start + stable_phase_length  ]\n",
    "    \n",
    "    # output gradient and y-intercept. \n",
    "    param = np.polyfit(p,q,1)\n",
    "    grad = param[0]\n",
    "    \n",
    "    ##############\n",
    "    ###### if you want to only use K-Means\n",
    "    #grad = 0\n",
    "    ##############\n",
    "    \n",
    "    # Organise all the data symbols in the frame into chunks of 2047 frequency bins\n",
    "    # Also perform phase correction using the gradient of the linear phase added due to the frequency mismatch\n",
    "    sliced_data = sliceDataContent_std(TF_start, TF_end, remaining, CP-guard, N, CP, frame_data_length, grad, CE_repeat)\n",
    "    if i == 0:\n",
    "        freq_data = sliced_data\n",
    "    else:\n",
    "        freq_data = np.concatenate((freq_data, sliced_data))\n",
    "    \n",
    "    \n",
    "    # Update the time domain signal for the next frame\n",
    "    y_use = remaining_end\n",
    "    \n",
    "    \n",
    "    print(\"Completed frame \" + str(i+1))\n",
    "    print(\"   Linear phase gradient was \", grad)\n",
    "    \n",
    "    \n",
    "    # plotting stuff for debug purposes\n",
    "    if plot: # and i > 16 and i < 21:  \n",
    "\n",
    "        plot_y(difference[stable_phase_start:stable_phase_length + stable_phase_start], f = i+100, title = \"difference \" + str(i+1))\n",
    "        plot_y(angle_start, f = i, title = \"Phase of positive frequencies. Frame \" + str(i+1))\n",
    "        plot_y(angle_end, f= i)\n",
    "\n",
    "        plt.figure(i+1000)\n",
    "        plt.yscale(\"log\")\n",
    "        plt.plot(abs(np.array(TF_start))[:2048])\n",
    "        plt.plot(abs(np.array(TF_end))[:2048])\n",
    "        plt.title(\"Log magnitude plot. Frame \" + str(i+1))\n",
    "        plot_y(abs(np.array(TF_start))[:2048], f=i+2000, title = \"Linear magnitude plot. Frame \" + str(i+1)) \n",
    "     \n",
    "    \n",
    "    if i == 20:\n",
    "        pass #break\n",
    "\n",
    "    \n",
    "print(\"Data slicing complete\")"
   ]
  },
  {
   "cell_type": "markdown",
   "metadata": {},
   "source": [
    "#### If using K-means to correct QPSK symbols individually"
   ]
  },
  {
   "cell_type": "code",
   "execution_count": 23,
   "metadata": {},
   "outputs": [],
   "source": [
    "phase = 0\n",
    "batch = 10\n",
    "window = 1.7\n",
    "\n",
    "\n",
    "corrected_freq_data = []\n",
    "index = 1\n",
    "strt = 180*0\n",
    "oldphase = 0\n",
    "for i in range(len(freq_data)): #strt, strt+180):#180*index,180*(index+1)): \n",
    "    \n",
    "    # if you want to use this method remove the break below this comment!!\n",
    "    break\n",
    "    \n",
    "    symb = freq_data[i]\n",
    "    \n",
    "\n",
    "    phase = find_angle_offset(symb[100:1500], disp = False)\n",
    "    \n",
    "    if i%180 > 100:\n",
    "        if (phase/oldphase < 1/3 or phase/oldphase > 3) and oldphase != 0:\n",
    "            phase = oldphase\n",
    "        \n",
    "    oldphase = phase\n",
    "    \n",
    "    for j in range(len(symb)):\n",
    "        symb[j] *= cmath.rect(1, phase*j*(1/700))\n",
    "        \n",
    "        \n",
    "    phase2 = 0   \n",
    "    if i%180 > 100 or 1:\n",
    "        \n",
    "        '''\n",
    "        plot_res = np.array(symb)[100:1500]\n",
    "        plt.figure(i+2000)\n",
    "        plt.scatter(plot_res.real, plot_res.imag, s=0.5)\n",
    "        plt.title(i)\n",
    "        plt.xlim(-1*window,window)\n",
    "        plt.ylim(-1*window, window)\n",
    "        '''\n",
    "    \n",
    "        phase2 = find_angle_offset(symb[100:1500])#, disp = True)    \n",
    "        #print(\"phase\", phase, phase2)\n",
    "\n",
    "        for j in range(len(symb)):\n",
    "            symb[j] *= cmath.rect(1, phase2*j*(1/700))\n",
    "\n",
    "    \n",
    "    print(\"phase\", phase, phase2, i)\n",
    "\n",
    "    corrected_freq_data.append(symb)\n",
    "    \n",
    "\n",
    "    plot_res = np.array(symb)[100:1500]\n",
    "    plt.figure(i+2000)\n",
    "    plt.scatter(plot_res.real, plot_res.imag,s=0.1)\n",
    "    plt.title(i)\n",
    "    plt.xlim(-1*window,window)\n",
    "    plt.ylim(-1*window, window)\n",
    "\n",
    "    \n",
    "    for j in range(len(symb)):\n",
    "        symb[j] *= cmath.rect(1, -1*phase2*j*(1/700))\n",
    "        \n",
    "    for j in range(len(symb)):\n",
    "        symb[j] *= cmath.rect(1, -1*phase*j*(1/700))\n",
    "\n",
    "    \n",
    "    if i%50 == 0:\n",
    "        print(i, \"th symbol done\")"
   ]
  },
  {
   "cell_type": "code",
   "execution_count": 51,
   "metadata": {},
   "outputs": [
    {
     "data": {
      "image/png": "[encoded data removed]",
      "text/plain": [
       "<Figure size 432x288 with 1 Axes>"
      ]
     },
     "metadata": {
      "needs_background": "light"
     },
     "output_type": "display_data"
    }
   ],
   "source": [
    "# Plot constellations to see if they are sensible. \n",
    "\n",
    "\n",
    "# Set which OFDM symbol to view\n",
    "start = 180*0 + 4\n",
    "duration = 5#180*1\n",
    "\n",
    "# display window size\n",
    "window = 1.5\n",
    "\n",
    "for i in range(duration):\n",
    "    \n",
    "    plot_res = np.array(freq_data[start+i])[100:1500]\n",
    "    plt.scatter(plot_res.real, plot_res.imag, s = 0.5)\n",
    "    plt.xlim(-1*window,window)\n",
    "    plt.ylim(-1*window, window)\n"
   ]
  },
  {
   "cell_type": "code",
   "execution_count": 16,
   "metadata": {},
   "outputs": [],
   "source": [
    "y_data = y[len(chirp_signal) + CE_repeat*(N+CP):]\n",
    "\n",
    "y_final = y_data[:(CP+N)*180]\n",
    "\n",
    "for i in range(180):\n",
    "    symbol1 = y_data[i*(CP+N):(i+1)*(CP+N)][CP:CP+N]\n",
    "    freq1 = fft(symbol1)[:2047]\n",
    "    \n",
    "    if i == 0:\n",
    "        comp1 = freq1\n",
    "    else:\n",
    "        comp1 = np.concatenate((comp1, freq1))\n",
    "\n",
    "#plt.scatter(comp1.real, comp1.imag, s = 0.5)"
   ]
  },
  {
   "cell_type": "code",
   "execution_count": 22,
   "metadata": {},
   "outputs": [
    {
     "name": "stderr",
     "output_type": "stream",
     "text": [
      "IOPub data rate exceeded.\n",
      "The notebook server will temporarily stop sending output\n",
      "to the client in order to avoid crashing it.\n",
      "To change this limit, set the config variable\n",
      "`--NotebookApp.iopub_data_rate_limit`.\n",
      "\n",
      "Current values:\n",
      "NotebookApp.iopub_data_rate_limit=1000000.0 (bytes/sec)\n",
      "NotebookApp.rate_limit_window=3.0 (secs)\n",
      "\n"
     ]
    }
   ],
   "source": [
    "print(tuple(comp1))"
   ]
  },
  {
   "cell_type": "code",
   "execution_count": 23,
   "metadata": {},
   "outputs": [],
   "source": [
    "file = tuple(comp1)\n",
    "#demodulated_data = demodVaryingModulation_std(np.concatenate(tuple(freq_data)), instruction, N)\n",
    "demodulated_data = demodVaryingModulation_std(file, instruction, N)\n",
    "\n",
    "\n",
    "# This is information shared to the receiver\n",
    "data_binary_len = len(demodulated_data)\n",
    "\n",
    "# What to xor with the data. rand_binary calculated in Transmission side. \n",
    "rand_for_xor_Rx = (rand_binary * math.ceil(data_binary_len/bits_in_ofdm_symbol))[0:data_binary_len]\n"
   ]
  },
  {
   "cell_type": "code",
   "execution_count": 24,
   "metadata": {},
   "outputs": [
    {
     "data": {
      "text/plain": [
       "bytearray(b'simp.txt\\x001505\\x00               _..-...\\r\\n              ,Y+  .:.:\\\\_\\r\\n             | |./\\'     ``-\\\\\\r\\n             |,\\'`           `.\\r\\n             |               `_\\r\\n             |     ,-\\'\\'-. ,-\\'\\'\\':\\r\\n             |    /      .\\'     :                                _\\r\\n             | .\\\\ |    o  |__o.,\\'                           _.-\\' \\'\\\\\\r\\n            \\'|\\\\| \\\\\\\\      /    `)                        ,..,\\'     ,\\'\\r\\n             |`|  \\' `..- .....<:                      ,\\'    `. ,-:\\r\\n             \\' ,-   _.-\\'        `.                 _,\\'       +\\'  |\\r\\n              |`|  ,\\'            \\'.              ,\\'       - _/_,\\'-\\\\\\r\\n               `.Y|   _,,.. ____./\\'           ,-\\'         /\\'|`\\'  _|\\r\\n                 ||  | |  |  | |           _.-              `--+\\'\\r\\n                 |-.  \"|:.|..|-.    _,.. ,/\\'               ,..Y\\'\\r\\n                 / `\\\\.       ,-\\'  ,\\' /,,\\'               _,\\'\\r\\n                .:_    -----\\'\\'\\'|.:   |             _,Y\\'\\'\\r\\n               /  \\'`\\'\\';\\'.     /:  \\\\  |        _,Y-\\'\\r\\n               |      |  \\' .  | `._| |     _,\\'\\r\\n           _/-\\'\\';.. _ |     ` |   \\\\   `.Y\\'i\\'\\r\\n         ,\\'    ,\\'    \\'             |    i/\\'\\r\\n      ,.\\'      /                   ..--\\'\\r\\n      |       |                     \\\\\\r\\n      : .     /                      \\' .\\r\\n     /\\'  `._ .\\'                         `.\\r\\n     /     _\\'\\'                            \\\\\\r\\n    /     ./                               \\\\\\r\\n   /      /                                 \\\\\\r\\n  /      |                                   \\\\\\r\\n /     ,\\'|                        LucC        |\\x00\\x00\\x00\\x00\\x00\\x00\\x00\\x00\\x00\\x00\\x00\\x00\\x00\\x00\\x00\\x00\\x00\\x00\\x00\\x00\\x00\\x00\\x00\\x00\\x00\\x00\\x00\\x00\\x00\\x00\\x00\\x00\\x00\\x00\\x00\\x00\\x00\\x00\\x00\\x00\\x00\\x00\\x00\\x00\\x00\\x00\\x00\\x00\\x00\\x00\\x00\\x00\\x00\\x00\\x00\\x00\\x00\\x00\\x00\\x00\\x00\\x00\\x00\\x00\\x00\\x00\\x00\\x00\\x00\\x00\\x00\\x00\\x00\\x00\\x00\\x00\\x00\\x00\\x00\\x00\\x00\\x00\\x00\\x00\\x00\\x00\\x00\\x00\\x00\\x00\\x00\\x00\\x00\\x00\\x00\\x00\\x00\\x00\\x00\\x00\\x00\\x00\\x00\\x00\\x00\\x00\\x00\\x00\\x00\\x00\\x00\\x00\\x00\\x00\\x00\\x00\\x00\\x00\\x00\\x00\\x00\\x00\\x00\\x00\\x00\\x00\\x00\\x00\\x00\\x00\\x00\\x00\\x00\\x00\\x00\\x00\\x00\\x00\\x00\\x00\\x00\\x00\\x00\\x00\\x00\\x00\\x00\\x00\\x00\\x00\\x00\\x00\\x00\\x00\\x00\\x00\\x00\\x00\\x00\\x00\\x00\\x00\\x00\\x00\\x00\\x00\\x00\\x00\\x00\\x00\\x00\\x00\\x00\\x00\\x00\\x00\\x00\\x00\\x00\\x00\\x00\\x00\\x00\\x00\\x00\\x00\\x00\\x00\\x00\\x00\\x00\\x00\\x00\\x00\\x00\\x00\\x00\\x00\\x00\\x00\\x00\\x00\\x00\\x00\\x00\\x00\\x00\\x00\\x00\\x00\\x00\\x00\\x00\\x00\\x00\\x00\\x00\\x00\\x00\\x00\\x00\\x00\\x00\\x00\\x00\\x00\\x00\\x00\\x00\\x00\\x00simp.txt\\x001505\\x00               _..-...\\r\\n              ,Y+  .:.:\\\\_\\r\\n             | |./\\'     ``-\\\\\\r\\n             |,\\'`           `.\\r\\n             |               `_\\r\\n             |     ,-\\'\\'-. ,-\\'\\'\\':\\r\\n             |    /      .\\'     :                                _\\r\\n             | .\\\\ |    o  |__o.,\\'                           _.-\\' \\'\\\\\\r\\n            \\'|\\\\| \\\\\\\\simp.txt\\x001505\\x00               _..-...\\r\\n              ,Y+  .:.:\\\\_\\r\\n             | |./\\'     ``-\\\\\\r\\n             |,\\'`           `.\\r\\n             |               `_\\r\\n             |     ,-\\'\\'-. ,-\\'\\'\\':\\r\\n             |    /      .\\'     :                                _\\r\\n             | .\\\\ |    o  |__o.,\\'                           _.-\\' \\'\\\\\\r\\n            \\'|\\\\| \\\\\\\\simp.txt\\x001505\\x00               _..-...\\r\\n              ,Y+  .:.:\\\\_\\r\\n             | |./\\'     ``-\\\\\\r\\n             |,\\'`           `.\\r\\n             |               `_\\r\\n             |     ,-\\'\\'-. ,-\\'\\'\\':\\r\\n             |    /      .\\'     :                                _\\r\\n             | .\\\\ |    o  |__o.,\\'                           _.-\\' \\'\\\\\\r\\n            \\'|\\\\| \\\\\\\\simp.txt\\x001505\\x00               _..-...\\r\\n              ,Y+  .:.:\\\\_\\r\\n             | |./\\'     ``-\\\\\\r\\n             |,\\'`           `.\\r\\n             |               `_\\r\\n             |     ,-\\'\\'-. ,-\\'\\'\\':\\r\\n             |    /      .\\'     :                                _\\r\\n             | .\\\\ |    o  |__o.,\\'                           _.-\\' \\'\\\\\\r\\n            \\'|\\\\| \\\\\\\\simp.txt\\x001505\\x00               _..-...\\r\\n              ,Y+  .:.:\\\\_\\r\\n             | |./\\'     ``-\\\\\\r\\n             |,\\'`           `.\\r\\n             |               `_\\r\\n             |     ,-\\'\\'-. ,-\\'\\'\\':\\r\\n             |    /      .\\'     :                                _\\r\\n             | .\\\\ |    o  |__o.,\\'                           _.-\\' \\'\\\\\\r\\n            \\'|\\\\| \\\\\\\\simp.txt\\x001505\\x00               _..-...\\r\\n              ,Y+  .:.:\\\\_\\r\\n             | |./\\'     ``-\\\\\\r\\n             |,\\'`           `.\\r\\n             |               `_\\r\\n             |     ,-\\'\\'-. ,-\\'\\'\\':\\r\\n             |    /      .\\'     :                                _\\r\\n             | .\\\\ |    o  |__o.,\\'                           _.-\\' \\'\\\\\\r\\n            \\'|\\\\| \\\\\\\\simp.txt\\x001505\\x00               _..-...\\r\\n              ,Y+  .:.:\\\\_\\r\\n             | |./\\'     ``-\\\\\\r\\n             |,\\'`           `.\\r\\n             |               `_\\r\\n             |     ,-\\'\\'-. ,-\\'\\'\\':\\r\\n             |    /      .\\'     :                                _\\r\\n             | .\\\\ |    o  |__o.,\\'                           _.-\\' \\'\\\\\\r\\n            \\'|\\\\| \\\\\\\\simp.txt\\x001505\\x00               _..-...\\r\\n              ,Y+  .:.:\\\\_\\r\\n             | |./\\'     ``-\\\\\\r\\n             |,\\'`           `.\\r\\n             |               `_\\r\\n             |     ,-\\'\\'-. ,-\\'\\'\\':\\r\\n             |    /      .\\'     :                                _\\r\\n             | .\\\\ |    o  |__o.,\\'                           _.-\\' \\'\\\\\\r\\n            \\'|\\\\| \\\\\\\\simp.txt\\x001505\\x00               _..-...\\r\\n              ,Y+  .:.:\\\\_\\r\\n             | |./\\'     ``-\\\\\\r\\n             |,\\'`           `.\\r\\n             |               `_\\r\\n             |     ,-\\'\\'-. ,-\\'\\'\\':\\r\\n             |    /      .\\'     :                                _\\r\\n             | .\\\\ |    o  |__o.,\\'                           _.-\\' \\'\\\\\\r\\n            \\'|\\\\| \\\\\\\\simp.txt\\x001505\\x00               _..-...\\r\\n              ,Y+  .:.:\\\\_\\r\\n             | |./\\'     ``-\\\\\\r\\n             |,\\'`           `.\\r\\n             |               `_\\r\\n             |     ,-\\'\\'-. ,-\\'\\'\\':\\r\\n             |    /      .\\'     :                                _\\r\\n             | .\\\\ |    o  |__o.,\\'                           _.-\\' \\'\\\\\\r\\n            \\'|\\\\| \\\\\\\\simp.txt\\x001505\\x00               _..-...\\r\\n              ,Y+  .:.:\\\\_\\r\\n             | |./\\'     ``-\\\\\\r\\n             |,\\'`           `.\\r\\n             |               `_\\r\\n             |     ,-\\'\\'-. ,-\\'\\'\\':\\r\\n             |    /      .\\'     :                                _\\r\\n             | .\\\\ |    o  |__o.,\\'                           _.-\\' \\'\\\\\\r\\n            \\'|\\\\| \\\\\\\\simp.txt\\x001505\\x00               _..-...\\r\\n              ,Y+  .:.:\\\\_\\r\\n             | |./\\'     ``-\\\\\\r\\n             |,\\'`           `.\\r\\n             |               `_\\r\\n             |     ,-\\'\\'-. ,-\\'\\'\\':\\r\\n             |    /      .\\'     :                                _\\r\\n             | .\\\\ |    o  |__o.,\\'                           _.-\\' \\'\\\\\\r\\n            \\'|\\\\| \\\\\\\\simp.txt\\x001505\\x00               _..-...\\r\\n              ,Y+  .:.:\\\\_\\r\\n             | |./\\'     ``-\\\\\\r\\n             |,\\'`           `.\\r\\n             |               `_\\r\\n             |     ,-\\'\\'-. ,-\\'\\'\\':\\r\\n             |    /      .\\'     :                                _\\r\\n             | .\\\\ |    o  |__o.,\\'                           _.-\\' \\'\\\\\\r\\n            \\'|\\\\| \\\\\\\\simp.txt\\x001505\\x00               _..-...\\r\\n              ,Y+  .:.:\\\\_\\r\\n             | |./\\'     ``-\\\\\\r\\n             |,\\'`           `.\\r\\n             |               `_\\r\\n             |     ,-\\'\\'-. ,-\\'\\'\\':\\r\\n             |    /      .\\'     :                                _\\r\\n             | .\\\\ |    o  |__o.,\\'                           _.-\\' \\'\\\\\\r\\n            \\'|\\\\| \\\\\\\\simp.txt\\x001505\\x00               _..-...\\r\\n              ,Y+  .:.:\\\\_\\r\\n             | |./\\'     ``-\\\\\\r\\n             |,\\'`           `.\\r\\n             |               `_\\r\\n             |     ,-\\'\\'-. ,-\\'\\'\\':\\r\\n             |    /      .\\'     :                                _\\r\\n             | .\\\\ |    o  |__o.,\\'                           _.-\\' \\'\\\\\\r\\n            \\'|\\\\| \\\\\\\\simp.txt\\x001505\\x00               _..-...\\r\\n              ,Y+  .:.:\\\\_\\r\\n             | |./\\'     ``-\\\\\\r\\n             |,\\'`           `.\\r\\n             |               `_\\r\\n             |     ,-\\'\\'-. ,-\\'\\'\\':\\r\\n             |    /      .\\'     :                                _\\r\\n             | .\\\\ |    o  |__o.,\\'                           _.-\\' \\'\\\\\\r\\n            \\'|\\\\| \\\\\\\\simp.txt\\x001505\\x00               _..-...\\r\\n              ,Y+  .:.:\\\\_\\r\\n             | |./\\'     ``-\\\\\\r\\n             |,\\'`           `.\\r\\n             |               `_\\r\\n             |     ,-\\'\\'-. ,-\\'\\'\\':\\r\\n             |    /      .\\'     :                                _\\r\\n             | .\\\\ |    o  |__o.,\\'                           _.-\\' \\'\\\\\\r\\n            \\'|\\\\| \\\\\\\\simp.txt\\x001505\\x00               _..-...\\r\\n              ,Y+  .:.:\\\\_\\r\\n             | |./\\'     ``-\\\\\\r\\n             |,\\'`           `.\\r\\n             |               `_\\r\\n             |     ,-\\'\\'-. ,-\\'\\'\\':\\r\\n             |    /      .\\'     :                                _\\r\\n             | .\\\\ |    o  |__o.,\\'                           _.-\\' \\'\\\\\\r\\n            \\'|\\\\| \\\\\\\\simp.txt\\x001505\\x00               _..-...\\r\\n              ,Y+  .:.:\\\\_\\r\\n             | |./\\'     ``-\\\\\\r\\n             |,\\'`           `.\\r\\n             |               `_\\r\\n             |     ,-\\'\\'-. ,-\\'\\'\\':\\r\\n             |    /      .\\'     :                                _\\r\\n             | .\\\\ |    o  |__o.,\\'                           _.-\\' \\'\\\\\\r\\n            \\'|\\\\| \\\\\\\\simp.txt\\x001505\\x00               _..-...\\r\\n              ,Y+  .:.:\\\\_\\r\\n             | |./\\'     ``-\\\\\\r\\n             |,\\'`           `.\\r\\n             |               `_\\r\\n             |     ,-\\'\\'-. ,-\\'\\'\\':\\r\\n             |    /      .\\'     :                                _\\r\\n             | .\\\\ |    o  |__o.,\\'                           _.-\\' \\'\\\\\\r\\n            \\'|\\\\| \\\\\\\\simp.txt\\x001505\\x00               _..-...\\r\\n              ,Y+  .:.:\\\\_\\r\\n             | |./\\'     ``-\\\\\\r\\n             |,\\'`           `.\\r\\n             |               `_\\r\\n             |     ,-\\'\\'-. ,-\\'\\'\\':\\r\\n             |    /      .\\'     :                                _\\r\\n             | .\\\\ |    o  |__o.,\\'                           _.-\\' \\'\\\\\\r\\n            \\'|\\\\| \\\\\\\\simp.txt\\x001505\\x00               _..-...\\r\\n              ,Y+  .:.:\\\\_\\r\\n             | |./\\'     ``-\\\\\\r\\n             |,\\'`           `.\\r\\n             |               `_\\r\\n             |     ,-\\'\\'-. ,-\\'\\'\\':\\r\\n             |    /      .\\'     :                                _\\r\\n             | .\\\\ |    o  |__o.,\\'                           _.-\\' \\'\\\\\\r\\n            \\'|\\\\| \\\\\\\\simp.txt\\x001505\\x00               _..-...\\r\\n              ,Y+  .:.:\\\\_\\r\\n             | |./\\'     ``-\\\\\\r\\n             |,\\'`           `.\\r\\n             |               `_\\r\\n             |     ,-\\'\\'-. ,-\\'\\'\\':\\r\\n             |    /      .\\'     :                                _\\r\\n             | .\\\\ |    o  |__o.,\\'                           _.-\\' \\'\\\\\\r\\n            \\'|\\\\| \\\\\\\\simp.txt\\x001505\\x00               _..-...\\r\\n              ,Y+  .:.:\\\\_\\r\\n             | |./\\'     ``-\\\\\\r\\n             |,\\'`           `.\\r\\n             |               `_\\r\\n             |     ,-\\'\\'-. ,-\\'\\'\\':\\r\\n             |    /      .\\'     :                                _\\r\\n             | .\\\\ |    o  |__o.,\\'                           _.-\\' \\'\\\\\\r\\n            \\'|\\\\| \\\\\\\\simp.txt\\x001505\\x00               _..-...\\r\\n              ,Y+  .:.:\\\\_\\r\\n             | |./\\'     ``-\\\\\\r\\n             |,\\'`           `.\\r\\n             |               `_\\r\\n             |     ,-\\'\\'-. ,-\\'\\'\\':\\r\\n             |    /      .\\'     :                                _\\r\\n             | .\\\\ |    o  |__o.,\\'                           _.-\\' \\'\\\\\\r\\n            \\'|\\\\| \\\\\\\\simp.txt\\x001505\\x00               _..-...\\r\\n              ,Y+  .:.:\\\\_\\r\\n             | |./\\'     ``-\\\\\\r\\n             |,\\'`           `.\\r\\n             |               `_\\r\\n             |     ,-\\'\\'-. ,-\\'\\'\\':\\r\\n             |    /      .\\'     :                                _\\r\\n             | .\\\\ |    o  |__o.,\\'                           _.-\\' \\'\\\\\\r\\n            \\'|\\\\| \\\\\\\\simp.txt\\x001505\\x00               _..-...\\r\\n              ,Y+  .:.:\\\\_\\r\\n             | |./\\'     ``-\\\\\\r\\n             |,\\'`           `.\\r\\n             |               `_\\r\\n             |     ,-\\'\\'-. ,-\\'\\'\\':\\r\\n             |    /      .\\'     :                                _\\r\\n             | .\\\\ |    o  |__o.,\\'                           _.-\\' \\'\\\\\\r\\n            \\'|\\\\| \\\\\\\\simp.txt\\x001505\\x00               _..-...\\r\\n              ,Y+  .:.:\\\\_\\r\\n             | |./\\'     ``-\\\\\\r\\n             |,\\'`           `.\\r\\n             |               `_\\r\\n             |     ,-\\'\\'-. ,-\\'\\'\\':\\r\\n             |    /      .\\'     :                                _\\r\\n             | .\\\\ |    o  |__o.,\\'                           _.-\\' \\'\\\\\\r\\n            \\'|\\\\| \\\\\\\\simp.txt\\x001505\\x00               _..-...\\r\\n              ,Y+  .:.:\\\\_\\r\\n             | |./\\'     ``-\\\\\\r\\n             |,\\'`           `.\\r\\n             |               `_\\r\\n             |     ,-\\'\\'-. ,-\\'\\'\\':\\r\\n             |    /      .\\'     :                                _\\r\\n             | .\\\\ |    o  |__o.,\\'                           _.-\\' \\'\\\\\\r\\n            \\'|\\\\| \\\\\\\\simp.txt\\x001505\\x00               _..-...\\r\\n              ,Y+  .:.:\\\\_\\r\\n             | |./\\'     ``-\\\\\\r\\n             |,\\'`           `.\\r\\n             |               `_\\r\\n             |     ,-\\'\\'-. ,-\\'\\'\\':\\r\\n             |    /      .\\'     :                                _\\r\\n             | .\\\\ |    o  |__o.,\\'                           _.-\\' \\'\\\\\\r\\n            \\'|\\\\| \\\\\\\\simp.txt\\x001505\\x00               _..-...\\r\\n              ,Y+  .:.:\\\\_\\r\\n             | |./\\'     ``-\\\\\\r\\n             |,\\'`           `.\\r\\n             |               `_\\r\\n             |     ,-\\'\\'-. ,-\\'\\'\\':\\r\\n             |    /      .\\'     :                                _\\r\\n             | .\\\\ |    o  |__o.,\\'                           _.-\\' \\'\\\\\\r\\n            \\'|\\\\| \\\\\\\\simp.txt\\x001505\\x00               _..-...\\r\\n              ,Y+  .:.:\\\\_\\r\\n             | |./\\'     ``-\\\\\\r\\n             |,\\'`           `.\\r\\n             |               `_\\r\\n             |     ,-\\'\\'-. ,-\\'\\'\\':\\r\\n             |    /      .\\'     :                                _\\r\\n             | .\\\\ |    o  |__o.,\\'                           _.-\\' \\'\\\\\\r\\n            \\'|\\\\| \\\\\\\\simp.txt\\x001505\\x00               _..-...\\r\\n              ,Y+  .:.:\\\\_\\r\\n             | |./\\'     ``-\\\\\\r\\n             |,\\'`           `.\\r\\n             |               `_\\r\\n             |     ,-\\'\\'-. ,-\\'\\'\\':\\r\\n             |    /      .\\'     :                                _\\r\\n             | .\\\\ |    o  |__o.,\\'                           _.-\\' \\'\\\\\\r\\n            \\'|\\\\| \\\\\\\\simp.txt\\x001505\\x00               _..-...\\r\\n              ,Y+  .:.:\\\\_\\r\\n             | |./\\'     ``-\\\\\\r\\n             |,\\'`           `.\\r\\n             |               `_\\r\\n             |     ,-\\'\\'-. ,-\\'\\'\\':\\r\\n             |    /      .\\'     :                                _\\r\\n             | .\\\\ |    o  |__o.,\\'                           _.-\\' \\'\\\\\\r\\n            \\'|\\\\| \\\\\\\\simp.txt\\x001505\\x00               _..-...\\r\\n              ,Y+  .:.:\\\\_\\r\\n             | |./\\'     ``-\\\\\\r\\n             |,\\'`           `.\\r\\n             |               `_\\r\\n             |     ,-\\'\\'-. ,-\\'\\'\\':\\r\\n             |    /      .\\'     :                                _\\r\\n             | .\\\\ |    o  |__o.,\\'                           _.-\\' \\'\\\\\\r\\n            \\'|\\\\| \\\\\\\\simp.txt\\x001505\\x00               _..-...\\r\\n              ,Y+  .:.:\\\\_\\r\\n             | |./\\'     ``-\\\\\\r\\n             |,\\'`           `.\\r\\n             |               `_\\r\\n             |     ,-\\'\\'-. ,-\\'\\'\\':\\r\\n             |    /      .\\'     :                                _\\r\\n             | .\\\\ |    o  |__o.,\\'                           _.-\\' \\'\\\\\\r\\n            \\'|\\\\| \\\\\\\\simp.txt\\x001505\\x00               _..-...\\r\\n              ,Y+  .:.:\\\\_\\r\\n             | |./\\'     ``-\\\\\\r\\n             |,\\'`           `.\\r\\n             |               `_\\r\\n             |     ,-\\'\\'-. ,-\\'\\'\\':\\r\\n             |    /      .\\'     :                                _\\r\\n             | .\\\\ |    o  |__o.,\\'                           _.-\\' \\'\\\\\\r\\n            \\'|\\\\| \\\\\\\\simp.txt\\x001505\\x00               _..-...\\r\\n              ,Y+  .:.:\\\\_\\r\\n             | |./\\'     ``-\\\\\\r\\n             |,\\'`           `.\\r\\n             |               `_\\r\\n             |     ,-\\'\\'-. ,-\\'\\'\\':\\r\\n             |    /      .\\'     :                                _\\r\\n             | .\\\\ |    o  |__o.,\\'                           _.-\\' \\'\\\\\\r\\n            \\'|\\\\| \\\\\\\\simp.txt\\x001505\\x00               _..-...\\r\\n              ,Y+  .:.:\\\\_\\r\\n             | |./\\'     ``-\\\\\\r\\n             |,\\'`           `.\\r\\n             |               `_\\r\\n             |     ,-\\'\\'-. ,-\\'\\'\\':\\r\\n             |    /      .\\'     :                                _\\r\\n             | .\\\\ |    o  |__o.,\\'                           _.-\\' \\'\\\\\\r\\n            \\'|\\\\| \\\\\\\\simp.txt\\x001505\\x00               _..-...\\r\\n              ,Y+  .:.:\\\\_\\r\\n             | |./\\'     ``-\\\\\\r\\n             |,\\'`           `.\\r\\n             |               `_\\r\\n             |     ,-\\'\\'-. ,-\\'\\'\\':\\r\\n             |    /      .\\'     :                                _\\r\\n             | .\\\\ |    o  |__o.,\\'                           _.-\\' \\'\\\\\\r\\n            \\'|\\\\| \\\\\\\\simp.txt\\x001505\\x00               _..-...\\r\\n              ,Y+  .:.:\\\\_\\r\\n             | |./\\'     ``-\\\\\\r\\n             |,\\'`           `.\\r\\n             |               `_\\r\\n             |     ,-\\'\\'-. ,-\\'\\'\\':\\r\\n             |    /      .\\'     :                                _\\r\\n             | .\\\\ |    o  |__o.,\\'                           _.-\\' \\'\\\\\\r\\n            \\'|\\\\| \\\\\\\\simp.txt\\x001505\\x00               _..-...\\r\\n              ,Y+  .:.:\\\\_\\r\\n             | |./\\'     ``-\\\\\\r\\n             |,\\'`           `.\\r\\n             |               `_\\r\\n             |     ,-\\'\\'-. ,-\\'\\'\\':\\r\\n             |    /      .\\'     :                                _\\r\\n             | .\\\\ |    o  |__o.,\\'                           _.-\\' \\'\\\\\\r\\n            \\'|\\\\| \\\\\\\\simp.txt\\x001505\\x00               _..-...\\r\\n              ,Y+  .:.:\\\\_\\r\\n             | |./\\'     ``-\\\\\\r\\n             |,\\'`           `.\\r\\n             |               `_\\r\\n             |     ,-\\'\\'-. ,-\\'\\'\\':\\r\\n             |    /      .\\'     :                                _\\r\\n             | .\\\\ |    o  |__o.,\\'                           _.-\\' \\'\\\\\\r\\n            \\'|\\\\| \\\\\\\\simp.txt\\x001505\\x00               _..-...\\r\\n              ,Y+  .:.:\\\\_\\r\\n             | |./\\'     ``-\\\\\\r\\n             |,\\'`           `.\\r\\n             |               `_\\r\\n             |     ,-\\'\\'-. ,-\\'\\'\\':\\r\\n             |    /      .\\'     :                                _\\r\\n             | .\\\\ |    o  |__o.,\\'                           _.-\\' \\'\\\\\\r\\n            \\'|\\\\| \\\\\\\\simp.txt\\x001505\\x00               _..-...\\r\\n              ,Y+  .:.:\\\\_\\r\\n             | |./\\'     ``-\\\\\\r\\n             |,\\'`           `.\\r\\n             |               `_\\r\\n             |     ,-\\'\\'-. ,-\\'\\'\\':\\r\\n             |    /      .\\'     :                                _\\r\\n             | .\\\\ |    o  |__o.,\\'                           _.-\\' \\'\\\\\\r\\n            \\'|\\\\| \\\\\\\\simp.txt\\x001505\\x00               _..-...\\r\\n              ,Y+  .:.:\\\\_\\r\\n             | |./\\'     ``-\\\\\\r\\n             |,\\'`           `.\\r\\n             |               `_\\r\\n             |     ,-\\'\\'-. ,-\\'\\'\\':\\r\\n             |    /      .\\'     :                                _\\r\\n             | .\\\\ |    o  |__o.,\\'                           _.-\\' \\'\\\\\\r\\n            \\'|\\\\| \\\\\\\\simp.txt\\x001505\\x00               _..-...\\r\\n              ,Y+  .:.:\\\\_\\r\\n             | |./\\'     ``-\\\\\\r\\n             |,\\'`           `.\\r\\n             |               `_\\r\\n             |     ,-\\'\\'-. ,-\\'\\'\\':\\r\\n             |    /      .\\'     :                                _\\r\\n             | .\\\\ |    o  |__o.,\\'                           _.-\\' \\'\\\\\\r\\n            \\'|\\\\| \\\\\\\\simp.txt\\x001505\\x00               _..-...\\r\\n              ,Y+  .:.:\\\\_\\r\\n             | |./\\'     ``-\\\\\\r\\n             |,\\'`           `.\\r\\n             |               `_\\r\\n             |     ,-\\'\\'-. ,-\\'\\'\\':\\r\\n             |    /      .\\'     :                                _\\r\\n             | .\\\\ |    o  |__o.,\\'                           _.-\\' \\'\\\\\\r\\n            \\'|\\\\| \\\\\\\\simp.txt\\x001505\\x00               _..-...\\r\\n              ,Y+  .:.:\\\\_\\r\\n             | |./\\'     ``-\\\\\\r\\n             |,\\'`           `.\\r\\n             |               `_\\r\\n             |     ,-\\'\\'-. ,-\\'\\'\\':\\r\\n             |    /      .\\'     :                                _\\r\\n             | .\\\\ |    o  |__o.,\\'                           _.-\\' \\'\\\\\\r\\n            \\'|\\\\| \\\\\\\\simp.txt\\x001505\\x00               _..-...\\r\\n              ,Y+  .:.:\\\\_\\r\\n             | |./\\'     ``-\\\\\\r\\n             |,\\'`           `.\\r\\n             |               `_\\r\\n             |     ,-\\'\\'-. ,-\\'\\'\\':\\r\\n             |    /      .\\'     :                                _\\r\\n             | .\\\\ |    o  |__o.,\\'                           _.-\\' \\'\\\\\\r\\n            \\'|\\\\| \\\\\\\\simp.txt\\x001505\\x00               _..-...\\r\\n              ,Y+  .:.:\\\\_\\r\\n             | |./\\'     ``-\\\\\\r\\n             |,\\'`           `.\\r\\n             |               `_\\r\\n             |     ,-\\'\\'-. ,-\\'\\'\\':\\r\\n             |    /      .\\'     :                                _\\r\\n             | .\\\\ |    o  |__o.,\\'                           _.-\\' \\'\\\\\\r\\n            \\'|\\\\| \\\\\\\\simp.txt\\x001505\\x00               _..-...\\r\\n              ,Y+  .:.:\\\\_\\r\\n             | |./\\'     ``-\\\\\\r\\n             |,\\'`           `.\\r\\n             |               `_\\r\\n             |     ,-\\'\\'-. ,-\\'\\'\\':\\r\\n             |    /      .\\'     :                                _\\r\\n             | .\\\\ |    o  |__o.,\\'                           _.-\\' \\'\\\\\\r\\n            \\'|\\\\| \\\\\\\\simp.txt\\x001505\\x00               _..-...\\r\\n              ,Y+  .:.:\\\\_\\r\\n             | |./\\'     ``-\\\\\\r\\n             |,\\'`           `.\\r\\n             |               `_\\r\\n             |     ,-\\'\\'-. ,-\\'\\'\\':\\r\\n             |    /      .\\'     :                                _\\r\\n             | .\\\\ |    o  |__o.,\\'                           _.-\\' \\'\\\\\\r\\n            \\'|\\\\| \\\\\\\\simp.txt\\x001505\\x00               _..-...\\r\\n              ,Y+  .:.:\\\\_\\r\\n             | |./\\'     ``-\\\\\\r\\n             |,\\'`           `.\\r\\n             |               `_\\r\\n             |     ,-\\'\\'-. ,-\\'\\'\\':\\r\\n             |    /      .\\'     :                                _\\r\\n             | .\\\\ |    o  |__o.,\\'                           _.-\\' \\'\\\\\\r\\n            \\'|\\\\| \\\\\\\\simp.txt\\x001505\\x00               _..-...\\r\\n              ,Y+  .:.:\\\\_\\r\\n             | |./\\'     ``-\\\\\\r\\n             |,\\'`           `.\\r\\n             |               `_\\r\\n             |     ,-\\'\\'-. ,-\\'\\'\\':\\r\\n             |    /      .\\'     :                                _\\r\\n             | .\\\\ |    o  |__o.,\\'                           _.-\\' \\'\\\\\\r\\n            \\'|\\\\| \\\\\\\\simp.txt\\x001505\\x00               _..-...\\r\\n              ,Y+  .:.:\\\\_\\r\\n             | |./\\'     ``-\\\\\\r\\n             |,\\'`           `.\\r\\n             |               `_\\r\\n             |     ,-\\'\\'-. ,-\\'\\'\\':\\r\\n             |    /      .\\'     :                                _\\r\\n             | .\\\\ |    o  |__o.,\\'                           _.-\\' \\'\\\\\\r\\n            \\'|\\\\| \\\\\\\\simp.txt\\x001505\\x00               _..-...\\r\\n              ,Y+  .:.:\\\\_\\r\\n             | |./\\'     ``-\\\\\\r\\n             |,\\'`           `.\\r\\n             |               `_\\r\\n             |     ,-\\'\\'-. ,-\\'\\'\\':\\r\\n             |    /      .\\'     :                                _\\r\\n             | .\\\\ |    o  |__o.,\\'                           _.-\\' \\'\\\\\\r\\n            \\'|\\\\| \\\\\\\\simp.txt\\x001505\\x00               _..-...\\r\\n              ,Y+  .:.:\\\\_\\r\\n             | |./\\'     ``-\\\\\\r\\n             |,\\'`           `.\\r\\n             |               `_\\r\\n             |     ,-\\'\\'-. ,-\\'\\'\\':\\r\\n             |    /      .\\'     :                                _\\r\\n             | .\\\\ |    o  |__o.,\\'                           _.-\\' \\'\\\\\\r\\n            \\'|\\\\| \\\\\\\\simp.txt\\x001505\\x00               _..-...\\r\\n              ,Y+  .:.:\\\\_\\r\\n             | |./\\'     ``-\\\\\\r\\n             |,\\'`           `.\\r\\n             |               `_\\r\\n             |     ,-\\'\\'-. ,-\\'\\'\\':\\r\\n             |    /      .\\'     :                                _\\r\\n             | .\\\\ |    o  |__o.,\\'                           _.-\\' \\'\\\\\\r\\n            \\'|\\\\| \\\\\\\\simp.txt\\x001505\\x00               _..-...\\r\\n              ,Y+  .:.:\\\\_\\r\\n             | |./\\'     ``-\\\\\\r\\n             |,\\'`           `.\\r\\n             |               `_\\r\\n             |     ,-\\'\\'-. ,-\\'\\'\\':\\r\\n             |    /      .\\'     :                                _\\r\\n             | .\\\\ |    o  |__o.,\\'                           _.-\\' \\'\\\\\\r\\n            \\'|\\\\| \\\\\\\\simp.txt\\x001505\\x00               _..-...\\r\\n              ,Y+  .:.:\\\\_\\r\\n             | |./\\'     ``-\\\\\\r\\n             |,\\'`           `.\\r\\n             |               `_\\r\\n             |     ,-\\'\\'-. ,-\\'\\'\\':\\r\\n             |    /      .\\'     :                                _\\r\\n             | .\\\\ |    o  |__o.,\\'                           _.-\\' \\'\\\\\\r\\n            \\'|\\\\| \\\\\\\\simp.txt\\x001505\\x00               _..-...\\r\\n              ,Y+  .:.:\\\\_\\r\\n             | |./\\'     ``-\\\\\\r\\n             |,\\'`           `.\\r\\n             |               `_\\r\\n             |     ,-\\'\\'-. ,-\\'\\'\\':\\r\\n             |    /      .\\'     :                                _\\r\\n             | .\\\\ |    o  |__o.,\\'                           _.-\\' \\'\\\\\\r\\n            \\'|\\\\| \\\\\\\\simp.txt\\x001505\\x00               _..-...\\r\\n              ,Y+  .:.:\\\\_\\r\\n             | |./\\'     ``-\\\\\\r\\n             |,\\'`           `.\\r\\n             |               `_\\r\\n             |     ,-\\'\\'-. ,-\\'\\'\\':\\r\\n             |    /      .\\'     :                                _\\r\\n             | .\\\\ |    o  |__o.,\\'                           _.-\\' \\'\\\\\\r\\n            \\'|\\\\| \\\\\\\\simp.txt\\x001505\\x00               _..-...\\r\\n              ,Y+  .:.:\\\\_\\r\\n             | |./\\'     ``-\\\\\\r\\n             |,\\'`           `.\\r\\n             |               `_\\r\\n             |     ,-\\'\\'-. ,-\\'\\'\\':\\r\\n             |    /      .\\'     :                                _\\r\\n             | .\\\\ |    o  |__o.,\\'                           _.-\\' \\'\\\\\\r\\n            \\'|\\\\| \\\\\\\\simp.txt\\x001505\\x00               _..-...\\r\\n              ,Y+  .:.:\\\\_\\r\\n             | |./\\'     ``-\\\\\\r\\n             |,\\'`           `.\\r\\n             |               `_\\r\\n             |     ,-\\'\\'-. ,-\\'\\'\\':\\r\\n             |    /      .\\'     :                                _\\r\\n             | .\\\\ |    o  |__o.,\\'                           _.-\\' \\'\\\\\\r\\n            \\'|\\\\| \\\\\\\\simp.txt\\x001505\\x00               _..-...\\r\\n              ,Y+  .:.:\\\\_\\r\\n             | |./\\'     ``-\\\\\\r\\n             |,\\'`           `.\\r\\n             |               `_\\r\\n             |     ,-\\'\\'-. ,-\\'\\'\\':\\r\\n             |    /      .\\'     :                                _\\r\\n             | .\\\\ |    o  |__o.,\\'                           _.-\\' \\'\\\\\\r\\n            \\'|\\\\| \\\\\\\\simp.txt\\x001505\\x00               _..-...\\r\\n              ,Y+  .:.:\\\\_\\r\\n             | |./\\'     ``-\\\\\\r\\n             |,\\'`           `.\\r\\n             |               `_\\r\\n             |     ,-\\'\\'-. ,-\\'\\'\\':\\r\\n             |    /      .\\'     :                                _\\r\\n             | .\\\\ |    o  |__o.,\\'                           _.-\\' \\'\\\\\\r\\n            \\'|\\\\| \\\\\\\\simp.txt\\x001505\\x00               _..-...\\r\\n              ,Y+  .:.:\\\\_\\r\\n             | |./\\'     ``-\\\\\\r\\n             |,\\'`           `.\\r\\n             |               `_\\r\\n             |     ,-\\'\\'-. ,-\\'\\'\\':\\r\\n             |    /      .\\'     :                                _\\r\\n             | .\\\\ |    o  |__o.,\\'                           _.-\\' \\'\\\\\\r\\n            \\'|\\\\| \\\\\\\\simp.txt\\x001505\\x00               _..-...\\r\\n              ,Y+  .:.:\\\\_\\r\\n             | |./\\'     ``-\\\\\\r\\n             |,\\'`           `.\\r\\n             |               `_\\r\\n             |     ,-\\'\\'-. ,-\\'\\'\\':\\r\\n             |    /      .\\'     :                                _\\r\\n             | .\\\\ |    o  |__o.,\\'                           _.-\\' \\'\\\\\\r\\n            \\'|\\\\| \\\\\\\\simp.txt\\x001505\\x00               _..-...\\r\\n              ,Y+  .:.:\\\\_\\r\\n             | |./\\'     ``-\\\\\\r\\n             |,\\'`           `.\\r\\n             |               `_\\r\\n             |     ,-\\'\\'-. ,-\\'\\'\\':\\r\\n             |    /      .\\'     :                                _\\r\\n             | .\\\\ |    o  |__o.,\\'                           _.-\\' \\'\\\\\\r\\n            \\'|\\\\| \\\\\\\\simp.txt\\x001505\\x00               _..-...\\r\\n              ,Y+  .:.:\\\\_\\r\\n             | |./\\'     ``-\\\\\\r\\n             |,\\'`           `.\\r\\n             |               `_\\r\\n             |     ,-\\'\\'-. ,-\\'\\'\\':\\r\\n             |    /      .\\'     :                                _\\r\\n             | .\\\\ |    o  |__o.,\\'                           _.-\\' \\'\\\\\\r\\n            \\'|\\\\| \\\\\\\\simp.txt\\x001505\\x00               _..-...\\r\\n              ,Y+  .:.:\\\\_\\r\\n             | |./\\'     ``-\\\\\\r\\n             |,\\'`           `.\\r\\n             |               `_\\r\\n             |     ,-\\'\\'-. ,-\\'\\'\\':\\r\\n             |    /      .\\'     :                                _\\r\\n             | .\\\\ |    o  |__o.,\\'                           _.-\\' \\'\\\\\\r\\n            \\'|\\\\| \\\\\\\\simp.txt\\x001505\\x00               _..-...\\r\\n              ,Y+  .:.:\\\\_\\r\\n             | |./\\'     ``-\\\\\\r\\n             |,\\'`           `.\\r\\n             |               `_\\r\\n             |     ,-\\'\\'-. ,-\\'\\'\\':\\r\\n             |    /      .\\'     :                                _\\r\\n             | .\\\\ |    o  |__o.,\\'                           _.-\\' \\'\\\\\\r\\n            \\'|\\\\| \\\\\\\\simp.txt\\x001505\\x00               _..-...\\r\\n              ,Y+  .:.:\\\\_\\r\\n             | |./\\'     ``-\\\\\\r\\n             |,\\'`           `.\\r\\n             |               `_\\r\\n             |     ,-\\'\\'-. ,-\\'\\'\\':\\r\\n             |    /      .\\'     :                                _\\r\\n             | .\\\\ |    o  |__o.,\\'                           _.-\\' \\'\\\\\\r\\n            \\'|\\\\| \\\\\\\\simp.txt\\x001505\\x00               _..-...\\r\\n              ,Y+  .:.:\\\\_\\r\\n             | |./\\'     ``-\\\\\\r\\n             |,\\'`           `.\\r\\n             |               `_\\r\\n             |     ,-\\'\\'-. ,-\\'\\'\\':\\r\\n             |    /      .\\'     :                                _\\r\\n             | .\\\\ |    o  |__o.,\\'                           _.-\\' \\'\\\\\\r\\n            \\'|\\\\| \\\\\\\\simp.txt\\x001505\\x00               _..-...\\r\\n              ,Y+  .:.:\\\\_\\r\\n             | |./\\'     ``-\\\\\\r\\n             |,\\'`           `.\\r\\n             |               `_\\r\\n             |     ,-\\'\\'-. ,-\\'\\'\\':\\r\\n             |    /      .\\'     :                                _\\r\\n             | .\\\\ |    o  |__o.,\\'                           _.-\\' \\'\\\\\\r\\n            \\'|\\\\| \\\\\\\\simp.txt\\x001505\\x00               _..-...\\r\\n              ,Y+  .:.:\\\\_\\r\\n             | |./\\'     ``-\\\\\\r\\n             |,\\'`           `.\\r\\n             |               `_\\r\\n             |     ,-\\'\\'-. ,-\\'\\'\\':\\r\\n             |    /      .\\'     :                                _\\r\\n             | .\\\\ |    o  |__o.,\\'                           _.-\\' \\'\\\\\\r\\n            \\'|\\\\| \\\\\\\\simp.txt\\x001505\\x00               _..-...\\r\\n              ,Y+  .:.:\\\\_\\r\\n             | |./\\'     ``-\\\\\\r\\n             |,\\'`           `.\\r\\n             |               `_\\r\\n             |     ,-\\'\\'-. ,-\\'\\'\\':\\r\\n             |    /      .\\'     :                                _\\r\\n             | .\\\\ |    o  |__o.,\\'                           _.-\\' \\'\\\\\\r\\n            \\'|\\\\| \\\\\\\\simp.txt\\x001505\\x00               _..-...\\r\\n              ,Y+  .:.:\\\\_\\r\\n             | |./\\'     ``-\\\\\\r\\n             |,\\'`           `.\\r\\n             |               `_\\r\\n             |     ,-\\'\\'-. ,-\\'\\'\\':\\r\\n             |    /      .\\'     :                                _\\r\\n             | .\\\\ |    o  |__o.,\\'                           _.-\\' \\'\\\\\\r\\n            \\'|\\\\| \\\\\\\\simp.txt\\x001505\\x00               _..-...\\r\\n              ,Y+  .:.:\\\\_\\r\\n             | |./\\'     ``-\\\\\\r\\n             |,\\'`           `.\\r\\n             |               `_\\r\\n             |     ,-\\'\\'-. ,-\\'\\'\\':\\r\\n             |    /      .\\'     :                                _\\r\\n             | .\\\\ |    o  |__o.,\\'                           _.-\\' \\'\\\\\\r\\n            \\'|\\\\| \\\\\\\\simp.txt\\x001505\\x00               _..-...\\r\\n              ,Y+  .:.:\\\\_\\r\\n             | |./\\'     ``-\\\\\\r\\n             |,\\'`           `.\\r\\n             |               `_\\r\\n             |     ,-\\'\\'-. ,-\\'\\'\\':\\r\\n             |    /      .\\'     :                                _\\r\\n             | .\\\\ |    o  |__o.,\\'                           _.-\\' \\'\\\\\\r\\n            \\'|\\\\| \\\\\\\\simp.txt\\x001505\\x00               _..-...\\r\\n              ,Y+  .:.:\\\\_\\r\\n             | |./\\'     ``-\\\\\\r\\n             |,\\'`           `.\\r\\n             |               `_\\r\\n             |     ,-\\'\\'-. ,-\\'\\'\\':\\r\\n             |    /      .\\'     :                                _\\r\\n             | .\\\\ |    o  |__o.,\\'                           _.-\\' \\'\\\\\\r\\n            \\'|\\\\| \\\\\\\\simp.txt\\x001505\\x00               _..-...\\r\\n              ,Y+  .:.:\\\\_\\r\\n             | |./\\'     ``-\\\\\\r\\n             |,\\'`           `.\\r\\n             |               `_\\r\\n             |     ,-\\'\\'-. ,-\\'\\'\\':\\r\\n             |    /      .\\'     :                                _\\r\\n             | .\\\\ |    o  |__o.,\\'                           _.-\\' \\'\\\\\\r\\n            \\'|\\\\| \\\\\\\\simp.txt\\x001505\\x00               _..-...\\r\\n              ,Y+  .:.:\\\\_\\r\\n             | |./\\'     ``-\\\\\\r\\n             |,\\'`           `.\\r\\n             |               `_\\r\\n             |     ,-\\'\\'-. ,-\\'\\'\\':\\r\\n             |    /      .\\'     :                                _\\r\\n             | .\\\\ |    o  |__o.,\\'                           _.-\\' \\'\\\\\\r\\n            \\'|\\\\| \\\\\\\\simp.txt\\x001505\\x00               _..-...\\r\\n              ,Y+  .:.:\\\\_\\r\\n             | |./\\'     ``-\\\\\\r\\n             |,\\'`           `.\\r\\n             |               `_\\r\\n             |     ,-\\'\\'-. ,-\\'\\'\\':\\r\\n             |    /      .\\'     :                                _\\r\\n             | .\\\\ |    o  |__o.,\\'                           _.-\\' \\'\\\\\\r\\n            \\'|\\\\| \\\\\\\\simp.txt\\x001505\\x00               _..-...\\r\\n              ,Y+  .:.:\\\\_\\r\\n             | |./\\'     ``-\\\\\\r\\n             |,\\'`           `.\\r\\n             |               `_\\r\\n             |     ,-\\'\\'-. ,-\\'\\'\\':\\r\\n             |    /      .\\'     :                                _\\r\\n             | .\\\\ |    o  |__o.,\\'                           _.-\\' \\'\\\\\\r\\n            \\'|\\\\| \\\\\\\\simp.txt\\x001505\\x00               _..-...\\r\\n              ,Y+  .:.:\\\\_\\r\\n             | |./\\'     ``-\\\\\\r\\n             |,\\'`           `.\\r\\n             |               `_\\r\\n             |     ,-\\'\\'-. ,-\\'\\'\\':\\r\\n             |    /      .\\'     :                                _\\r\\n             | .\\\\ |    o  |__o.,\\'                           _.-\\' \\'\\\\\\r\\n            \\'|\\\\| \\\\\\\\simp.txt\\x001505\\x00               _..-...\\r\\n              ,Y+  .:.:\\\\_\\r\\n             | |./\\'     ``-\\\\\\r\\n             |,\\'`           `.\\r\\n             |               `_\\r\\n             |     ,-\\'\\'-. ,-\\'\\'\\':\\r\\n             |    /      .\\'     :                                _\\r\\n             | .\\\\ |    o  |__o.,\\'                           _.-\\' \\'\\\\\\r\\n            \\'|\\\\| \\\\\\\\simp.txt\\x001505\\x00               _..-...\\r\\n              ,Y+  .:.:\\\\_\\r\\n             | |./\\'     ``-\\\\\\r\\n             |,\\'`           `.\\r\\n             |               `_\\r\\n             |     ,-\\'\\'-. ,-\\'\\'\\':\\r\\n             |    /      .\\'     :                                _\\r\\n             | .\\\\ |    o  |__o.,\\'                           _.-\\' \\'\\\\\\r\\n            \\'|\\\\| \\\\\\\\simp.txt\\x001505\\x00               _..-...\\r\\n              ,Y+  .:.:\\\\_\\r\\n             | |./\\'     ``-\\\\\\r\\n             |,\\'`           `.\\r\\n             |               `_\\r\\n             |     ,-\\'\\'-. ,-\\'\\'\\':\\r\\n             |    /      .\\'     :                                _\\r\\n             | .\\\\ |    o  |__o.,\\'                           _.-\\' \\'\\\\\\r\\n            \\'|\\\\| \\\\\\\\simp.txt\\x001505\\x00               _..-...\\r\\n              ,Y+  .:.:\\\\_\\r\\n             | |./\\'     ``-\\\\\\r\\n             |,\\'`           `.\\r\\n             |               `_\\r\\n             |     ,-\\'\\'-. ,-\\'\\'\\':\\r\\n             |    /      .\\'     :                                _\\r\\n             | .\\\\ |    o  |__o.,\\'                           _.-\\' \\'\\\\\\r\\n            \\'|\\\\| \\\\\\\\simp.txt\\x001505\\x00               _..-...\\r\\n              ,Y+  .:.:\\\\_\\r\\n             | |./\\'     ``-\\\\\\r\\n             |,\\'`           `.\\r\\n             |               `_\\r\\n             |     ,-\\'\\'-. ,-\\'\\'\\':\\r\\n             |    /      .\\'     :                                _\\r\\n             | .\\\\ |    o  |__o.,\\'                           _.-\\' \\'\\\\\\r\\n            \\'|\\\\| \\\\\\\\simp.txt\\x001505\\x00               _..-...\\r\\n              ,Y+  .:.:\\\\_\\r\\n             | |./\\'     ``-\\\\\\r\\n             |,\\'`           `.\\r\\n             |               `_\\r\\n             |     ,-\\'\\'-. ,-\\'\\'\\':\\r\\n             |    /      .\\'     :                                _\\r\\n             | .\\\\ |    o  |__o.,\\'                           _.-\\' \\'\\\\\\r\\n            \\'|\\\\| \\\\\\\\simp.txt\\x001505\\x00               _..-...\\r\\n              ,Y+  .:.:\\\\_\\r\\n             | |./\\'     ``-\\\\\\r\\n             |,\\'`           `.\\r\\n             |               `_\\r\\n             |     ,-\\'\\'-. ,-\\'\\'\\':\\r\\n             |    /      .\\'     :                                _\\r\\n             | .\\\\ |    o  |__o.,\\'                           _.-\\' \\'\\\\\\r\\n            \\'|\\\\| \\\\\\\\simp.txt\\x001505\\x00               _..-...\\r\\n              ,Y+  .:.:\\\\_\\r\\n             | |./\\'     ``-\\\\\\r\\n             |,\\'`           `.\\r\\n             |               `_\\r\\n             |     ,-\\'\\'-. ,-\\'\\'\\':\\r\\n             |    /      .\\'     :                                _\\r\\n             | .\\\\ |    o  |__o.,\\'                           _.-\\' \\'\\\\\\r\\n            \\'|\\\\| \\\\\\\\simp.txt\\x001505\\x00               _..-...\\r\\n              ,Y+  .:.:\\\\_\\r\\n             | |./\\'     ``-\\\\\\r\\n             |,\\'`           `.\\r\\n             |               `_\\r\\n             |     ,-\\'\\'-. ,-\\'\\'\\':\\r\\n             |    /      .\\'     :                                _\\r\\n             | .\\\\ |    o  |__o.,\\'                           _.-\\' \\'\\\\\\r\\n            \\'|\\\\| \\\\\\\\simp.txt\\x001505\\x00               _..-...\\r\\n              ,Y+  .:.:\\\\_\\r\\n             | |./\\'     ``-\\\\\\r\\n             |,\\'`           `.\\r\\n             |               `_\\r\\n             |     ,-\\'\\'-. ,-\\'\\'\\':\\r\\n             |    /      .\\'     :                                _\\r\\n             | .\\\\ |    o  |__o.,\\'                           _.-\\' \\'\\\\\\r\\n            \\'|\\\\| \\\\\\\\simp.txt\\x001505\\x00               _..-...\\r\\n              ,Y+  .:.:\\\\_\\r\\n             | |./\\'     ``-\\\\\\r\\n             |,\\'`           `.\\r\\n             |               `_\\r\\n             |     ,-\\'\\'-. ,-\\'\\'\\':\\r\\n             |    /      .\\'     :                                _\\r\\n             | .\\\\ |    o  |__o.,\\'                           _.-\\' \\'\\\\\\r\\n            \\'|\\\\| \\\\\\\\simp.txt\\x001505\\x00               _..-...\\r\\n              ,Y+  .:.:\\\\_\\r\\n             | |./\\'     ``-\\\\\\r\\n             |,\\'`           `.\\r\\n             |               `_\\r\\n             |     ,-\\'\\'-. ,-\\'\\'\\':\\r\\n             |    /      .\\'     :                                _\\r\\n             | .\\\\ |    o  |__o.,\\'                           _.-\\' \\'\\\\\\r\\n            \\'|\\\\| \\\\\\\\simp.txt\\x001505\\x00               _..-...\\r\\n              ,Y+  .:.:\\\\_\\r\\n             | |./\\'     ``-\\\\\\r\\n             |,\\'`           `.\\r\\n             |               `_\\r\\n             |     ,-\\'\\'-. ,-\\'\\'\\':\\r\\n             |    /      .\\'     :                                _\\r\\n             | .\\\\ |    o  |__o.,\\'                           _.-\\' \\'\\\\\\r\\n            \\'|\\\\| \\\\\\\\simp.txt\\x001505\\x00               _..-...\\r\\n              ,Y+  .:.:\\\\_\\r\\n             | |./\\'     ``-\\\\\\r\\n             |,\\'`           `.\\r\\n             |               `_\\r\\n             |     ,-\\'\\'-. ,-\\'\\'\\':\\r\\n             |    /      .\\'     :                                _\\r\\n             | .\\\\ |    o  |__o.,\\'                           _.-\\' \\'\\\\\\r\\n            \\'|\\\\| \\\\\\\\simp.txt\\x001505\\x00               _..-...\\r\\n              ,Y+  .:.:\\\\_\\r\\n             | |./\\'     ``-\\\\\\r\\n             |,\\'`           `.\\r\\n             |               `_\\r\\n             |     ,-\\'\\'-. ,-\\'\\'\\':\\r\\n             |    /      .\\'     :                                _\\r\\n             | .\\\\ |    o  |__o.,\\'                           _.-\\' \\'\\\\\\r\\n            \\'|\\\\| \\\\\\\\simp.txt\\x001505\\x00               _..-...\\r\\n              ,Y+  .:.:\\\\_\\r\\n             | |./\\'     ``-\\\\\\r\\n             |,\\'`           `.\\r\\n             |               `_\\r\\n             |     ,-\\'\\'-. ,-\\'\\'\\':\\r\\n             |    /      .\\'     :                                _\\r\\n             | .\\\\ |    o  |__o.,\\'                           _.-\\' \\'\\\\\\r\\n            \\'|\\\\| \\\\\\\\simp.txt\\x001505\\x00               _..-...\\r\\n              ,Y+  .:.:\\\\_\\r\\n             | |./\\'     ``-\\\\\\r\\n             |,\\'`           `.\\r\\n             |               `_\\r\\n             |     ,-\\'\\'-. ,-\\'\\'\\':\\r\\n             |    /      .\\'     :                                _\\r\\n             | .\\\\ |    o  |__o.,\\'                           _.-\\' \\'\\\\\\r\\n            \\'|\\\\| \\\\\\\\simp.txt\\x001505\\x00               _..-...\\r\\n              ,Y+  .:.:\\\\_\\r\\n             | |./\\'     ``-\\\\\\r\\n             |,\\'`           `.\\r\\n             |               `_\\r\\n             |     ,-\\'\\'-. ,-\\'\\'\\':\\r\\n             |    /      .\\'     :                                _\\r\\n             | .\\\\ |    o  |__o.,\\'                           _.-\\' \\'\\\\\\r\\n            \\'|\\\\| \\\\\\\\simp.txt\\x001505\\x00               _..-...\\r\\n              ,Y+  .:.:\\\\_\\r\\n             | |./\\'     ``-\\\\\\r\\n             |,\\'`           `.\\r\\n             |               `_\\r\\n             |     ,-\\'\\'-. ,-\\'\\'\\':\\r\\n             |    /      .\\'     :                                _\\r\\n             | .\\\\ |    o  |__o.,\\'                           _.-\\' \\'\\\\\\r\\n            \\'|\\\\| \\\\\\\\simp.txt\\x001505\\x00               _..-...\\r\\n              ,Y+  .:.:\\\\_\\r\\n             | |./\\'     ``-\\\\\\r\\n             |,\\'`           `.\\r\\n             |               `_\\r\\n             |     ,-\\'\\'-. ,-\\'\\'\\':\\r\\n             |    /      .\\'     :                                _\\r\\n             | .\\\\ |    o  |__o.,\\'                           _.-\\' \\'\\\\\\r\\n            \\'|\\\\| \\\\\\\\simp.txt\\x001505\\x00               _..-...\\r\\n              ,Y+  .:.:\\\\_\\r\\n             | |./\\'     ``-\\\\\\r\\n             |,\\'`           `.\\r\\n             |               `_\\r\\n             |     ,-\\'\\'-. ,-\\'\\'\\':\\r\\n             |    /      .\\'     :                                _\\r\\n             | .\\\\ |    o  |__o.,\\'                           _.-\\' \\'\\\\\\r\\n            \\'|\\\\| \\\\\\\\simp.txt\\x001505\\x00               _..-...\\r\\n              ,Y+  .:.:\\\\_\\r\\n             | |./\\'     ``-\\\\\\r\\n             |,\\'`           `.\\r\\n             |               `_\\r\\n             |     ,-\\'\\'-. ,-\\'\\'\\':\\r\\n             |    /      .\\'     :                                _\\r\\n             | .\\\\ |    o  |__o.,\\'                           _.-\\' \\'\\\\\\r\\n            \\'|\\\\| \\\\\\\\simp.txt\\x001505\\x00               _..-...\\r\\n              ,Y+  .:.:\\\\_\\r\\n             | |./\\'     ``-\\\\\\r\\n             |,\\'`           `.\\r\\n             |               `_\\r\\n             |     ,-\\'\\'-. ,-\\'\\'\\':\\r\\n             |    /      .\\'     :                                _\\r\\n             | .\\\\ |    o  |__o.,\\'                           _.-\\' \\'\\\\\\r\\n            \\'|\\\\| \\\\\\\\simp.txt\\x001505\\x00               _..-...\\r\\n              ,Y+  .:.:\\\\_\\r\\n             | |./\\'     ``-\\\\\\r\\n             |,\\'`           `.\\r\\n             |               `_\\r\\n             |     ,-\\'\\'-. ,-\\'\\'\\':\\r\\n             |    /      .\\'     :                                _\\r\\n             | .\\\\ |    o  |__o.,\\'                           _.-\\' \\'\\\\\\r\\n            \\'|\\\\| \\\\\\\\simp.txt\\x001505\\x00               _..-...\\r\\n              ,Y+  .:.:\\\\_\\r\\n             | |./\\'     ``-\\\\\\r\\n             |,\\'`           `.\\r\\n             |               `_\\r\\n             |     ,-\\'\\'-. ,-\\'\\'\\':\\r\\n             |    /      .\\'     :                                _\\r\\n             | .\\\\ |    o  |__o.,\\'                           _.-\\' \\'\\\\\\r\\n            \\'|\\\\| \\\\\\\\simp.txt\\x001505\\x00               _..-...\\r\\n              ,Y+  .:.:\\\\_\\r\\n             | |./\\'     ``-\\\\\\r\\n             |,\\'`           `.\\r\\n             |               `_\\r\\n             |     ,-\\'\\'-. ,-\\'\\'\\':\\r\\n             |    /      .\\'     :                                _\\r\\n             | .\\\\ |    o  |__o.,\\'                           _.-\\' \\'\\\\\\r\\n            \\'|\\\\| \\\\\\\\simp.txt\\x001505\\x00               _..-...\\r\\n              ,Y+  .:.:\\\\_\\r\\n             | |./\\'     ``-\\\\\\r\\n             |,\\'`           `.\\r\\n             |               `_\\r\\n             |     ,-\\'\\'-. ,-\\'\\'\\':\\r\\n             |    /      .\\'     :                                _\\r\\n             | .\\\\ |    o  |__o.,\\'                           _.-\\' \\'\\\\\\r\\n            \\'|\\\\| \\\\\\\\simp.txt\\x001505\\x00               _..-...\\r\\n              ,Y+  .:.:\\\\_\\r\\n             | |./\\'     ``-\\\\\\r\\n             |,\\'`           `.\\r\\n             |               `_\\r\\n             |     ,-\\'\\'-. ,-\\'\\'\\':\\r\\n             |    /      .\\'     :                                _\\r\\n             | .\\\\ |    o  |__o.,\\'                           _.-\\' \\'\\\\\\r\\n            \\'|\\\\| \\\\\\\\simp.txt\\x001505\\x00               _..-...\\r\\n              ,Y+  .:.:\\\\_\\r\\n             | |./\\'     ``-\\\\\\r\\n             |,\\'`           `.\\r\\n             |               `_\\r\\n             |     ,-\\'\\'-. ,-\\'\\'\\':\\r\\n             |    /      .\\'     :                                _\\r\\n             | .\\\\ |    o  |__o.,\\'                           _.-\\' \\'\\\\\\r\\n            \\'|\\\\| \\\\\\\\simp.txt\\x001505\\x00               _..-...\\r\\n              ,Y+  .:.:\\\\_\\r\\n             | |./\\'     ``-\\\\\\r\\n             |,\\'`           `.\\r\\n             |               `_\\r\\n             |     ,-\\'\\'-. ,-\\'\\'\\':\\r\\n             |    /      .\\'     :                                _\\r\\n             | .\\\\ |    o  |__o.,\\'                           _.-\\' \\'\\\\\\r\\n            \\'|\\\\| \\\\\\\\simp.txt\\x001505\\x00               _..-...\\r\\n              ,Y+  .:.:\\\\_\\r\\n             | |./\\'     ``-\\\\\\r\\n             |,\\'`           `.\\r\\n             |               `_\\r\\n             |     ,-\\'\\'-. ,-\\'\\'\\':\\r\\n             |    /      .\\'     :                                _\\r\\n             | .\\\\ |    o  |__o.,\\'                           _.-\\' \\'\\\\\\r\\n            \\'|\\\\| \\\\\\\\simp.txt\\x001505\\x00               _..-...\\r\\n              ,Y+  .:.:\\\\_\\r\\n             | |./\\'     ``-\\\\\\r\\n             |,\\'`           `.\\r\\n             |               `_\\r\\n             |     ,-\\'\\'-. ,-\\'\\'\\':\\r\\n             |    /      .\\'     :                                _\\r\\n             | .\\\\ |    o  |__o.,\\'                           _.-\\' \\'\\\\\\r\\n            \\'|\\\\| \\\\\\\\simp.txt\\x001505\\x00               _..-...\\r\\n              ,Y+  .:.:\\\\_\\r\\n             | |./\\'     ``-\\\\\\r\\n             |,\\'`           `.\\r\\n             |               `_\\r\\n             |     ,-\\'\\'-. ,-\\'\\'\\':\\r\\n             |    /      .\\'     :                                _\\r\\n             | .\\\\ |    o  |__o.,\\'                           _.-\\' \\'\\\\\\r\\n            \\'|\\\\| \\\\\\\\simp.txt\\x001505\\x00               _..-...\\r\\n              ,Y+  .:.:\\\\_\\r\\n             | |./\\'     ``-\\\\\\r\\n             |,\\'`           `.\\r\\n             |               `_\\r\\n             |     ,-\\'\\'-. ,-\\'\\'\\':\\r\\n             |    /      .\\'     :                                _\\r\\n             | .\\\\ |    o  |__o.,\\'                           _.-\\' \\'\\\\\\r\\n            \\'|\\\\| \\\\\\\\simp.txt\\x001505\\x00               _..-...\\r\\n              ,Y+  .:.:\\\\_\\r\\n             | |./\\'     ``-\\\\\\r\\n             |,\\'`           `.\\r\\n             |               `_\\r\\n             |     ,-\\'\\'-. ,-\\'\\'\\':\\r\\n             |    /      .\\'     :                                _\\r\\n             | .\\\\ |    o  |__o.,\\'                           _.-\\' \\'\\\\\\r\\n            \\'|\\\\| \\\\\\\\simp.txt\\x001505\\x00               _..-...\\r\\n              ,Y+  .:.:\\\\_\\r\\n             | |./\\'     ``-\\\\\\r\\n             |,\\'`           `.\\r\\n             |               `_\\r\\n             |     ,-\\'\\'-. ,-\\'\\'\\':\\r\\n             |    /      .\\'     :                                _\\r\\n             | .\\\\ |    o  |__o.,\\'                           _.-\\' \\'\\\\\\r\\n            \\'|\\\\| \\\\\\\\simp.txt\\x001505\\x00               _..-...\\r\\n              ,Y+  .:.:\\\\_\\r\\n             | |./\\'     ``-\\\\\\r\\n             |,\\'`           `.\\r\\n             |               `_\\r\\n             |     ,-\\'\\'-. ,-\\'\\'\\':\\r\\n             |    /      .\\'     :                                _\\r\\n             | .\\\\ |    o  |__o.,\\'                           _.-\\' \\'\\\\\\r\\n            \\'|\\\\| \\\\\\\\simp.txt\\x001505\\x00               _..-...\\r\\n              ,Y+  .:.:\\\\_\\r\\n             | |./\\'     ``-\\\\\\r\\n             |,\\'`           `.\\r\\n             |               `_\\r\\n             |     ,-\\'\\'-. ,-\\'\\'\\':\\r\\n             |    /      .\\'     :                                _\\r\\n             | .\\\\ |    o  |__o.,\\'                           _.-\\' \\'\\\\\\r\\n            \\'|\\\\| \\\\\\\\simp.txt\\x001505\\x00               _..-...\\r\\n              ,Y+  .:.:\\\\_\\r\\n             | |./\\'     ``-\\\\\\r\\n             |,\\'`           `.\\r\\n             |               `_\\r\\n             |     ,-\\'\\'-. ,-\\'\\'\\':\\r\\n             |    /      .\\'     :                                _\\r\\n             | .\\\\ |    o  |__o.,\\'                           _.-\\' \\'\\\\\\r\\n            \\'|\\\\| \\\\\\\\simp.txt\\x001505\\x00               _..-...\\r\\n              ,Y+  .:.:\\\\_\\r\\n             | |./\\'     ``-\\\\\\r\\n             |,\\'`           `.\\r\\n             |               `_\\r\\n             |     ,-\\'\\'-. ,-\\'\\'\\':\\r\\n             |    /      .\\'     :                                _\\r\\n             | .\\\\ |    o  |__o.,\\'                           _.-\\' \\'\\\\\\r\\n            \\'|\\\\| \\\\\\\\simp.txt\\x001505\\x00               _..-...\\r\\n              ,Y+  .:.:\\\\_\\r\\n             | |./\\'     ``-\\\\\\r\\n             |,\\'`           `.\\r\\n             |               `_\\r\\n             |     ,-\\'\\'-. ,-\\'\\'\\':\\r\\n             |    /      .\\'     :                                _\\r\\n             | .\\\\ |    o  |__o.,\\'                           _.-\\' \\'\\\\\\r\\n            \\'|\\\\| \\\\\\\\simp.txt\\x001505\\x00               _..-...\\r\\n              ,Y+  .:.:\\\\_\\r\\n             | |./\\'     ``-\\\\\\r\\n             |,\\'`           `.\\r\\n             |               `_\\r\\n             |     ,-\\'\\'-. ,-\\'\\'\\':\\r\\n             |    /      .\\'     :                                _\\r\\n             | .\\\\ |    o  |__o.,\\'                           _.-\\' \\'\\\\\\r\\n            \\'|\\\\| \\\\\\\\simp.txt\\x001505\\x00               _..-...\\r\\n              ,Y+  .:.:\\\\_\\r\\n             | |./\\'     ``-\\\\\\r\\n             |,\\'`           `.\\r\\n             |               `_\\r\\n             |     ,-\\'\\'-. ,-\\'\\'\\':\\r\\n             |    /      .\\'     :                                _\\r\\n             | .\\\\ |    o  |__o.,\\'                           _.-\\' \\'\\\\\\r\\n            \\'|\\\\| \\\\\\\\simp.txt\\x001505\\x00               _..-...\\r\\n              ,Y+  .:.:\\\\_\\r\\n             | |./\\'     ``-\\\\\\r\\n             |,\\'`           `.\\r\\n             |               `_\\r\\n             |     ,-\\'\\'-. ,-\\'\\'\\':\\r\\n             |    /      .\\'     :                                _\\r\\n             | .\\\\ |    o  |__o.,\\'                           _.-\\' \\'\\\\\\r\\n            \\'|\\\\| \\\\\\\\simp.txt\\x001505\\x00               _..-...\\r\\n              ,Y+  .:.:\\\\_\\r\\n             | |./\\'     ``-\\\\\\r\\n             |,\\'`           `.\\r\\n             |               `_\\r\\n             |     ,-\\'\\'-. ,-\\'\\'\\':\\r\\n             |    /      .\\'     :                                _\\r\\n             | .\\\\ |    o  |__o.,\\'                           _.-\\' \\'\\\\\\r\\n            \\'|\\\\| \\\\\\\\simp.txt\\x001505\\x00               _..-...\\r\\n              ,Y+  .:.:\\\\_\\r\\n             | |./\\'     ``-\\\\\\r\\n             |,\\'`           `.\\r\\n             |               `_\\r\\n             |     ,-\\'\\'-. ,-\\'\\'\\':\\r\\n             |    /      .\\'     :                                _\\r\\n             | .\\\\ |    o  |__o.,\\'                           _.-\\' \\'\\\\\\r\\n            \\'|\\\\| \\\\\\\\simp.txt\\x001505\\x00               _..-...\\r\\n              ,Y+  .:.:\\\\_\\r\\n             | |./\\'     ``-\\\\\\r\\n             |,\\'`           `.\\r\\n             |               `_\\r\\n             |     ,-\\'\\'-. ,-\\'\\'\\':\\r\\n             |    /      .\\'     :                                _\\r\\n             | .\\\\ |    o  |__o.,\\'                           _.-\\' \\'\\\\\\r\\n            \\'|\\\\| \\\\\\\\simp.txt\\x001505\\x00               _..-...\\r\\n              ,Y+  .:.:\\\\_\\r\\n             | |./\\'     ``-\\\\\\r\\n             |,\\'`           `.\\r\\n             |               `_\\r\\n             |     ,-\\'\\'-. ,-\\'\\'\\':\\r\\n             |    /      .\\'     :                                _\\r\\n             | .\\\\ |    o  |__o.,\\'                           _.-\\' \\'\\\\\\r\\n            \\'|\\\\| \\\\\\\\simp.txt\\x001505\\x00               _..-...\\r\\n              ,Y+  .:.:\\\\_\\r\\n             | |./\\'     ``-\\\\\\r\\n             |,\\'`           `.\\r\\n             |               `_\\r\\n             |     ,-\\'\\'-. ,-\\'\\'\\':\\r\\n             |    /      .\\'     :                                _\\r\\n             | .\\\\ |    o  |__o.,\\'                           _.-\\' \\'\\\\\\r\\n            \\'|\\\\| \\\\\\\\simp.txt\\x001505\\x00               _..-...\\r\\n              ,Y+  .:.:\\\\_\\r\\n             | |./\\'     ``-\\\\\\r\\n             |,\\'`           `.\\r\\n             |               `_\\r\\n             |     ,-\\'\\'-. ,-\\'\\'\\':\\r\\n             |    /      .\\'     :                                _\\r\\n             | .\\\\ |    o  |__o.,\\'                           _.-\\' \\'\\\\\\r\\n            \\'|\\\\| \\\\\\\\simp.txt\\x001505\\x00               _..-...\\r\\n              ,Y+  .:.:\\\\_\\r\\n             | |./\\'     ``-\\\\\\r\\n             |,\\'`           `.\\r\\n             |               `_\\r\\n             |     ,-\\'\\'-. ,-\\'\\'\\':\\r\\n             |    /      .\\'     :                                _\\r\\n             | .\\\\ |    o  |__o.,\\'                           _.-\\' \\'\\\\\\r\\n            \\'|\\\\| \\\\\\\\simp.txt\\x001505\\x00               _..-...\\r\\n              ,Y+  .:.:\\\\_\\r\\n             | |./\\'     ``-\\\\\\r\\n             |,\\'`           `.\\r\\n             |               `_\\r\\n             |     ,-\\'\\'-. ,-\\'\\'\\':\\r\\n             |    /      .\\'     :                                _\\r\\n             | .\\\\ |    o  |__o.,\\'                           _.-\\' \\'\\\\\\r\\n            \\'|\\\\| \\\\\\\\simp.txt\\x001505\\x00               _..-...\\r\\n              ,Y+  .:.:\\\\_\\r\\n             | |./\\'     ``-\\\\\\r\\n             |,\\'`           `.\\r\\n             |               `_\\r\\n             |     ,-\\'\\'-. ,-\\'\\'\\':\\r\\n             |    /      .\\'     :                                _\\r\\n             | .\\\\ |    o  |__o.,\\'                           _.-\\' \\'\\\\\\r\\n            \\'|\\\\| \\\\\\\\simp.txt\\x001505\\x00               _..-...\\r\\n              ,Y+  .:.:\\\\_\\r\\n             | |./\\'     ``-\\\\\\r\\n             |,\\'`           `.\\r\\n             |               `_\\r\\n             |     ,-\\'\\'-. ,-\\'\\'\\':\\r\\n             |    /      .\\'     :                                _\\r\\n             | .\\\\ |    o  |__o.,\\'                           _.-\\' \\'\\\\\\r\\n            \\'|\\\\| \\\\\\\\simp.txt\\x001505\\x00               _..-...\\r\\n              ,Y+  .:.:\\\\_\\r\\n             | |./\\'     ``-\\\\\\r\\n             |,\\'`           `.\\r\\n             |               `_\\r\\n             |     ,-\\'\\'-. ,-\\'\\'\\':\\r\\n             |    /      .\\'     :                                _\\r\\n             | .\\\\ |    o  |__o.,\\'                           _.-\\' \\'\\\\\\r\\n            \\'|\\\\| \\\\\\\\simp.txt\\x001505\\x00               _..-...\\r\\n              ,Y+  .:.:\\\\_\\r\\n             | |./\\'     ``-\\\\\\r\\n             |,\\'`           `.\\r\\n             |               `_\\r\\n             |     ,-\\'\\'-. ,-\\'\\'\\':\\r\\n             |    /      .\\'     :                                _\\r\\n             | .\\\\ |    o  |__o.,\\'                           _.-\\' \\'\\\\\\r\\n            \\'|\\\\| \\\\\\\\simp.txt\\x001505\\x00               _..-...\\r\\n              ,Y+  .:.:\\\\_\\r\\n             | |./\\'     ``-\\\\\\r\\n             |,\\'`           `.\\r\\n             |               `_\\r\\n             |     ,-\\'\\'-. ,-\\'\\'\\':\\r\\n             |    /      .\\'     :                                _\\r\\n             | .\\\\ |    o  |__o.,\\'                           _.-\\' \\'\\\\\\r\\n            \\'|\\\\| \\\\\\\\simp.txt\\x001505\\x00               _..-...\\r\\n              ,Y+  .:.:\\\\_\\r\\n             | |./\\'     ``-\\\\\\r\\n             |,\\'`           `.\\r\\n             |               `_\\r\\n             |     ,-\\'\\'-. ,-\\'\\'\\':\\r\\n             |    /      .\\'     :                                _\\r\\n             | .\\\\ |    o  |__o.,\\'                           _.-\\' \\'\\\\\\r\\n            \\'|\\\\| \\\\\\\\simp.txt\\x001505\\x00               _..-...\\r\\n              ,Y+  .:.:\\\\_\\r\\n             | |./\\'     ``-\\\\\\r\\n             |,\\'`           `.\\r\\n             |               `_\\r\\n             |     ,-\\'\\'-. ,-\\'\\'\\':\\r\\n             |    /      .\\'     :                                _\\r\\n             | .\\\\ |    o  |__o.,\\'                           _.-\\' \\'\\\\\\r\\n            \\'|\\\\| \\\\\\\\simp.txt\\x001505\\x00               _..-...\\r\\n              ,Y+  .:.:\\\\_\\r\\n             | |./\\'     ``-\\\\\\r\\n             |,\\'`           `.\\r\\n             |               `_\\r\\n             |     ,-\\'\\'-. ,-\\'\\'\\':\\r\\n             |    /      .\\'     :                                _\\r\\n             | .\\\\ |    o  |__o.,\\'                           _.-\\' \\'\\\\\\r\\n            \\'|\\\\| \\\\\\\\simp.txt\\x001505\\x00               _..-...\\r\\n              ,Y+  .:.:\\\\_\\r\\n             | |./\\'     ``-\\\\\\r\\n             |,\\'`           `.\\r\\n             |               `_\\r\\n             |     ,-\\'\\'-. ,-\\'\\'\\':\\r\\n             |    /      .\\'     :                                _\\r\\n             | .\\\\ |    o  |__o.,\\'                           _.-\\' \\'\\\\\\r\\n            \\'|\\\\| \\\\\\\\simp.txt\\x001505\\x00               _..-...\\r\\n              ,Y+  .:.:\\\\_\\r\\n             | |./\\'     ``-\\\\\\r\\n             |,\\'`           `.\\r\\n             |               `_\\r\\n             |     ,-\\'\\'-. ,-\\'\\'\\':\\r\\n             |    /      .\\'     :                                _\\r\\n             | .\\\\ |    o  |__o.,\\'                           _.-\\' \\'\\\\\\r\\n            \\'|\\\\| \\\\\\\\simp.txt\\x001505\\x00               _..-...\\r\\n              ,Y+  .:.:\\\\_\\r\\n             | |./\\'     ``-\\\\\\r\\n             |,\\'`           `.\\r\\n             |               `_\\r\\n             |     ,-\\'\\'-. ,-\\'\\'\\':\\r\\n             |    /      .\\'     :                                _\\r\\n             | .\\\\ |    o  |__o.,\\'                           _.-\\' \\'\\\\\\r\\n            \\'|\\\\| \\\\\\\\simp.txt\\x001505\\x00               _..-...\\r\\n              ,Y+  .:.:\\\\_\\r\\n             | |./\\'     ``-\\\\\\r\\n             |,\\'`           `.\\r\\n             |               `_\\r\\n             |     ,-\\'\\'-. ,-\\'\\'\\':\\r\\n             |    /      .\\'     :                                _\\r\\n             | .\\\\ |    o  |__o.,\\'                           _.-\\' \\'\\\\\\r\\n            \\'|\\\\| \\\\\\\\simp.txt\\x001505\\x00               _..-...\\r\\n              ,Y+  .:.:\\\\_\\r\\n             | |./\\'     ``-\\\\\\r\\n             |,\\'`           `.\\r\\n             |               `_\\r\\n             |     ,-\\'\\'-. ,-\\'\\'\\':\\r\\n             |    /      .\\'     :                                _\\r\\n             | .\\\\ |    o  |__o.,\\'                           _.-\\' \\'\\\\\\r\\n            \\'|\\\\| \\\\\\\\simp.txt\\x001505\\x00               _..-...\\r\\n              ,Y+  .:.:\\\\_\\r\\n             | |./\\'     ``-\\\\\\r\\n             |,\\'`           `.\\r\\n             |               `_\\r\\n             |     ,-\\'\\'-. ,-\\'\\'\\':\\r\\n             |    /      .\\'     :                                _\\r\\n             | .\\\\ |    o  |__o.,\\'                           _.-\\' \\'\\\\\\r\\n            \\'|\\\\| \\\\\\\\simp.txt\\x001505\\x00               _..-...\\r\\n              ,Y+  .:.:\\\\_\\r\\n             | |./\\'     ``-\\\\\\r\\n             |,\\'`           `.\\r\\n             |               `_\\r\\n             |     ,-\\'\\'-. ,-\\'\\'\\':\\r\\n             |    /      .\\'     :                                _\\r\\n             | .\\\\ |    o  |__o.,\\'                           _.-\\' \\'\\\\\\r\\n            \\'|\\\\| \\\\\\\\simp.txt\\x001505\\x00               _..-...\\r\\n              ,Y+  .:.:\\\\_\\r\\n             | |./\\'     ``-\\\\\\r\\n             |,\\'`           `.\\r\\n             |               `_\\r\\n             |     ,-\\'\\'-. ,-\\'\\'\\':\\r\\n             |    /      .\\'     :                                _\\r\\n             | .\\\\ |    o  |__o.,\\'                           _.-\\' \\'\\\\\\r\\n            \\'|\\\\| \\\\\\\\simp.txt\\x001505\\x00               _..-...\\r\\n              ,Y+  .:.:\\\\_\\r\\n             | |./\\'     ``-\\\\\\r\\n             |,\\'`           `.\\r\\n             |               `_\\r\\n             |     ,-\\'\\'-. ,-\\'\\'\\':\\r\\n             |    /      .\\'     :                                _\\r\\n             | .\\\\ |    o  |__o.,\\'                           _.-\\' \\'\\\\\\r\\n            \\'|\\\\| \\\\\\\\simp.txt\\x001505\\x00               _..-...\\r\\n              ,Y+  .:.:\\\\_\\r\\n             | |./\\'     ``-\\\\\\r\\n             |,\\'`           `.\\r\\n             |               `_\\r\\n             |     ,-\\'\\'-. ,-\\'\\'\\':\\r\\n             |    /      .\\'     :                                _\\r\\n             | .\\\\ |    o  |__o.,\\'                           _.-\\' \\'\\\\\\r\\n            \\'|\\\\| \\\\\\\\simp.txt\\x001505\\x00               _..-...\\r\\n              ,Y+  .:.:\\\\_\\r\\n             | |./\\'     ``-\\\\\\r\\n             |,\\'`           `.\\r\\n             |               `_\\r\\n             |     ,-\\'\\'-. ,-\\'\\'\\':\\r\\n             |    /      .\\'     :                                _\\r\\n             | .\\\\ |    o  |__o.,\\'                           _.-\\' \\'\\\\\\r\\n            \\'|\\\\| \\\\\\\\simp.txt\\x001505\\x00               _..-...\\r\\n              ,Y+  .:.:\\\\_\\r\\n             | |./\\'     ``-\\\\\\r\\n             |,\\'`           `.\\r\\n             |               `_\\r\\n             |     ,-\\'\\'-. ,-\\'\\'\\':\\r\\n             |    /      .\\'     :                                _\\r\\n             | .\\\\ |    o  |__o.,\\'                           _.-\\' \\'\\\\\\r\\n            \\'|\\\\| \\\\\\\\simp.txt\\x001505\\x00               _..-...\\r\\n              ,Y+  .:.:\\\\_\\r\\n             | |./\\'     ``-\\\\\\r\\n             |,\\'`           `.\\r\\n             |               `_\\r\\n             |     ,-\\'\\'-. ,-\\'\\'\\':\\r\\n             |    /      .\\'     :                                _\\r\\n             | .\\\\ |    o  |__o.,\\'                           _.-\\' \\'\\\\\\r\\n            \\'|\\\\| \\\\\\\\simp.txt\\x001505\\x00               _..-...\\r\\n              ,Y+  .:.:\\\\_\\r\\n             | |./\\'     ``-\\\\\\r\\n             |,\\'`           `.\\r\\n             |               `_\\r\\n             |     ,-\\'\\'-. ,-\\'\\'\\':\\r\\n             |    /      .\\'     :                                _\\r\\n             | .\\\\ |    o  |__o.,\\'                           _.-\\' \\'\\\\\\r\\n            \\'|\\\\| \\\\\\\\simp.txt\\x001505\\x00               _..-...\\r\\n              ,Y+  .:.:\\\\_\\r\\n             | |./\\'     ``-\\\\\\r\\n             |,\\'`           `.\\r\\n             |               `_\\r\\n             |     ,-\\'\\'-. ,-\\'\\'\\':\\r\\n             |    /      .\\'     :                                _\\r\\n             | .\\\\ |    o  |__o.,\\'                           _.-\\' \\'\\\\\\r\\n            \\'|\\\\| \\\\\\\\simp.txt\\x001505\\x00               _..-...\\r\\n              ,Y+  .:.:\\\\_\\r\\n             | |./\\'     ``-\\\\\\r\\n             |,\\'`           `.\\r\\n             |               `_\\r\\n             |     ,-\\'\\'-. ,-\\'\\'\\':\\r\\n             |    /      .\\'     :                                _\\r\\n             | .\\\\ |    o  |__o.,\\'                           _.-\\' \\'\\\\\\r\\n            \\'|\\\\| \\\\\\\\simp.txt\\x001505\\x00               _..-...\\r\\n              ,Y+  .:.:\\\\_\\r\\n             | |./\\'     ``-\\\\\\r\\n             |,\\'`           `.\\r\\n             |               `_\\r\\n             |     ,-\\'\\'-. ,-\\'\\'\\':\\r\\n             |    /      .\\'     :                                _\\r\\n             | .\\\\ |    o  |__o.,\\'                           _.-\\' \\'\\\\\\r\\n            \\'|\\\\| \\\\\\\\simp.txt\\x001505\\x00               _..-...\\r\\n              ,Y+  .:.:\\\\_\\r\\n             | |./\\'     ``-\\\\\\r\\n             |,\\'`           `.\\r\\n             |               `_\\r\\n             |     ,-\\'\\'-. ,-\\'\\'\\':\\r\\n             |    /      .\\'     :                                _\\r\\n             | .\\\\ |    o  |__o.,\\'                           _.-\\' \\'\\\\\\r\\n            \\'|\\\\| \\\\\\\\simp.txt\\x001505\\x00               _..-...\\r\\n              ,Y+  .:.:\\\\_\\r\\n             | |./\\'     ``-\\\\\\r\\n             |,\\'`           `.\\r\\n             |               `_\\r\\n             |     ,-\\'\\'-. ,-\\'\\'\\':\\r\\n             |    /      .\\'     :                                _\\r\\n             | .\\\\ |    o  |__o.,\\'                           _.-\\' \\'\\\\\\r\\n            \\'|\\\\| \\\\\\\\simp.txt\\x001505\\x00               _..-...\\r\\n              ,Y+  .:.:\\\\_\\r\\n             | |./\\'     ``-\\\\\\r\\n             |,\\'`           `.\\r\\n             |               `_\\r\\n             |     ,-\\'\\'-. ,-\\'\\'\\':\\r\\n             |    /      .\\'     :                                _\\r\\n             | .\\\\ |    o  |__o.,\\'                           _.-\\' \\'\\\\\\r\\n            \\'|\\\\| \\\\\\\\simp.txt\\x001505\\x00               _..-...\\r\\n              ,Y+  .:.:\\\\_\\r\\n             | |./\\'     ``-\\\\\\r\\n             |,\\'`           `.\\r\\n             |               `_\\r\\n             |     ,-\\'\\'-. ,-\\'\\'\\':\\r\\n             |    /      .\\'     :                                _\\r\\n             | .\\\\ |    o  |__o.,\\'                           _.-\\' \\'\\\\\\r\\n            \\'|\\\\| \\\\\\\\simp.txt\\x001505\\x00               _..-...\\r\\n              ,Y+  .:.:\\\\_\\r\\n             | |./\\'     ``-\\\\\\r\\n             |,\\'`           `.\\r\\n             |               `_\\r\\n             |     ,-\\'\\'-. ,-\\'\\'\\':\\r\\n             |    /      .\\'     :                                _\\r\\n             | .\\\\ |    o  |__o.,\\'                           _.-\\' \\'\\\\\\r\\n            \\'|\\\\| \\\\\\\\simp.txt\\x001505\\x00               _..-...\\r\\n              ,Y+  .:.:\\\\_\\r\\n             | |./\\'     ``-\\\\\\r\\n             |,\\'`           `.\\r\\n             |               `_\\r\\n             |     ,-\\'\\'-. ,-\\'\\'\\':\\r\\n             |    /      .\\'     :                                _\\r\\n             | .\\\\ |    o  |__o.,\\'                           _.-\\' \\'\\\\\\r\\n            \\'|\\\\| \\\\\\\\simp.txt\\x001505\\x00               _..-...\\r\\n              ,Y+  .:.:\\\\_\\r\\n             | |./\\'     ``-\\\\\\r\\n             |,\\'`           `.\\r\\n             |               `_\\r\\n             |     ,-\\'\\'-. ,-\\'\\'\\':\\r\\n             |    /      .\\'     :                                _\\r\\n             | .\\\\ |    o  |__o.,\\'                           _.-\\' \\'\\\\\\r\\n            \\'|\\\\| \\\\\\\\simp.txt\\x001505\\x00               _..-...\\r\\n              ,Y+  .:.:\\\\_\\r\\n             | |./\\'     ``-\\\\\\r\\n             |,\\'`           `.\\r\\n             |               `_\\r\\n             |     ,-\\'\\'-. ,-\\'\\'\\':\\r\\n             |    /      .\\'     :                                _\\r\\n             | .\\\\ |    o  |__o.,\\'                           _.-\\' \\'\\\\\\r\\n            \\'|\\\\| \\\\\\\\simp.txt\\x001505\\x00               _..-...\\r\\n              ,Y+  .:.:\\\\_\\r\\n             | |./\\'     ``-\\\\\\r\\n             |,\\'`           `.\\r\\n             |               `_\\r\\n             |     ,-\\'\\'-. ,-\\'\\'\\':\\r\\n             |    /      .\\'     :                                _\\r\\n             | .\\\\ |    o  |__o.,\\'                           _.-\\' \\'\\\\\\r\\n            \\'|\\\\| \\\\\\\\simp.txt\\x001505\\x00               _..-...\\r\\n              ,Y+  .:.:\\\\_\\r\\n             | |./\\'     ``-\\\\\\r\\n             |,\\'`           `.\\r\\n             |               `_\\r\\n             |     ,-\\'\\'-. ,-\\'\\'\\':\\r\\n             |    /      .\\'     :                                _\\r\\n             | .\\\\ |    o  |__o.,\\'                           _.-\\' \\'\\\\\\r\\n            \\'|\\\\| \\\\\\\\simp.txt\\x001505\\x00               _..-...\\r\\n              ,Y+  .:.:\\\\_\\r\\n             | |./\\'     ``-\\\\\\r\\n             |,\\'`           `.\\r\\n             |               `_\\r\\n             |     ,-\\'\\'-. ,-\\'\\'\\':\\r\\n             |    /      .\\'     :                                _\\r\\n             | .\\\\ |    o  |__o.,\\'                           _.-\\' \\'\\\\\\r\\n            \\'|\\\\| \\\\\\\\')"
      ]
     },
     "execution_count": 24,
     "metadata": {},
     "output_type": "execute_result"
    }
   ],
   "source": [
    "# XOR the whole sequence\n",
    "predict = xor(demodulated_data, rand_for_xor_Rx)\n",
    "str_to_bytearray(predict)"
   ]
  },
  {
   "cell_type": "code",
   "execution_count": 27,
   "metadata": {},
   "outputs": [
    {
     "data": {
      "text/plain": [
       "\"\\n# need an array\\ndemodulated_data_array = np.array(list(demodulated_data), dtype=int)\\n# modulate\\ny = np.array(10*(.5-demodulated_data_array), dtype=float)\\n# try to decode a short part first\\ny_short = y[:K*1000]\\n# codeword-block length\\nNv = mycode.Nv\\n# estimate sigma2\\nsigma2 = 3\\n# convert to log-likelihood ratios\\nyl = ch2llr(y_short, sigma2)\\n# preallocate\\nrecovered_codeword = np.zeros(len(yl))\\n# decode\\nfor i in range(len(yl)//Nv):\\n    app, it = mycode.decode(yl[i*Nv:(i+1)*Nv], algorythm)\\n    recovered_codeword[i*K:(i+1)*K] = app[:K]\\n    print(str(i)+'/'+str(len(yl)//Nv)) # progress\\n    print(it) # iteration\""
      ]
     },
     "execution_count": 27,
     "metadata": {},
     "output_type": "execute_result"
    }
   ],
   "source": [
    "'''\n",
    "# need an array\n",
    "demodulated_data_array = np.array(list(demodulated_data), dtype=int)\n",
    "# modulate\n",
    "y = np.array(10*(.5-demodulated_data_array), dtype=float)\n",
    "# try to decode a short part first\n",
    "y_short = y[:K*1000]\n",
    "# codeword-block length\n",
    "Nv = mycode.Nv\n",
    "# estimate sigma2\n",
    "sigma2 = 3\n",
    "# convert to log-likelihood ratios\n",
    "yl = ch2llr(y_short, sigma2)\n",
    "# preallocate\n",
    "recovered_codeword = np.zeros(len(yl))\n",
    "# decode\n",
    "for i in range(len(yl)//Nv):\n",
    "    app, it = mycode.decode(yl[i*Nv:(i+1)*Nv], algorythm)\n",
    "    recovered_codeword[i*K:(i+1)*K] = app[:K]\n",
    "    print(str(i)+'/'+str(len(yl)//Nv)) # progress\n",
    "    print(it) # iteration'''"
   ]
  },
  {
   "cell_type": "code",
   "execution_count": 28,
   "metadata": {},
   "outputs": [
    {
     "data": {
      "text/plain": [
       "\"recovered_codeword_array = np.array(recovered_codeword<0, dtype=int)\\nrecovered_codeword_binary = ''.join(str(int(x)) for x in recovered_codeword_array)\""
      ]
     },
     "execution_count": 28,
     "metadata": {},
     "output_type": "execute_result"
    }
   ],
   "source": [
    "'''recovered_codeword_array = np.array(recovered_codeword<0, dtype=int)\n",
    "recovered_codeword_binary = ''.join(str(int(x)) for x in recovered_codeword_array)'''"
   ]
  },
  {
   "cell_type": "code",
   "execution_count": 25,
   "metadata": {},
   "outputs": [
    {
     "name": "stdout",
     "output_type": "stream",
     "text": [
      "simp.txt 1505\n"
     ]
    }
   ],
   "source": [
    "Filename, Length, data_bits = remove_metadata(predict)\n",
    "print(Filename, Length)"
   ]
  },
  {
   "cell_type": "code",
   "execution_count": 31,
   "metadata": {},
   "outputs": [],
   "source": [
    "# If it is NOT text, don't include .decode('utf-8', 'replace')\n",
    "decoded = str_to_bytearray(data_bits)#.decode('utf-8', 'replace')"
   ]
  },
  {
   "cell_type": "code",
   "execution_count": 33,
   "metadata": {},
   "outputs": [
    {
     "data": {
      "text/plain": [
       "bytearray(b'               _..-...\\r\\n              ,Y+  .:.:\\\\_\\r\\n             | |./\\'     ``-\\\\\\r\\n             |,\\'`           `.\\r\\n             |               `_\\r\\n             |     ,-\\'\\'-. ,-\\'\\'\\':\\r\\n             |    /      .\\'     :                                _\\r\\n             | .\\\\ |    o  |__o.,\\'                           _.-\\' \\'\\\\\\r\\n            \\'|\\\\| \\\\\\\\      /    `)                        ,..,\\'     ,\\'\\r\\n             |`|  \\' `..- .....<:                      ,\\'    `. ,-:\\r\\n             \\' ,-   _.-\\'        `.                 _,\\'       +\\'  |\\r\\n              |`|  ,\\'            \\'.              ,\\'       - _/_,\\'-\\\\\\r\\n               `.Y|   _,,.. ____./\\'           ,-\\'         /\\'|`\\'  _|\\r\\n                 ||  | |  |  | |           _.-              `--+\\'\\r\\n                 |-.  \"|:.|..|-.    _,.. ,/\\'               ,..Y\\'\\r\\n                 / `\\\\.       ,-\\'  ,\\' /,,\\'               _,\\'\\r\\n                .:_    -----\\'\\'\\'|.:   |             _,Y\\'\\'\\r\\n               /  \\'`\\'\\';\\'.     /:  \\\\  |        _,Y-\\'\\r\\n               |      |  \\' .  | `._| |     _,\\'\\r\\n           _/-\\'\\';.. _ |     ` |   \\\\   `.Y\\'i\\'\\r\\n         ,\\'    ,\\'    \\'             |    i/\\'\\r\\n      ,.\\'      /                   ..--\\'\\r\\n      |       |                     \\\\\\r\\n      : .     /                      \\' .\\r\\n     /\\'  `._ .\\'                         `.\\r\\n     /     _\\'\\'                            \\\\\\r\\n    /     ./                               \\\\\\r\\n   /      /                                 \\\\\\r\\n  /      |                                   \\\\\\r\\n /     ,\\'|                        LucC        |')"
      ]
     },
     "execution_count": 33,
     "metadata": {},
     "output_type": "execute_result"
    }
   ],
   "source": [
    "decoded"
   ]
  },
  {
   "cell_type": "code",
   "execution_count": 34,
   "metadata": {},
   "outputs": [],
   "source": [
    "newFile = open(\"Data_Files/gr3ch1.txt\", \"wb\")\n",
    "newFile.write(decoded)\n",
    "newFile.close()"
   ]
  },
  {
   "cell_type": "code",
   "execution_count": 28,
   "metadata": {},
   "outputs": [
    {
     "name": "stdout",
     "output_type": "stream",
     "text": [
      "1.0\n"
     ]
    }
   ],
   "source": [
    "correct = 0\n",
    "est = data_bits\n",
    "act = kokoro_binary\n",
    "\n",
    "max_index = min(len(est), len(act))\n",
    "for i in range(max_index):\n",
    "    if est[i] == act[i]:\n",
    "        correct += 1\n",
    "        \n",
    "print(correct/max_index)"
   ]
  },
  {
   "cell_type": "code",
   "execution_count": null,
   "metadata": {},
   "outputs": [],
   "source": []
  }
 ],
 "metadata": {
  "kernelspec": {
   "display_name": "Python 3",
   "language": "python",
   "name": "python3"
  },
  "language_info": {
   "codemirror_mode": {
    "name": "ipython",
    "version": 3
   },
   "file_extension": ".py",
   "mimetype": "text/x-python",
   "name": "python",
   "nbconvert_exporter": "python",
   "pygments_lexer": "ipython3",
   "version": "3.7.4"
  }
 },
 "nbformat": 4,
 "nbformat_minor": 2
}
